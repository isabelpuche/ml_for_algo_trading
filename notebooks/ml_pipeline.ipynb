{
 "cells": [
  {
   "cell_type": "markdown",
   "metadata": {},
   "source": [
    "1. [Load data bundle](#Load-data-bundle)\n",
    "\n",
    "1. [Feature's Engineering](#Feature's-Engineering)\n",
    "        \n",
    "1. [Trading Algorithm with ML Ensemble Model](#Trading-Algorithm-with-ML-Ensemble-Model)\n",
    "    1. [ML Ensemble Model Design](#ML-Ensemble-Model-Design)\n",
    "    1. [Plug-in Ensemble Model implementation into Trading Bot](#Plug-in-Ensemble-Model-implementation-into-Trading-Bot)\n",
    "    1. [Backtest ML Trading Strategy](#Backtest-ML-Trading-Strategy)"
   ]
  },
  {
   "cell_type": "markdown",
   "metadata": {},
   "source": [
    "## Import Libraries"
   ]
  },
  {
   "cell_type": "code",
   "execution_count": 1,
   "metadata": {},
   "outputs": [],
   "source": [
    "# Load IPython Magic\n",
    "%load_ext watermark\n",
    "%load_ext zipline"
   ]
  },
  {
   "cell_type": "code",
   "execution_count": 2,
   "metadata": {},
   "outputs": [],
   "source": [
    "# Import Libraries\n",
    "import numpy as np\n",
    "import matplotlib.pyplot as plt\n",
    "%matplotlib inline\n",
    "import seaborn as sns\n",
    "import pandas as pd\n",
    "import zipline\n",
    "from yahoofinancials import YahooFinancials\n",
    "import warnings\n",
    "\n",
    "\n",
    "# Default working directory\n",
    "# os.chdir(\"../data\")\n",
    "\n",
    "# Display maximum columns\n",
    "pd.set_option('display.max_columns', None)\n",
    "\n",
    "# Seaborn graphic style as default\n",
    "plt.style.use('seaborn')\n",
    "# Graphics default size\n",
    "plt.rcParams['figure.figsize'] = [16, 9]\n",
    "plt.rcParams['figure.dpi'] = 200\n",
    "\n",
    "# Warnings\n",
    "warnings.simplefilter(action='ignore', category=FutureWarning)"
   ]
  },
  {
   "cell_type": "markdown",
   "metadata": {},
   "source": [
    "# Load data bundle\n",
    "<div style = \"float:right\"><a style=\"text-decoration:none\" href = \"#inicio\">Inicio</a></div>"
   ]
  },
  {
   "cell_type": "markdown",
   "metadata": {},
   "source": [
    "More details on data bundle ingesting and loading in Zipline can be found in the Jupyter Notebook <code>eda_quandl.ipynb</code>."
   ]
  },
  {
   "cell_type": "code",
   "execution_count": 3,
   "metadata": {},
   "outputs": [],
   "source": [
    "from zipline.data.data_portal import DataPortal\n",
    "from zipline.data import bundles\n",
    "from zipline.utils.calendars import get_calendar\n",
    "\n",
    "import os\n",
    "\n",
    "from zipline.utils.run_algo import load_extensions\n",
    "\n",
    "load_extensions(\n",
    "    default=True,\n",
    "    extensions=[],\n",
    "    strict=True,\n",
    "    environ=os.environ,\n",
    ")"
   ]
  },
  {
   "cell_type": "code",
   "execution_count": 4,
   "metadata": {},
   "outputs": [],
   "source": [
    "bundle_data = bundles.load('quandl')"
   ]
  },
  {
   "cell_type": "code",
   "execution_count": 5,
   "metadata": {},
   "outputs": [
    {
     "name": "stdout",
     "output_type": "stream",
     "text": [
      "<class 'zipline.data.bundles.core.BundleData'>\n"
     ]
    }
   ],
   "source": [
    "print(type(bundle_data))"
   ]
  },
  {
   "cell_type": "code",
   "execution_count": 6,
   "metadata": {},
   "outputs": [],
   "source": [
    "end_date = pd.Timestamp(\"2018-03-27\", tz=\"utc\")"
   ]
  },
  {
   "cell_type": "code",
   "execution_count": 7,
   "metadata": {},
   "outputs": [
    {
     "data": {
      "text/plain": [
       "Timestamp('1990-01-02 00:00:00+0000', tz='UTC')"
      ]
     },
     "execution_count": 7,
     "metadata": {},
     "output_type": "execute_result"
    }
   ],
   "source": [
    "bundle_data.equity_daily_bar_reader.first_trading_day"
   ]
  },
  {
   "cell_type": "code",
   "execution_count": 8,
   "metadata": {},
   "outputs": [],
   "source": [
    "data_por = DataPortal(\n",
    "    asset_finder=bundle_data.asset_finder,\n",
    "    trading_calendar=get_calendar(\"NYSE\"),\n",
    "    first_trading_day=bundle_data.equity_daily_bar_reader.first_trading_day,\n",
    "    equity_daily_reader=bundle_data.equity_daily_bar_reader\n",
    ")"
   ]
  },
  {
   "cell_type": "code",
   "execution_count": 9,
   "metadata": {},
   "outputs": [],
   "source": [
    "AAPL = data_por.asset_finder.lookup_symbol(\n",
    "    'AAPL',\n",
    "    as_of_date=None\n",
    ")"
   ]
  },
  {
   "cell_type": "code",
   "execution_count": 10,
   "metadata": {},
   "outputs": [],
   "source": [
    "df = data_por.get_history_window(\n",
    "    assets=[AAPL],\n",
    "    end_dt=end_date,\n",
    "    bar_count=7115,\n",
    "    frequency='1d',\n",
    "    data_frequency='daily',\n",
    "    field='open'\n",
    ")"
   ]
  },
  {
   "cell_type": "code",
   "execution_count": 11,
   "metadata": {},
   "outputs": [
    {
     "data": {
      "text/html": [
       "<div>\n",
       "<style scoped>\n",
       "    .dataframe tbody tr th:only-of-type {\n",
       "        vertical-align: middle;\n",
       "    }\n",
       "\n",
       "    .dataframe tbody tr th {\n",
       "        vertical-align: top;\n",
       "    }\n",
       "\n",
       "    .dataframe thead th {\n",
       "        text-align: right;\n",
       "    }\n",
       "</style>\n",
       "<table border=\"1\" class=\"dataframe\">\n",
       "  <thead>\n",
       "    <tr style=\"text-align: right;\">\n",
       "      <th></th>\n",
       "      <th>Equity(8 [AAPL])</th>\n",
       "    </tr>\n",
       "  </thead>\n",
       "  <tbody>\n",
       "    <tr>\n",
       "      <th>1990-01-02 00:00:00+00:00</th>\n",
       "      <td>35.25</td>\n",
       "    </tr>\n",
       "    <tr>\n",
       "      <th>1990-01-03 00:00:00+00:00</th>\n",
       "      <td>38.00</td>\n",
       "    </tr>\n",
       "    <tr>\n",
       "      <th>1990-01-04 00:00:00+00:00</th>\n",
       "      <td>38.25</td>\n",
       "    </tr>\n",
       "    <tr>\n",
       "      <th>1990-01-05 00:00:00+00:00</th>\n",
       "      <td>37.75</td>\n",
       "    </tr>\n",
       "    <tr>\n",
       "      <th>1990-01-08 00:00:00+00:00</th>\n",
       "      <td>37.50</td>\n",
       "    </tr>\n",
       "  </tbody>\n",
       "</table>\n",
       "</div>"
      ],
      "text/plain": [
       "                           Equity(8 [AAPL])\n",
       "1990-01-02 00:00:00+00:00             35.25\n",
       "1990-01-03 00:00:00+00:00             38.00\n",
       "1990-01-04 00:00:00+00:00             38.25\n",
       "1990-01-05 00:00:00+00:00             37.75\n",
       "1990-01-08 00:00:00+00:00             37.50"
      ]
     },
     "execution_count": 11,
     "metadata": {},
     "output_type": "execute_result"
    }
   ],
   "source": [
    "df.head()"
   ]
  },
  {
   "cell_type": "code",
   "execution_count": 12,
   "metadata": {},
   "outputs": [],
   "source": [
    "df.index = pd.DatetimeIndex(df.index)"
   ]
  },
  {
   "cell_type": "code",
   "execution_count": 13,
   "metadata": {},
   "outputs": [],
   "source": [
    "df['close'] = df[list(df.columns)[0]]"
   ]
  },
  {
   "cell_type": "code",
   "execution_count": 14,
   "metadata": {},
   "outputs": [
    {
     "data": {
      "text/html": [
       "<div>\n",
       "<style scoped>\n",
       "    .dataframe tbody tr th:only-of-type {\n",
       "        vertical-align: middle;\n",
       "    }\n",
       "\n",
       "    .dataframe tbody tr th {\n",
       "        vertical-align: top;\n",
       "    }\n",
       "\n",
       "    .dataframe thead th {\n",
       "        text-align: right;\n",
       "    }\n",
       "</style>\n",
       "<table border=\"1\" class=\"dataframe\">\n",
       "  <thead>\n",
       "    <tr style=\"text-align: right;\">\n",
       "      <th></th>\n",
       "      <th>close</th>\n",
       "    </tr>\n",
       "  </thead>\n",
       "  <tbody>\n",
       "    <tr>\n",
       "      <th>1990-01-02 00:00:00+00:00</th>\n",
       "      <td>35.25</td>\n",
       "    </tr>\n",
       "    <tr>\n",
       "      <th>1990-01-03 00:00:00+00:00</th>\n",
       "      <td>38.00</td>\n",
       "    </tr>\n",
       "    <tr>\n",
       "      <th>1990-01-04 00:00:00+00:00</th>\n",
       "      <td>38.25</td>\n",
       "    </tr>\n",
       "    <tr>\n",
       "      <th>1990-01-05 00:00:00+00:00</th>\n",
       "      <td>37.75</td>\n",
       "    </tr>\n",
       "    <tr>\n",
       "      <th>1990-01-08 00:00:00+00:00</th>\n",
       "      <td>37.50</td>\n",
       "    </tr>\n",
       "  </tbody>\n",
       "</table>\n",
       "</div>"
      ],
      "text/plain": [
       "                           close\n",
       "1990-01-02 00:00:00+00:00  35.25\n",
       "1990-01-03 00:00:00+00:00  38.00\n",
       "1990-01-04 00:00:00+00:00  38.25\n",
       "1990-01-05 00:00:00+00:00  37.75\n",
       "1990-01-08 00:00:00+00:00  37.50"
      ]
     },
     "execution_count": 14,
     "metadata": {},
     "output_type": "execute_result"
    }
   ],
   "source": [
    "df = df.drop(columns=[list(df.columns)[0]])\n",
    "df.head()"
   ]
  },
  {
   "cell_type": "markdown",
   "metadata": {},
   "source": [
    "# Feature's Engineering\n",
    "<div style = \"float:right\"><a style=\"text-decoration:none\" href = \"#inicio\">Inicio</a></div>"
   ]
  },
  {
   "cell_type": "markdown",
   "metadata": {},
   "source": [
    "Algorithmic trading strategies are driven by signals that trigger buy and sell asset orders aiming at generating superior returns relative to a benchmark (such as an index). The part of an asset's return that is not explained by exposure to this benchmark is called alpha, and hence the signals producing such uncorrelated returns are also called <b>alpha factors</b>. <br>\n",
    "\n",
    "More concretely, alpha factors are transformations of raw market, fundamental or alternative data, that aim to predict asset price movements. They are designed to capture risks that drive asset returns. Every time the trading strategy evaluates the factor, it obtains a signal.<br>\n",
    "\n",
    "In theory, risk factors should be independent of each other, but more often than not, they appear to be correlated. For this reason, it is adviced to consider one or more factors in trading. The most common ones in trading are momentum and sentiment factors and fundamental (or value) factors.\n",
    "\n",
    "Zipline provides many built-in factors from a broad range of data sources, that can be combined with other Python libraries (Numpy, Pandas, Ta-lib) to derive more complex factors. However, for this particular project, we shall be concerned with <b>technical analysis</b> and disregard other factors explaining asset returns.<br>\n",
    "\n",
    "We shall devise an intuitive and simple strategy: with 40 forward simple returns' newly-created variables, and for each point in time, we shall train 32 values and predict the remaining 8 ones. This converts our problem into a <i>multi-target regression</i>, which we shall address conveniently in further steps."
   ]
  },
  {
   "cell_type": "markdown",
   "metadata": {},
   "source": [
    "## Factor's preprocessing"
   ]
  },
  {
   "cell_type": "code",
   "execution_count": 15,
   "metadata": {},
   "outputs": [],
   "source": [
    "df['1d'] = df.shift(-1)"
   ]
  },
  {
   "cell_type": "code",
   "execution_count": 16,
   "metadata": {},
   "outputs": [],
   "source": [
    "for d in range(2, 41):\n",
    "    col = '%dd'% d\n",
    "    df[col] = df['close'].shift(-1 * d)"
   ]
  },
  {
   "cell_type": "code",
   "execution_count": 17,
   "metadata": {},
   "outputs": [],
   "source": [
    "df = df.dropna()"
   ]
  },
  {
   "cell_type": "code",
   "execution_count": 18,
   "metadata": {},
   "outputs": [
    {
     "data": {
      "text/html": [
       "<div>\n",
       "<style scoped>\n",
       "    .dataframe tbody tr th:only-of-type {\n",
       "        vertical-align: middle;\n",
       "    }\n",
       "\n",
       "    .dataframe tbody tr th {\n",
       "        vertical-align: top;\n",
       "    }\n",
       "\n",
       "    .dataframe thead th {\n",
       "        text-align: right;\n",
       "    }\n",
       "</style>\n",
       "<table border=\"1\" class=\"dataframe\">\n",
       "  <thead>\n",
       "    <tr style=\"text-align: right;\">\n",
       "      <th></th>\n",
       "      <th>close</th>\n",
       "      <th>1d</th>\n",
       "      <th>2d</th>\n",
       "      <th>3d</th>\n",
       "      <th>4d</th>\n",
       "      <th>5d</th>\n",
       "      <th>6d</th>\n",
       "      <th>7d</th>\n",
       "      <th>8d</th>\n",
       "      <th>9d</th>\n",
       "      <th>10d</th>\n",
       "      <th>11d</th>\n",
       "      <th>12d</th>\n",
       "      <th>13d</th>\n",
       "      <th>14d</th>\n",
       "      <th>15d</th>\n",
       "      <th>16d</th>\n",
       "      <th>17d</th>\n",
       "      <th>18d</th>\n",
       "      <th>19d</th>\n",
       "      <th>20d</th>\n",
       "      <th>21d</th>\n",
       "      <th>22d</th>\n",
       "      <th>23d</th>\n",
       "      <th>24d</th>\n",
       "      <th>25d</th>\n",
       "      <th>26d</th>\n",
       "      <th>27d</th>\n",
       "      <th>28d</th>\n",
       "      <th>29d</th>\n",
       "      <th>30d</th>\n",
       "      <th>31d</th>\n",
       "      <th>32d</th>\n",
       "      <th>33d</th>\n",
       "      <th>34d</th>\n",
       "      <th>35d</th>\n",
       "      <th>36d</th>\n",
       "      <th>37d</th>\n",
       "      <th>38d</th>\n",
       "      <th>39d</th>\n",
       "      <th>40d</th>\n",
       "    </tr>\n",
       "  </thead>\n",
       "  <tbody>\n",
       "    <tr>\n",
       "      <th>2018-01-23 00:00:00+00:00</th>\n",
       "      <td>177.300</td>\n",
       "      <td>177.250</td>\n",
       "      <td>174.505</td>\n",
       "      <td>172.000</td>\n",
       "      <td>170.160</td>\n",
       "      <td>165.525</td>\n",
       "      <td>166.870</td>\n",
       "      <td>167.165</td>\n",
       "      <td>166.000</td>\n",
       "      <td>159.100</td>\n",
       "      <td>154.830</td>\n",
       "      <td>163.085</td>\n",
       "      <td>160.290</td>\n",
       "      <td>157.070</td>\n",
       "      <td>158.500</td>\n",
       "      <td>161.950</td>\n",
       "      <td>163.045</td>\n",
       "      <td>169.79</td>\n",
       "      <td>172.36</td>\n",
       "      <td>172.05</td>\n",
       "      <td>172.83</td>\n",
       "      <td>171.80</td>\n",
       "      <td>173.67</td>\n",
       "      <td>176.35</td>\n",
       "      <td>179.10</td>\n",
       "      <td>179.26</td>\n",
       "      <td>178.54</td>\n",
       "      <td>172.80</td>\n",
       "      <td>175.21</td>\n",
       "      <td>177.91</td>\n",
       "      <td>174.94</td>\n",
       "      <td>175.48</td>\n",
       "      <td>177.96</td>\n",
       "      <td>180.29</td>\n",
       "      <td>182.59</td>\n",
       "      <td>180.32</td>\n",
       "      <td>178.50</td>\n",
       "      <td>178.65</td>\n",
       "      <td>177.32</td>\n",
       "      <td>175.24</td>\n",
       "      <td>175.04</td>\n",
       "    </tr>\n",
       "    <tr>\n",
       "      <th>2018-01-24 00:00:00+00:00</th>\n",
       "      <td>177.250</td>\n",
       "      <td>174.505</td>\n",
       "      <td>172.000</td>\n",
       "      <td>170.160</td>\n",
       "      <td>165.525</td>\n",
       "      <td>166.870</td>\n",
       "      <td>167.165</td>\n",
       "      <td>166.000</td>\n",
       "      <td>159.100</td>\n",
       "      <td>154.830</td>\n",
       "      <td>163.085</td>\n",
       "      <td>160.290</td>\n",
       "      <td>157.070</td>\n",
       "      <td>158.500</td>\n",
       "      <td>161.950</td>\n",
       "      <td>163.045</td>\n",
       "      <td>169.790</td>\n",
       "      <td>172.36</td>\n",
       "      <td>172.05</td>\n",
       "      <td>172.83</td>\n",
       "      <td>171.80</td>\n",
       "      <td>173.67</td>\n",
       "      <td>176.35</td>\n",
       "      <td>179.10</td>\n",
       "      <td>179.26</td>\n",
       "      <td>178.54</td>\n",
       "      <td>172.80</td>\n",
       "      <td>175.21</td>\n",
       "      <td>177.91</td>\n",
       "      <td>174.94</td>\n",
       "      <td>175.48</td>\n",
       "      <td>177.96</td>\n",
       "      <td>180.29</td>\n",
       "      <td>182.59</td>\n",
       "      <td>180.32</td>\n",
       "      <td>178.50</td>\n",
       "      <td>178.65</td>\n",
       "      <td>177.32</td>\n",
       "      <td>175.24</td>\n",
       "      <td>175.04</td>\n",
       "      <td>170.00</td>\n",
       "    </tr>\n",
       "    <tr>\n",
       "      <th>2018-01-25 00:00:00+00:00</th>\n",
       "      <td>174.505</td>\n",
       "      <td>172.000</td>\n",
       "      <td>170.160</td>\n",
       "      <td>165.525</td>\n",
       "      <td>166.870</td>\n",
       "      <td>167.165</td>\n",
       "      <td>166.000</td>\n",
       "      <td>159.100</td>\n",
       "      <td>154.830</td>\n",
       "      <td>163.085</td>\n",
       "      <td>160.290</td>\n",
       "      <td>157.070</td>\n",
       "      <td>158.500</td>\n",
       "      <td>161.950</td>\n",
       "      <td>163.045</td>\n",
       "      <td>169.790</td>\n",
       "      <td>172.360</td>\n",
       "      <td>172.05</td>\n",
       "      <td>172.83</td>\n",
       "      <td>171.80</td>\n",
       "      <td>173.67</td>\n",
       "      <td>176.35</td>\n",
       "      <td>179.10</td>\n",
       "      <td>179.26</td>\n",
       "      <td>178.54</td>\n",
       "      <td>172.80</td>\n",
       "      <td>175.21</td>\n",
       "      <td>177.91</td>\n",
       "      <td>174.94</td>\n",
       "      <td>175.48</td>\n",
       "      <td>177.96</td>\n",
       "      <td>180.29</td>\n",
       "      <td>182.59</td>\n",
       "      <td>180.32</td>\n",
       "      <td>178.50</td>\n",
       "      <td>178.65</td>\n",
       "      <td>177.32</td>\n",
       "      <td>175.24</td>\n",
       "      <td>175.04</td>\n",
       "      <td>170.00</td>\n",
       "      <td>168.39</td>\n",
       "    </tr>\n",
       "    <tr>\n",
       "      <th>2018-01-26 00:00:00+00:00</th>\n",
       "      <td>172.000</td>\n",
       "      <td>170.160</td>\n",
       "      <td>165.525</td>\n",
       "      <td>166.870</td>\n",
       "      <td>167.165</td>\n",
       "      <td>166.000</td>\n",
       "      <td>159.100</td>\n",
       "      <td>154.830</td>\n",
       "      <td>163.085</td>\n",
       "      <td>160.290</td>\n",
       "      <td>157.070</td>\n",
       "      <td>158.500</td>\n",
       "      <td>161.950</td>\n",
       "      <td>163.045</td>\n",
       "      <td>169.790</td>\n",
       "      <td>172.360</td>\n",
       "      <td>172.050</td>\n",
       "      <td>172.83</td>\n",
       "      <td>171.80</td>\n",
       "      <td>173.67</td>\n",
       "      <td>176.35</td>\n",
       "      <td>179.10</td>\n",
       "      <td>179.26</td>\n",
       "      <td>178.54</td>\n",
       "      <td>172.80</td>\n",
       "      <td>175.21</td>\n",
       "      <td>177.91</td>\n",
       "      <td>174.94</td>\n",
       "      <td>175.48</td>\n",
       "      <td>177.96</td>\n",
       "      <td>180.29</td>\n",
       "      <td>182.59</td>\n",
       "      <td>180.32</td>\n",
       "      <td>178.50</td>\n",
       "      <td>178.65</td>\n",
       "      <td>177.32</td>\n",
       "      <td>175.24</td>\n",
       "      <td>175.04</td>\n",
       "      <td>170.00</td>\n",
       "      <td>168.39</td>\n",
       "      <td>168.07</td>\n",
       "    </tr>\n",
       "    <tr>\n",
       "      <th>2018-01-29 00:00:00+00:00</th>\n",
       "      <td>170.160</td>\n",
       "      <td>165.525</td>\n",
       "      <td>166.870</td>\n",
       "      <td>167.165</td>\n",
       "      <td>166.000</td>\n",
       "      <td>159.100</td>\n",
       "      <td>154.830</td>\n",
       "      <td>163.085</td>\n",
       "      <td>160.290</td>\n",
       "      <td>157.070</td>\n",
       "      <td>158.500</td>\n",
       "      <td>161.950</td>\n",
       "      <td>163.045</td>\n",
       "      <td>169.790</td>\n",
       "      <td>172.360</td>\n",
       "      <td>172.050</td>\n",
       "      <td>172.830</td>\n",
       "      <td>171.80</td>\n",
       "      <td>173.67</td>\n",
       "      <td>176.35</td>\n",
       "      <td>179.10</td>\n",
       "      <td>179.26</td>\n",
       "      <td>178.54</td>\n",
       "      <td>172.80</td>\n",
       "      <td>175.21</td>\n",
       "      <td>177.91</td>\n",
       "      <td>174.94</td>\n",
       "      <td>175.48</td>\n",
       "      <td>177.96</td>\n",
       "      <td>180.29</td>\n",
       "      <td>182.59</td>\n",
       "      <td>180.32</td>\n",
       "      <td>178.50</td>\n",
       "      <td>178.65</td>\n",
       "      <td>177.32</td>\n",
       "      <td>175.24</td>\n",
       "      <td>175.04</td>\n",
       "      <td>170.00</td>\n",
       "      <td>168.39</td>\n",
       "      <td>168.07</td>\n",
       "      <td>173.68</td>\n",
       "    </tr>\n",
       "  </tbody>\n",
       "</table>\n",
       "</div>"
      ],
      "text/plain": [
       "                             close       1d       2d       3d       4d  \\\n",
       "2018-01-23 00:00:00+00:00  177.300  177.250  174.505  172.000  170.160   \n",
       "2018-01-24 00:00:00+00:00  177.250  174.505  172.000  170.160  165.525   \n",
       "2018-01-25 00:00:00+00:00  174.505  172.000  170.160  165.525  166.870   \n",
       "2018-01-26 00:00:00+00:00  172.000  170.160  165.525  166.870  167.165   \n",
       "2018-01-29 00:00:00+00:00  170.160  165.525  166.870  167.165  166.000   \n",
       "\n",
       "                                5d       6d       7d       8d       9d  \\\n",
       "2018-01-23 00:00:00+00:00  165.525  166.870  167.165  166.000  159.100   \n",
       "2018-01-24 00:00:00+00:00  166.870  167.165  166.000  159.100  154.830   \n",
       "2018-01-25 00:00:00+00:00  167.165  166.000  159.100  154.830  163.085   \n",
       "2018-01-26 00:00:00+00:00  166.000  159.100  154.830  163.085  160.290   \n",
       "2018-01-29 00:00:00+00:00  159.100  154.830  163.085  160.290  157.070   \n",
       "\n",
       "                               10d      11d      12d      13d      14d  \\\n",
       "2018-01-23 00:00:00+00:00  154.830  163.085  160.290  157.070  158.500   \n",
       "2018-01-24 00:00:00+00:00  163.085  160.290  157.070  158.500  161.950   \n",
       "2018-01-25 00:00:00+00:00  160.290  157.070  158.500  161.950  163.045   \n",
       "2018-01-26 00:00:00+00:00  157.070  158.500  161.950  163.045  169.790   \n",
       "2018-01-29 00:00:00+00:00  158.500  161.950  163.045  169.790  172.360   \n",
       "\n",
       "                               15d      16d     17d     18d     19d     20d  \\\n",
       "2018-01-23 00:00:00+00:00  161.950  163.045  169.79  172.36  172.05  172.83   \n",
       "2018-01-24 00:00:00+00:00  163.045  169.790  172.36  172.05  172.83  171.80   \n",
       "2018-01-25 00:00:00+00:00  169.790  172.360  172.05  172.83  171.80  173.67   \n",
       "2018-01-26 00:00:00+00:00  172.360  172.050  172.83  171.80  173.67  176.35   \n",
       "2018-01-29 00:00:00+00:00  172.050  172.830  171.80  173.67  176.35  179.10   \n",
       "\n",
       "                              21d     22d     23d     24d     25d     26d  \\\n",
       "2018-01-23 00:00:00+00:00  171.80  173.67  176.35  179.10  179.26  178.54   \n",
       "2018-01-24 00:00:00+00:00  173.67  176.35  179.10  179.26  178.54  172.80   \n",
       "2018-01-25 00:00:00+00:00  176.35  179.10  179.26  178.54  172.80  175.21   \n",
       "2018-01-26 00:00:00+00:00  179.10  179.26  178.54  172.80  175.21  177.91   \n",
       "2018-01-29 00:00:00+00:00  179.26  178.54  172.80  175.21  177.91  174.94   \n",
       "\n",
       "                              27d     28d     29d     30d     31d     32d  \\\n",
       "2018-01-23 00:00:00+00:00  172.80  175.21  177.91  174.94  175.48  177.96   \n",
       "2018-01-24 00:00:00+00:00  175.21  177.91  174.94  175.48  177.96  180.29   \n",
       "2018-01-25 00:00:00+00:00  177.91  174.94  175.48  177.96  180.29  182.59   \n",
       "2018-01-26 00:00:00+00:00  174.94  175.48  177.96  180.29  182.59  180.32   \n",
       "2018-01-29 00:00:00+00:00  175.48  177.96  180.29  182.59  180.32  178.50   \n",
       "\n",
       "                              33d     34d     35d     36d     37d     38d  \\\n",
       "2018-01-23 00:00:00+00:00  180.29  182.59  180.32  178.50  178.65  177.32   \n",
       "2018-01-24 00:00:00+00:00  182.59  180.32  178.50  178.65  177.32  175.24   \n",
       "2018-01-25 00:00:00+00:00  180.32  178.50  178.65  177.32  175.24  175.04   \n",
       "2018-01-26 00:00:00+00:00  178.50  178.65  177.32  175.24  175.04  170.00   \n",
       "2018-01-29 00:00:00+00:00  178.65  177.32  175.24  175.04  170.00  168.39   \n",
       "\n",
       "                              39d     40d  \n",
       "2018-01-23 00:00:00+00:00  175.24  175.04  \n",
       "2018-01-24 00:00:00+00:00  175.04  170.00  \n",
       "2018-01-25 00:00:00+00:00  170.00  168.39  \n",
       "2018-01-26 00:00:00+00:00  168.39  168.07  \n",
       "2018-01-29 00:00:00+00:00  168.07  173.68  "
      ]
     },
     "execution_count": 18,
     "metadata": {},
     "output_type": "execute_result"
    }
   ],
   "source": [
    "df.tail()"
   ]
  },
  {
   "cell_type": "code",
   "execution_count": 19,
   "metadata": {},
   "outputs": [],
   "source": [
    "for i in reversed(range(2, 41)):\n",
    "    col = '%dd' % i\n",
    "    prev = '%dd' % (i - 1)\n",
    "    df[col] = (df[col] - df[prev]) / df[prev]"
   ]
  },
  {
   "cell_type": "code",
   "execution_count": 20,
   "metadata": {},
   "outputs": [],
   "source": [
    "df['1d'] = (df['1d'] - df['close']) / df['close']"
   ]
  },
  {
   "cell_type": "code",
   "execution_count": 21,
   "metadata": {},
   "outputs": [],
   "source": [
    "df = df.drop(columns=['close'])"
   ]
  },
  {
   "cell_type": "code",
   "execution_count": 22,
   "metadata": {},
   "outputs": [
    {
     "data": {
      "text/html": [
       "<div>\n",
       "<style scoped>\n",
       "    .dataframe tbody tr th:only-of-type {\n",
       "        vertical-align: middle;\n",
       "    }\n",
       "\n",
       "    .dataframe tbody tr th {\n",
       "        vertical-align: top;\n",
       "    }\n",
       "\n",
       "    .dataframe thead th {\n",
       "        text-align: right;\n",
       "    }\n",
       "</style>\n",
       "<table border=\"1\" class=\"dataframe\">\n",
       "  <thead>\n",
       "    <tr style=\"text-align: right;\">\n",
       "      <th></th>\n",
       "      <th>1d</th>\n",
       "      <th>2d</th>\n",
       "      <th>3d</th>\n",
       "      <th>4d</th>\n",
       "      <th>5d</th>\n",
       "      <th>6d</th>\n",
       "      <th>7d</th>\n",
       "      <th>8d</th>\n",
       "      <th>9d</th>\n",
       "      <th>10d</th>\n",
       "      <th>11d</th>\n",
       "      <th>12d</th>\n",
       "      <th>13d</th>\n",
       "      <th>14d</th>\n",
       "      <th>15d</th>\n",
       "      <th>16d</th>\n",
       "      <th>17d</th>\n",
       "      <th>18d</th>\n",
       "      <th>19d</th>\n",
       "      <th>20d</th>\n",
       "      <th>21d</th>\n",
       "      <th>22d</th>\n",
       "      <th>23d</th>\n",
       "      <th>24d</th>\n",
       "      <th>25d</th>\n",
       "      <th>26d</th>\n",
       "      <th>27d</th>\n",
       "      <th>28d</th>\n",
       "      <th>29d</th>\n",
       "      <th>30d</th>\n",
       "      <th>31d</th>\n",
       "      <th>32d</th>\n",
       "      <th>33d</th>\n",
       "      <th>34d</th>\n",
       "      <th>35d</th>\n",
       "      <th>36d</th>\n",
       "      <th>37d</th>\n",
       "      <th>38d</th>\n",
       "      <th>39d</th>\n",
       "      <th>40d</th>\n",
       "    </tr>\n",
       "  </thead>\n",
       "  <tbody>\n",
       "    <tr>\n",
       "      <th>2018-01-23 00:00:00+00:00</th>\n",
       "      <td>-0.000282</td>\n",
       "      <td>-0.015487</td>\n",
       "      <td>-0.014355</td>\n",
       "      <td>-0.010698</td>\n",
       "      <td>-0.027239</td>\n",
       "      <td>0.008126</td>\n",
       "      <td>0.001768</td>\n",
       "      <td>-0.006969</td>\n",
       "      <td>-0.041566</td>\n",
       "      <td>-0.026838</td>\n",
       "      <td>0.053317</td>\n",
       "      <td>-0.017138</td>\n",
       "      <td>-0.020089</td>\n",
       "      <td>0.009104</td>\n",
       "      <td>0.021767</td>\n",
       "      <td>0.006761</td>\n",
       "      <td>0.041369</td>\n",
       "      <td>0.015136</td>\n",
       "      <td>-0.001799</td>\n",
       "      <td>0.004534</td>\n",
       "      <td>-0.005960</td>\n",
       "      <td>0.010885</td>\n",
       "      <td>0.015432</td>\n",
       "      <td>0.015594</td>\n",
       "      <td>0.000893</td>\n",
       "      <td>-0.004017</td>\n",
       "      <td>-0.032150</td>\n",
       "      <td>0.013947</td>\n",
       "      <td>0.015410</td>\n",
       "      <td>-0.016694</td>\n",
       "      <td>0.003087</td>\n",
       "      <td>0.014133</td>\n",
       "      <td>0.013093</td>\n",
       "      <td>0.012757</td>\n",
       "      <td>-0.012432</td>\n",
       "      <td>-0.010093</td>\n",
       "      <td>0.000840</td>\n",
       "      <td>-0.007445</td>\n",
       "      <td>-0.011730</td>\n",
       "      <td>-0.001141</td>\n",
       "    </tr>\n",
       "    <tr>\n",
       "      <th>2018-01-24 00:00:00+00:00</th>\n",
       "      <td>-0.015487</td>\n",
       "      <td>-0.014355</td>\n",
       "      <td>-0.010698</td>\n",
       "      <td>-0.027239</td>\n",
       "      <td>0.008126</td>\n",
       "      <td>0.001768</td>\n",
       "      <td>-0.006969</td>\n",
       "      <td>-0.041566</td>\n",
       "      <td>-0.026838</td>\n",
       "      <td>0.053317</td>\n",
       "      <td>-0.017138</td>\n",
       "      <td>-0.020089</td>\n",
       "      <td>0.009104</td>\n",
       "      <td>0.021767</td>\n",
       "      <td>0.006761</td>\n",
       "      <td>0.041369</td>\n",
       "      <td>0.015136</td>\n",
       "      <td>-0.001799</td>\n",
       "      <td>0.004534</td>\n",
       "      <td>-0.005960</td>\n",
       "      <td>0.010885</td>\n",
       "      <td>0.015432</td>\n",
       "      <td>0.015594</td>\n",
       "      <td>0.000893</td>\n",
       "      <td>-0.004017</td>\n",
       "      <td>-0.032150</td>\n",
       "      <td>0.013947</td>\n",
       "      <td>0.015410</td>\n",
       "      <td>-0.016694</td>\n",
       "      <td>0.003087</td>\n",
       "      <td>0.014133</td>\n",
       "      <td>0.013093</td>\n",
       "      <td>0.012757</td>\n",
       "      <td>-0.012432</td>\n",
       "      <td>-0.010093</td>\n",
       "      <td>0.000840</td>\n",
       "      <td>-0.007445</td>\n",
       "      <td>-0.011730</td>\n",
       "      <td>-0.001141</td>\n",
       "      <td>-0.028793</td>\n",
       "    </tr>\n",
       "    <tr>\n",
       "      <th>2018-01-25 00:00:00+00:00</th>\n",
       "      <td>-0.014355</td>\n",
       "      <td>-0.010698</td>\n",
       "      <td>-0.027239</td>\n",
       "      <td>0.008126</td>\n",
       "      <td>0.001768</td>\n",
       "      <td>-0.006969</td>\n",
       "      <td>-0.041566</td>\n",
       "      <td>-0.026838</td>\n",
       "      <td>0.053317</td>\n",
       "      <td>-0.017138</td>\n",
       "      <td>-0.020089</td>\n",
       "      <td>0.009104</td>\n",
       "      <td>0.021767</td>\n",
       "      <td>0.006761</td>\n",
       "      <td>0.041369</td>\n",
       "      <td>0.015136</td>\n",
       "      <td>-0.001799</td>\n",
       "      <td>0.004534</td>\n",
       "      <td>-0.005960</td>\n",
       "      <td>0.010885</td>\n",
       "      <td>0.015432</td>\n",
       "      <td>0.015594</td>\n",
       "      <td>0.000893</td>\n",
       "      <td>-0.004017</td>\n",
       "      <td>-0.032150</td>\n",
       "      <td>0.013947</td>\n",
       "      <td>0.015410</td>\n",
       "      <td>-0.016694</td>\n",
       "      <td>0.003087</td>\n",
       "      <td>0.014133</td>\n",
       "      <td>0.013093</td>\n",
       "      <td>0.012757</td>\n",
       "      <td>-0.012432</td>\n",
       "      <td>-0.010093</td>\n",
       "      <td>0.000840</td>\n",
       "      <td>-0.007445</td>\n",
       "      <td>-0.011730</td>\n",
       "      <td>-0.001141</td>\n",
       "      <td>-0.028793</td>\n",
       "      <td>-0.009471</td>\n",
       "    </tr>\n",
       "    <tr>\n",
       "      <th>2018-01-26 00:00:00+00:00</th>\n",
       "      <td>-0.010698</td>\n",
       "      <td>-0.027239</td>\n",
       "      <td>0.008126</td>\n",
       "      <td>0.001768</td>\n",
       "      <td>-0.006969</td>\n",
       "      <td>-0.041566</td>\n",
       "      <td>-0.026838</td>\n",
       "      <td>0.053317</td>\n",
       "      <td>-0.017138</td>\n",
       "      <td>-0.020089</td>\n",
       "      <td>0.009104</td>\n",
       "      <td>0.021767</td>\n",
       "      <td>0.006761</td>\n",
       "      <td>0.041369</td>\n",
       "      <td>0.015136</td>\n",
       "      <td>-0.001799</td>\n",
       "      <td>0.004534</td>\n",
       "      <td>-0.005960</td>\n",
       "      <td>0.010885</td>\n",
       "      <td>0.015432</td>\n",
       "      <td>0.015594</td>\n",
       "      <td>0.000893</td>\n",
       "      <td>-0.004017</td>\n",
       "      <td>-0.032150</td>\n",
       "      <td>0.013947</td>\n",
       "      <td>0.015410</td>\n",
       "      <td>-0.016694</td>\n",
       "      <td>0.003087</td>\n",
       "      <td>0.014133</td>\n",
       "      <td>0.013093</td>\n",
       "      <td>0.012757</td>\n",
       "      <td>-0.012432</td>\n",
       "      <td>-0.010093</td>\n",
       "      <td>0.000840</td>\n",
       "      <td>-0.007445</td>\n",
       "      <td>-0.011730</td>\n",
       "      <td>-0.001141</td>\n",
       "      <td>-0.028793</td>\n",
       "      <td>-0.009471</td>\n",
       "      <td>-0.001900</td>\n",
       "    </tr>\n",
       "    <tr>\n",
       "      <th>2018-01-29 00:00:00+00:00</th>\n",
       "      <td>-0.027239</td>\n",
       "      <td>0.008126</td>\n",
       "      <td>0.001768</td>\n",
       "      <td>-0.006969</td>\n",
       "      <td>-0.041566</td>\n",
       "      <td>-0.026838</td>\n",
       "      <td>0.053317</td>\n",
       "      <td>-0.017138</td>\n",
       "      <td>-0.020089</td>\n",
       "      <td>0.009104</td>\n",
       "      <td>0.021767</td>\n",
       "      <td>0.006761</td>\n",
       "      <td>0.041369</td>\n",
       "      <td>0.015136</td>\n",
       "      <td>-0.001799</td>\n",
       "      <td>0.004534</td>\n",
       "      <td>-0.005960</td>\n",
       "      <td>0.010885</td>\n",
       "      <td>0.015432</td>\n",
       "      <td>0.015594</td>\n",
       "      <td>0.000893</td>\n",
       "      <td>-0.004017</td>\n",
       "      <td>-0.032150</td>\n",
       "      <td>0.013947</td>\n",
       "      <td>0.015410</td>\n",
       "      <td>-0.016694</td>\n",
       "      <td>0.003087</td>\n",
       "      <td>0.014133</td>\n",
       "      <td>0.013093</td>\n",
       "      <td>0.012757</td>\n",
       "      <td>-0.012432</td>\n",
       "      <td>-0.010093</td>\n",
       "      <td>0.000840</td>\n",
       "      <td>-0.007445</td>\n",
       "      <td>-0.011730</td>\n",
       "      <td>-0.001141</td>\n",
       "      <td>-0.028793</td>\n",
       "      <td>-0.009471</td>\n",
       "      <td>-0.001900</td>\n",
       "      <td>0.033379</td>\n",
       "    </tr>\n",
       "  </tbody>\n",
       "</table>\n",
       "</div>"
      ],
      "text/plain": [
       "                                 1d        2d        3d        4d        5d  \\\n",
       "2018-01-23 00:00:00+00:00 -0.000282 -0.015487 -0.014355 -0.010698 -0.027239   \n",
       "2018-01-24 00:00:00+00:00 -0.015487 -0.014355 -0.010698 -0.027239  0.008126   \n",
       "2018-01-25 00:00:00+00:00 -0.014355 -0.010698 -0.027239  0.008126  0.001768   \n",
       "2018-01-26 00:00:00+00:00 -0.010698 -0.027239  0.008126  0.001768 -0.006969   \n",
       "2018-01-29 00:00:00+00:00 -0.027239  0.008126  0.001768 -0.006969 -0.041566   \n",
       "\n",
       "                                 6d        7d        8d        9d       10d  \\\n",
       "2018-01-23 00:00:00+00:00  0.008126  0.001768 -0.006969 -0.041566 -0.026838   \n",
       "2018-01-24 00:00:00+00:00  0.001768 -0.006969 -0.041566 -0.026838  0.053317   \n",
       "2018-01-25 00:00:00+00:00 -0.006969 -0.041566 -0.026838  0.053317 -0.017138   \n",
       "2018-01-26 00:00:00+00:00 -0.041566 -0.026838  0.053317 -0.017138 -0.020089   \n",
       "2018-01-29 00:00:00+00:00 -0.026838  0.053317 -0.017138 -0.020089  0.009104   \n",
       "\n",
       "                                11d       12d       13d       14d       15d  \\\n",
       "2018-01-23 00:00:00+00:00  0.053317 -0.017138 -0.020089  0.009104  0.021767   \n",
       "2018-01-24 00:00:00+00:00 -0.017138 -0.020089  0.009104  0.021767  0.006761   \n",
       "2018-01-25 00:00:00+00:00 -0.020089  0.009104  0.021767  0.006761  0.041369   \n",
       "2018-01-26 00:00:00+00:00  0.009104  0.021767  0.006761  0.041369  0.015136   \n",
       "2018-01-29 00:00:00+00:00  0.021767  0.006761  0.041369  0.015136 -0.001799   \n",
       "\n",
       "                                16d       17d       18d       19d       20d  \\\n",
       "2018-01-23 00:00:00+00:00  0.006761  0.041369  0.015136 -0.001799  0.004534   \n",
       "2018-01-24 00:00:00+00:00  0.041369  0.015136 -0.001799  0.004534 -0.005960   \n",
       "2018-01-25 00:00:00+00:00  0.015136 -0.001799  0.004534 -0.005960  0.010885   \n",
       "2018-01-26 00:00:00+00:00 -0.001799  0.004534 -0.005960  0.010885  0.015432   \n",
       "2018-01-29 00:00:00+00:00  0.004534 -0.005960  0.010885  0.015432  0.015594   \n",
       "\n",
       "                                21d       22d       23d       24d       25d  \\\n",
       "2018-01-23 00:00:00+00:00 -0.005960  0.010885  0.015432  0.015594  0.000893   \n",
       "2018-01-24 00:00:00+00:00  0.010885  0.015432  0.015594  0.000893 -0.004017   \n",
       "2018-01-25 00:00:00+00:00  0.015432  0.015594  0.000893 -0.004017 -0.032150   \n",
       "2018-01-26 00:00:00+00:00  0.015594  0.000893 -0.004017 -0.032150  0.013947   \n",
       "2018-01-29 00:00:00+00:00  0.000893 -0.004017 -0.032150  0.013947  0.015410   \n",
       "\n",
       "                                26d       27d       28d       29d       30d  \\\n",
       "2018-01-23 00:00:00+00:00 -0.004017 -0.032150  0.013947  0.015410 -0.016694   \n",
       "2018-01-24 00:00:00+00:00 -0.032150  0.013947  0.015410 -0.016694  0.003087   \n",
       "2018-01-25 00:00:00+00:00  0.013947  0.015410 -0.016694  0.003087  0.014133   \n",
       "2018-01-26 00:00:00+00:00  0.015410 -0.016694  0.003087  0.014133  0.013093   \n",
       "2018-01-29 00:00:00+00:00 -0.016694  0.003087  0.014133  0.013093  0.012757   \n",
       "\n",
       "                                31d       32d       33d       34d       35d  \\\n",
       "2018-01-23 00:00:00+00:00  0.003087  0.014133  0.013093  0.012757 -0.012432   \n",
       "2018-01-24 00:00:00+00:00  0.014133  0.013093  0.012757 -0.012432 -0.010093   \n",
       "2018-01-25 00:00:00+00:00  0.013093  0.012757 -0.012432 -0.010093  0.000840   \n",
       "2018-01-26 00:00:00+00:00  0.012757 -0.012432 -0.010093  0.000840 -0.007445   \n",
       "2018-01-29 00:00:00+00:00 -0.012432 -0.010093  0.000840 -0.007445 -0.011730   \n",
       "\n",
       "                                36d       37d       38d       39d       40d  \n",
       "2018-01-23 00:00:00+00:00 -0.010093  0.000840 -0.007445 -0.011730 -0.001141  \n",
       "2018-01-24 00:00:00+00:00  0.000840 -0.007445 -0.011730 -0.001141 -0.028793  \n",
       "2018-01-25 00:00:00+00:00 -0.007445 -0.011730 -0.001141 -0.028793 -0.009471  \n",
       "2018-01-26 00:00:00+00:00 -0.011730 -0.001141 -0.028793 -0.009471 -0.001900  \n",
       "2018-01-29 00:00:00+00:00 -0.001141 -0.028793 -0.009471 -0.001900  0.033379  "
      ]
     },
     "execution_count": 22,
     "metadata": {},
     "output_type": "execute_result"
    }
   ],
   "source": [
    "df.tail()"
   ]
  },
  {
   "cell_type": "markdown",
   "metadata": {},
   "source": [
    "Let's now split the series between features and targets."
   ]
  },
  {
   "cell_type": "code",
   "execution_count": 23,
   "metadata": {},
   "outputs": [],
   "source": [
    "# Create features (X) and targets (y)\n",
    "X = df.iloc[:,:32]\n",
    "y = df.iloc[:,32:]\n"
   ]
  },
  {
   "cell_type": "code",
   "execution_count": 24,
   "metadata": {},
   "outputs": [
    {
     "data": {
      "text/plain": [
       "(6993, 32)"
      ]
     },
     "execution_count": 24,
     "metadata": {},
     "output_type": "execute_result"
    }
   ],
   "source": [
    "X.shape"
   ]
  },
  {
   "cell_type": "markdown",
   "metadata": {},
   "source": [
    "# Trading Algorithm with ML Ensemble Model\n",
    "<div style = \"float:right\"><a style=\"text-decoration:none\" href = \"#inicio\">Inicio</a></div>"
   ]
  },
  {
   "cell_type": "markdown",
   "metadata": {},
   "source": [
    "<b>Ensemble Model</b><br>\n",
    "Ensembling is a method for combining base models and is based on the hypothesis that a much more powerful model can be produced by combining multiple models together. There are different types of ensemble modelling:<br>\n",
    "<ul>\n",
    "    <li><b>Bagging</b>: short for bootstrap aggregation, uses bootstrap sampling to obtain data subsets for training 'base learners' and reduces variance. The most common algorithm is Random Forest, the process of generation is parallel and the base learner output in regression is averaging,</li>\n",
    "    <li><b>Boosting</b>: converts 'weak learners' to strong learners and reduces bias. The most common algorithm is AdaBoost, the process of generation is sequential and the base learner output in regression is weighted sum,</li>\n",
    "    <li><b>Stacking</b>: combines multiple models via a meta-model and improves predictions</li>\n",
    "</ul>\n",
    "In this section, we will tackle all three methods.<br>\n",
    "Libraries used here are mainly <code>scikit-learn</code> and, to a lesser extent, <code>scipy</code>."
   ]
  },
  {
   "cell_type": "markdown",
   "metadata": {},
   "source": [
    "<b>Neural Networks and Zipline</b><br>\n",
    "<code>Keras</code> and <code>Tensorflow</code> are not supported in local Zipline research environment. Though having installed both, a message error is displayed when importing them. It appears that, to date, no satisfactory and technically feasible solutions have been found to port the DL algorithm into the Zipline local platform. For that reason, and regrettably enough, deep learning models cannot be performed in this project but will be explored in the future.<br>\n",
    "\n",
    "Particularly, Long-Short Term Memory (LSTM) and Echo State Networks (ESN) models, falling under the family of  Recurrent Neural Networks, seem to work fine with financial time series, since they are able to capture non-linear relationships among variables and correct for vanishing gradient descents."
   ]
  },
  {
   "cell_type": "markdown",
   "metadata": {},
   "source": [
    "<b>Step-by-step approach</b><br>\n",
    "In this section, we shall:\n",
    "<ol>\n",
    "    <li>build a baseline model</li>\n",
    "    <li>assess the performance of other models</li>\n",
    "    <li>create custom functions for stacking ensemble models:</li>\n",
    "    <ol>\n",
    "        <li><code>get_stacking()</code>: this function will create the layers of our <code>StackingRegressor()</code></li>\n",
    "        <li><code>get_model()</code>: this function will create a dictionary of models to be evaluated</li>\n",
    "        <li><code>evaluate_model()</code>: this function will evaluate each of the models</li>\n",
    "        <li><code>best_model()</code>: this function will return the best model after creating a model pipeline and performing hyperparameter tuning</li>\n",
    "    </ol> \n",
    "    <li>export best model's results in a joblib format</li>\n",
    "</ol>\n",
    "\n",
    "This section's approach has been inspired from the Data Camp Live Training: Applied Machine Learning - Ensembling Modelling, by Lisa Stuart. "
   ]
  },
  {
   "cell_type": "markdown",
   "metadata": {},
   "source": [
    "### Import Libraries"
   ]
  },
  {
   "cell_type": "code",
   "execution_count": 69,
   "metadata": {},
   "outputs": [],
   "source": [
    "# Sklearn model selection\n",
    "from sklearn.model_selection import train_test_split\n",
    "from sklearn.model_selection import TimeSeriesSplit\n",
    "\n",
    "# Regressors\n",
    "import sklearn.linear_model as LinearRegression\n",
    "from sklearn.tree import DecisionTreeRegressor\n",
    "from sklearn.ensemble import RandomForestRegressor\n",
    "from sklearn.ensemble import GradientBoostingRegressor\n",
    "from sklearn.multioutput import MultiOutputRegressor\n",
    "from sklearn.svm import SVR\n",
    "from sklearn.dummy import DummyRegressor\n",
    "from sklearn.neighbors import KNeighborsRegressor\n",
    "\n",
    "# Data Scaling (for KNN-neighbours)\n",
    "from sklearn.preprocessing import scale\n",
    "\n",
    "# Hyperparameter tuning\n",
    "from sklearn.model_selection import ParameterGrid\n",
    "from sklearn.model_selection import GridSearchCV\n",
    "\n",
    "# Cross-validation\n",
    "from sklearn.model_selection import cross_val_score\n",
    "from sklearn.model_selection import cross_validate\n",
    "from sklearn.model_selection import cross_val_predict\n",
    "\n",
    "# Metrics\n",
    "from sklearn.metrics import r2_score"
   ]
  },
  {
   "cell_type": "markdown",
   "metadata": {},
   "source": [
    "### Train, Test, Split"
   ]
  },
  {
   "cell_type": "markdown",
   "metadata": {},
   "source": [
    "Considering that financial times series are not independently and identically distibuted, on grounds of serial autocorrelation and time-varying standard deviation, we shall use TimeSeriesSplit object from sklearn to allow for incremental cross validation."
   ]
  },
  {
   "cell_type": "code",
   "execution_count": 33,
   "metadata": {
    "collapsed": true
   },
   "outputs": [
    {
     "name": "stdout",
     "output_type": "stream",
     "text": [
      "(643, 32) (643, 8)\n",
      "(635, 32) (635, 8)\n",
      "(1278, 32) (1278, 8)\n",
      "(635, 32) (635, 8)\n",
      "(1913, 32) (1913, 8)\n",
      "(635, 32) (635, 8)\n",
      "(2548, 32) (2548, 8)\n",
      "(635, 32) (635, 8)\n",
      "(3183, 32) (3183, 8)\n",
      "(635, 32) (635, 8)\n",
      "(3818, 32) (3818, 8)\n",
      "(635, 32) (635, 8)\n",
      "(4453, 32) (4453, 8)\n",
      "(635, 32) (635, 8)\n",
      "(5088, 32) (5088, 8)\n",
      "(635, 32) (635, 8)\n",
      "(5723, 32) (5723, 8)\n",
      "(635, 32) (635, 8)\n",
      "(6358, 32) (6358, 8)\n",
      "(635, 32) (635, 8)\n"
     ]
    }
   ],
   "source": [
    "tscv = TimeSeriesSplit(n_splits=10)\n",
    "\n",
    "for train_index, test_index in tscv.split(X):\n",
    "    X_train, X_test = X.iloc[train_index], X.iloc[test_index]\n",
    "    y_train, y_test = y.iloc[train_index], y.iloc[test_index]\n",
    "    \n",
    "    print(X_train.shape, y_train.shape)\n",
    "    print(X_test.shape, y_test.shape)"
   ]
  },
  {
   "cell_type": "markdown",
   "metadata": {},
   "source": [
    "## ML Ensemble Model Design\n",
    "<div style = \"float:right\"><a style=\"text-decoration:none\" href = \"#inicio\">Inicio</a></div>"
   ]
  },
  {
   "cell_type": "markdown",
   "metadata": {},
   "source": [
    "### 1. Baseline Model"
   ]
  },
  {
   "cell_type": "markdown",
   "metadata": {},
   "source": [
    "We shall use the scoring metric MAE, mean absolute value, negated so as to uniform sklearn handling <br>\n",
    " \n",
    " <blocquote>MAE = $\\frac{1}{n}\\sum_{t=1}^{n}|e_t|$</blocquote> <br>\n",
    " \n",
    " the closer to zero values, the better"
   ]
  },
  {
   "cell_type": "markdown",
   "metadata": {},
   "source": [
    "#### Dummy Regressor"
   ]
  },
  {
   "cell_type": "code",
   "execution_count": 54,
   "metadata": {},
   "outputs": [
    {
     "name": "stdout",
     "output_type": "stream",
     "text": [
      "Baseline: mean (-0.020), std (0.006)\n"
     ]
    }
   ],
   "source": [
    "# Evaluate naive\n",
    "\n",
    "# Instantiate a DummyRegressor with 'median' strategy\n",
    "naive = DummyRegressor(strategy='mean')\n",
    "\n",
    "# Calculate accuracy using `cross_val_score()` with model instantiated, data to fit, target variable, 'neg_mean_absolute_error' scoring, cross validator, n_jobs=-1, and error_score set to 'raise'\n",
    "n_scores = cross_val_score(naive, X, y, scoring='neg_mean_absolute_error', cv=tscv, n_jobs=-1, error_score='raise')\n",
    "\n",
    "# Print mean and standard deviation of n_scores:\n",
    "print('Baseline: mean (%.3f), std (%.3f)' % (np.mean(n_scores), np.std(n_scores)))"
   ]
  },
  {
   "cell_type": "markdown",
   "metadata": {},
   "source": [
    "We shall have this dummy regressor as baseline, and we will try to improve from here."
   ]
  },
  {
   "cell_type": "markdown",
   "metadata": {},
   "source": [
    "### 2. Other ML Models"
   ]
  },
  {
   "cell_type": "markdown",
   "metadata": {},
   "source": [
    "#### Support Vector Machine"
   ]
  },
  {
   "cell_type": "code",
   "execution_count": 55,
   "metadata": {},
   "outputs": [
    {
     "name": "stdout",
     "output_type": "stream",
     "text": [
      "Good: -0.028 (0.009)\n"
     ]
    }
   ],
   "source": [
    "# Evaluate baseline model\n",
    "\n",
    "# Instantiate a Support Vector Regressor with 'rbf' kernel, gamma set to 'scale', and regularization parameter set to 10\n",
    "svr = SVR(kernel='rbf',gamma='scale',C=10)\n",
    "\n",
    "# Pass a MultiOutputRegressor to model\n",
    "wrapper = MultiOutputRegressor(svr)\n",
    "\n",
    "# Calculate accuracy using `cross_val_score()` with model instantiated, data to fit, target variable, 'neg_mean_absolute_error' scoring, cross validator 'cv', n_jobs=-1, and error_score set to 'raise'\n",
    "m_scores = cross_val_score(wrapper, X, y, scoring='neg_mean_absolute_error', cv=tscv, n_jobs=-1, error_score='raise')\n",
    "\n",
    "# Print mean and standard deviation of m_scores: \n",
    "print('Good: %.3f (%.3f)' % (np.mean(m_scores), np.std(m_scores)))"
   ]
  },
  {
   "cell_type": "markdown",
   "metadata": {},
   "source": [
    "#### Decision Trees"
   ]
  },
  {
   "cell_type": "code",
   "execution_count": 81,
   "metadata": {},
   "outputs": [
    {
     "name": "stdout",
     "output_type": "stream",
     "text": [
      "Good: -0.021 (0.007)\n"
     ]
    }
   ],
   "source": [
    "# First, create an Instance\n",
    "dt = DecisionTreeRegressor(max_depth=10)\n",
    "\n",
    "# Second, create a dictionnary of hyperparameters to search\n",
    "dt_scores = cross_val_score(dt, X, y, scoring='neg_mean_absolute_error', cv=tscv, n_jobs=-1, error_score='raise')\n",
    "    \n",
    "# Print mean and standard deviation of m_scores: \n",
    "print('Good: %.3f (%.3f)' % (np.mean(dt_scores), np.std(dt_scores)))"
   ]
  },
  {
   "cell_type": "markdown",
   "metadata": {},
   "source": [
    "\n",
    "#### Random Forest"
   ]
  },
  {
   "cell_type": "code",
   "execution_count": 56,
   "metadata": {},
   "outputs": [
    {
     "name": "stdout",
     "output_type": "stream",
     "text": [
      "Good: -0.020 (0.006)\n"
     ]
    }
   ],
   "source": [
    "# First, create an Instance\n",
    "rfr = RandomForestRegressor(n_estimators=200, max_depth=3, max_features=8)\n",
    "\n",
    "# Second, create a dictionnary of hyperparameters to search\n",
    "m_scores = cross_val_score(rfr, X, y, scoring='neg_mean_absolute_error', cv=tscv, n_jobs=-1, error_score='raise')\n",
    "    \n",
    "# Print mean and standard deviation of m_scores: \n",
    "print('Good: %.3f (%.3f)' % (np.mean(m_scores), np.std(m_scores)))\n",
    "    "
   ]
  },
  {
   "cell_type": "code",
   "execution_count": 57,
   "metadata": {},
   "outputs": [],
   "source": [
    "# Fit the model\n",
    "rfr.fit(X_train, y_train)\n",
    "\n",
    "# Make predictions\n",
    "train_pred_rfr = rfr.predict(X_train)\n",
    "test_pred_rfr = rfr.predict(X_test)"
   ]
  },
  {
   "cell_type": "code",
   "execution_count": 62,
   "metadata": {},
   "outputs": [
    {
     "name": "stdout",
     "output_type": "stream",
     "text": [
      "0.017038834730270274\n",
      "-0.0004532026411183098\n"
     ]
    }
   ],
   "source": [
    "print(rfr.score(X_train,y_train))\n",
    "print(rfr.score(X_test,y_test))"
   ]
  },
  {
   "cell_type": "markdown",
   "metadata": {},
   "source": [
    "#### Gradient Boosting Trees"
   ]
  },
  {
   "cell_type": "code",
   "execution_count": 63,
   "metadata": {},
   "outputs": [],
   "source": [
    "# Create GB model -- hyperparameters (to be tuned!!)\n",
    "gbr = GradientBoostingRegressor(max_features=4,\n",
    "                                learning_rate=0.01,\n",
    "                                n_estimators=200,\n",
    "                                subsample=0.6,\n",
    "                                random_state=42)\n",
    "\n",
    "# For multiple target predictions, we shall use MultiOutputRegressor\n",
    "gbr = MultiOutputRegressor(gbr)"
   ]
  },
  {
   "cell_type": "code",
   "execution_count": 64,
   "metadata": {},
   "outputs": [
    {
     "data": {
      "text/plain": [
       "{'fit_time': array([0.52585816, 0.73023129, 1.01138783, 1.32176328, 1.65325546,\n",
       "        1.73881555, 1.98792124, 2.23792577, 2.48536158, 2.74260569]),\n",
       " 'score_time': array([0.00929427, 0.01010704, 0.01220846, 0.01109362, 0.00886464,\n",
       "        0.00843167, 0.00871682, 0.00762463, 0.0073843 , 0.00714231]),\n",
       " 'test_score': array([-0.00093989, -0.00116107, -0.00148825, -0.0022743 , -0.00100386,\n",
       "        -0.00058777, -0.00095038, -0.00033781, -0.00146699, -0.00030813]),\n",
       " 'train_score': array([-0.00066468, -0.0007575 , -0.00085825, -0.00100481, -0.00120102,\n",
       "        -0.00114661, -0.00106929, -0.0010576 , -0.00097912, -0.00101937])}"
      ]
     },
     "execution_count": 64,
     "metadata": {},
     "output_type": "execute_result"
    }
   ],
   "source": [
    "cross_validate(gbr, X, y=y, cv=tscv, scoring='neg_mean_squared_error')"
   ]
  },
  {
   "cell_type": "code",
   "execution_count": 65,
   "metadata": {},
   "outputs": [
    {
     "data": {
      "text/plain": [
       "array([-0.00093989, -0.00116107, -0.00148825, -0.0022743 , -0.00100386,\n",
       "       -0.00058777, -0.00095038, -0.00033781, -0.00146699, -0.00030813])"
      ]
     },
     "execution_count": 65,
     "metadata": {},
     "output_type": "execute_result"
    }
   ],
   "source": [
    "cross_val_score(gbr, X, y=y, cv=tscv, scoring='neg_mean_squared_error')"
   ]
  },
  {
   "cell_type": "code",
   "execution_count": 146,
   "metadata": {},
   "outputs": [
    {
     "name": "stdout",
     "output_type": "stream",
     "text": [
      "0.07563548925157097\n",
      "-0.007474131207838436\n"
     ]
    }
   ],
   "source": [
    "gbr.fit(X_train, y_train)\n",
    "train_pred_gbr = gbr.predict(X_train)\n",
    "test_pred_gbr = gbr.predict(X_test)\n",
    "print(gbr.score(X_train, y_train))\n",
    "print(gbr.score(X_test, y_test))"
   ]
  },
  {
   "cell_type": "markdown",
   "metadata": {},
   "source": [
    "#### K-Neighbors"
   ]
  },
  {
   "cell_type": "markdown",
   "metadata": {},
   "source": [
    "Some models, like K-nearest neighbors (KNN), work better with scaled data -- so we'll standardize our data. KNN uses distances to find similar points for predictions, so big features outweigh small ones. Scaling data fixes that.<br>\n",
    "Sklearn's <code>scale()</code> will standardize data, which sets the mean to 0 and standard deviation to 1."
   ]
  },
  {
   "cell_type": "code",
   "execution_count": 74,
   "metadata": {},
   "outputs": [],
   "source": [
    "# Standardize features\n",
    "scaled_X = scale(X)\n",
    "# scaled_y = scale(y)"
   ]
  },
  {
   "cell_type": "code",
   "execution_count": 80,
   "metadata": {},
   "outputs": [
    {
     "name": "stdout",
     "output_type": "stream",
     "text": [
      "Good: -0.020 (0.006)\n"
     ]
    }
   ],
   "source": [
    "# Create and fit the KNN model\n",
    "knn = KNeighborsRegressor(n_neighbors=5)\n",
    " \n",
    "# Second, create a dictionnary of hyperparameters to search\n",
    "knn_scores = cross_val_score(rfr, scaled_X, y, scoring='neg_mean_absolute_error', cv=tscv, n_jobs=-1, error_score='raise')\n",
    "    \n",
    "# Print mean and standard deviation of m_scores: \n",
    "print('Good: %.3f (%.3f)' % (np.mean(knn_scores), np.std(knn_scores)))\n"
   ]
  },
  {
   "cell_type": "code",
   "execution_count": 77,
   "metadata": {},
   "outputs": [],
   "source": [
    "# Standardize the train and test features\n",
    "scaled_X_train = scale(X_train)\n",
    "scaled_X_test = scale(X_test)"
   ]
  },
  {
   "cell_type": "code",
   "execution_count": 78,
   "metadata": {},
   "outputs": [
    {
     "name": "stdout",
     "output_type": "stream",
     "text": [
      "0.196877733594022\n",
      "-0.6891917966096704\n"
     ]
    }
   ],
   "source": [
    "# Fit the model to the training data\n",
    "knn.fit(scaled_X_train, y_train)\n",
    "    \n",
    "# Print the score\n",
    "print(knn.score(scaled_X_train, y_train))\n",
    "print(knn.score(scaled_X_test, y_test))"
   ]
  },
  {
   "cell_type": "code",
   "execution_count": 79,
   "metadata": {},
   "outputs": [
    {
     "name": "stdout",
     "output_type": "stream",
     "text": [
      "-3.051755878782225\n",
      "-1.4617462672012067\n"
     ]
    },
    {
     "data": {
      "image/png": "[encoded data removed]",
      "text/plain": [
       "<Figure size 432x288 with 1 Axes>"
      ]
     },
     "metadata": {
      "needs_background": "light"
     },
     "output_type": "display_data"
    }
   ],
   "source": [
    "# Evaluate the model\n",
    "train_pred_knn = knn.predict(scaled_X_train)\n",
    "test_pred_knn = knn.predict(scaled_X_test)\n",
    "\n",
    "# Plot the actual vs predicted values\n",
    "plt.scatter(train_pred_knn, y_train, label='train')\n",
    "plt.scatter(test_pred_knn, y_test, label='test')\n",
    "plt.legend()\n",
    "\n",
    "print(r2_score(train_pred_knn, y_train))\n",
    "print(r2_score(test_pred_knn, y_test))\n"
   ]
  },
  {
   "cell_type": "markdown",
   "metadata": {},
   "source": [
    "### Ensemble Model"
   ]
  },
  {
   "cell_type": "code",
   "execution_count": null,
   "metadata": {},
   "outputs": [],
   "source": []
  },
  {
   "cell_type": "code",
   "execution_count": null,
   "metadata": {},
   "outputs": [],
   "source": []
  },
  {
   "cell_type": "code",
   "execution_count": null,
   "metadata": {},
   "outputs": [],
   "source": []
  },
  {
   "cell_type": "code",
   "execution_count": null,
   "metadata": {},
   "outputs": [],
   "source": []
  },
  {
   "cell_type": "code",
   "execution_count": null,
   "metadata": {},
   "outputs": [],
   "source": []
  },
  {
   "cell_type": "code",
   "execution_count": null,
   "metadata": {},
   "outputs": [],
   "source": []
  },
  {
   "cell_type": "markdown",
   "metadata": {},
   "source": [
    "### 4. Export best model in a joblib format"
   ]
  },
  {
   "cell_type": "code",
   "execution_count": 29,
   "metadata": {},
   "outputs": [
    {
     "data": {
      "text/plain": [
       "['../strategies/models/rfr_regressor.joblib']"
      ]
     },
     "execution_count": 29,
     "metadata": {},
     "output_type": "execute_result"
    }
   ],
   "source": [
    "# Export trained models and save it for future predictions\n",
    "from joblib import dump\n",
    "dump(best_regressor, '../strategies/models/best_regressor.joblib')"
   ]
  },
  {
   "cell_type": "markdown",
   "metadata": {},
   "source": [
    "## Plug-in Ensemble Model implementation into Trading Bot\n",
    "<div style = \"float:right\"><a style=\"text-decoration:none\" href = \"#inicio\">Inicio</a></div>"
   ]
  },
  {
   "cell_type": "markdown",
   "metadata": {},
   "source": [
    "We modify the <code>buy_and_hold.py</code> Python script (strategies folder) to account for, ceteris paribus:\n",
    "<ul>\n",
    "    <li>lagged and forecast values</li>\n",
    "    <li>under the <code>initialize </code>function, load our RF regressor joblib </li>\n",
    "    <li>under the <code>handle_data</code> function:<br>\n",
    "        <ol>\n",
    "        <li>create one array with lagged 32 values for each point in time and  one array with 8 forecast values, and</li>\n",
    "        <li>code the strategy: if the max predictive value is above the mean of historical/past values, then we place a buy order and viceversa</li>\n",
    "        </ol>\n",
    "    "
   ]
  },
  {
   "cell_type": "markdown",
   "metadata": {},
   "source": [
    "The portfolio value has reached a value of round 228 million EUR, whereas the classic strategy BuyAndHold recorded a value of round 561.100 EUR."
   ]
  },
  {
   "attachments": {
    "BuyAndHold%282%29_AAPL.png": {
     "image/png": "[encoded data removed]"
    }
   },
   "cell_type": "markdown",
   "metadata": {},
   "source": [
    "![BuyAndHold%282%29_AAPL.png](attachment:BuyAndHold%282%29_AAPL.png)"
   ]
  },
  {
   "cell_type": "markdown",
   "metadata": {},
   "source": [
    "## Backtest ML Trading Strategy\n",
    "<div style = \"float:right\"><a style=\"text-decoration:none\" href = \"#inicio\">Inicio</a></div>"
   ]
  },
  {
   "cell_type": "code",
   "execution_count": 35,
   "metadata": {},
   "outputs": [],
   "source": [
    "df = pd.read_csv('../reports/buy_and_hold.csv')"
   ]
  },
  {
   "cell_type": "code",
   "execution_count": 36,
   "metadata": {},
   "outputs": [],
   "source": [
    "df = df.rename(columns={'Unnamed: 0':'date'}).set_index('date')"
   ]
  },
  {
   "cell_type": "code",
   "execution_count": 48,
   "metadata": {},
   "outputs": [
    {
     "data": {
      "text/plain": [
       "<Figure size 1296x576 with 0 Axes>"
      ]
     },
     "metadata": {},
     "output_type": "display_data"
    },
    {
     "data": {
      "image/png": "[encoded data removed]",
      "text/plain": [
       "<Figure size 432x288 with 1 Axes>"
      ]
     },
     "metadata": {},
     "output_type": "display_data"
    }
   ],
   "source": [
    "from matplotlib import pyplot as plt\n",
    "from matplotlib.dates import YearLocator, date2num, DateFormatter\n",
    "\n",
    "plt.figure(figsize = (18, 8))\n",
    "\n",
    "df.index = pd.DatetimeIndex(df.index)\n",
    "\n",
    "fig, ax = plt.subplots()\n",
    "\n",
    "fig.subplots_adjust(bottom=0.3)\n",
    "\n",
    "# Create a plot\n",
    "ax.plot(df.index, df.algo_volatility)\n",
    "ax.plot(df.index, df.benchmark_volatility)\n",
    "\n",
    "lctr = YearLocator()\n",
    "frmt = DateFormatter('%Y')\n",
    "\n",
    "# Final formatting\n",
    "ax.xaxis.set_major_locator(lctr)\n",
    "ax.xaxis.set_major_formatter(frmt)\n",
    "\n",
    "plt.xticks(rotation=70)\n",
    "plt.tight_layout()\n",
    "\n",
    "plt.legend()\n",
    "plt.show()"
   ]
  },
  {
   "cell_type": "code",
   "execution_count": 49,
   "metadata": {},
   "outputs": [
    {
     "data": {
      "text/plain": [
       "<Figure size 1296x576 with 0 Axes>"
      ]
     },
     "metadata": {},
     "output_type": "display_data"
    },
    {
     "data": {
      "image/png": "[encoded data removed]",
      "text/plain": [
       "<Figure size 432x288 with 1 Axes>"
      ]
     },
     "metadata": {},
     "output_type": "display_data"
    }
   ],
   "source": [
    "from matplotlib import pyplot as plt\n",
    "from matplotlib.dates import YearLocator, date2num, DateFormatter\n",
    "\n",
    "plt.figure(figsize = (18, 8))\n",
    "\n",
    "df.index = pd.DatetimeIndex(df.index)\n",
    "\n",
    "fig, ax = plt.subplots()\n",
    "\n",
    "fig.subplots_adjust(bottom=0.3)\n",
    "\n",
    "# Create a plot\n",
    "ax.plot(df.index, df.algorithm_period_return)\n",
    "ax.plot(df.index, df.benchmark_period_return)\n",
    "\n",
    "lctr = YearLocator()\n",
    "frmt = DateFormatter('%Y')\n",
    "\n",
    "# Final formatting\n",
    "ax.xaxis.set_major_locator(lctr)\n",
    "ax.xaxis.set_major_formatter(frmt)\n",
    "\n",
    "plt.xticks(rotation=70)\n",
    "plt.tight_layout()\n",
    "\n",
    "plt.legend()\n",
    "plt.show()"
   ]
  },
  {
   "cell_type": "code",
   "execution_count": 37,
   "metadata": {},
   "outputs": [
    {
     "data": {
      "text/plain": [
       "<matplotlib.axes._subplots.AxesSubplot at 0x7f04361aa048>"
      ]
     },
     "execution_count": 37,
     "metadata": {},
     "output_type": "execute_result"
    },
    {
     "data": {
      "image/png": "[encoded data removed]",
      "text/plain": [
       "<Figure size 1152x576 with 1 Axes>"
      ]
     },
     "metadata": {},
     "output_type": "display_data"
    }
   ],
   "source": [
    "df.portfolio_value.plot(figsize=(16,8))"
   ]
  },
  {
   "cell_type": "code",
   "execution_count": 38,
   "metadata": {},
   "outputs": [
    {
     "data": {
      "text/plain": [
       "'$-33730147.25'"
      ]
     },
     "execution_count": 38,
     "metadata": {},
     "output_type": "execute_result"
    }
   ],
   "source": [
    "'${:.2f}'.format(df.capital_used.sum())"
   ]
  },
  {
   "cell_type": "code",
   "execution_count": 39,
   "metadata": {},
   "outputs": [
    {
     "data": {
      "text/plain": [
       "'$227667200.75'"
      ]
     },
     "execution_count": 39,
     "metadata": {},
     "output_type": "execute_result"
    }
   ],
   "source": [
    "'${:.2f}'.format(df.portfolio_value[-1])"
   ]
  },
  {
   "cell_type": "code",
   "execution_count": 40,
   "metadata": {},
   "outputs": [
    {
     "data": {
      "text/plain": [
       "'$193937053.51'"
      ]
     },
     "execution_count": 40,
     "metadata": {},
     "output_type": "execute_result"
    }
   ],
   "source": [
    "'${:.2f}'.format(df.capital_used.sum() + df.portfolio_value[-1])"
   ]
  },
  {
   "cell_type": "code",
   "execution_count": null,
   "metadata": {},
   "outputs": [],
   "source": []
  },
  {
   "cell_type": "code",
   "execution_count": null,
   "metadata": {},
   "outputs": [],
   "source": []
  },
  {
   "cell_type": "code",
   "execution_count": null,
   "metadata": {},
   "outputs": [],
   "source": []
  },
  {
   "cell_type": "markdown",
   "metadata": {},
   "source": [
    "## Gradient Boosting Models\n",
    "<div style = \"float:right\"><a style=\"text-decoration:none\" href = \"#inicio\">Inicio</a></div>"
   ]
  },
  {
   "cell_type": "markdown",
   "metadata": {},
   "source": [
    "### Gradient Boosting Model"
   ]
  },
  {
   "cell_type": "code",
   "execution_count": 42,
   "metadata": {
    "collapsed": true
   },
   "outputs": [
    {
     "ename": "ValueError",
     "evalue": "bad input shape (5846, 8)",
     "output_type": "error",
     "traceback": [
      "\u001b[0;31m---------------------------------------------------------------------------\u001b[0m",
      "\u001b[0;31mValueError\u001b[0m                                Traceback (most recent call last)",
      "\u001b[0;32m<ipython-input-42-c19e16fe2a6b>\u001b[0m in \u001b[0;36m<module>\u001b[0;34m()\u001b[0m\n\u001b[1;32m      5\u001b[0m                                 \u001b[0msubsample\u001b[0m\u001b[0;34m=\u001b[0m\u001b[0;36m0.6\u001b[0m\u001b[0;34m,\u001b[0m\u001b[0;34m\u001b[0m\u001b[0m\n\u001b[1;32m      6\u001b[0m                                 random_state=42)\n\u001b[0;32m----> 7\u001b[0;31m \u001b[0mgbr\u001b[0m\u001b[0;34m.\u001b[0m\u001b[0mfit\u001b[0m\u001b[0;34m(\u001b[0m\u001b[0mX_train\u001b[0m\u001b[0;34m,\u001b[0m \u001b[0my_train\u001b[0m\u001b[0;34m)\u001b[0m\u001b[0;34m\u001b[0m\u001b[0m\n\u001b[0m\u001b[1;32m      8\u001b[0m \u001b[0;34m\u001b[0m\u001b[0m\n\u001b[1;32m      9\u001b[0m \u001b[0mprint\u001b[0m\u001b[0;34m(\u001b[0m\u001b[0mgbr\u001b[0m\u001b[0;34m.\u001b[0m\u001b[0mscore\u001b[0m\u001b[0;34m(\u001b[0m\u001b[0mX_train\u001b[0m\u001b[0;34m,\u001b[0m \u001b[0my_train\u001b[0m\u001b[0;34m)\u001b[0m\u001b[0;34m)\u001b[0m\u001b[0;34m\u001b[0m\u001b[0m\n",
      "\u001b[0;32m/home/isabel/anaconda3/envs/ml_for_algo_trading/lib/python3.5/site-packages/sklearn/ensemble/gradient_boosting.py\u001b[0m in \u001b[0;36mfit\u001b[0;34m(self, X, y, sample_weight, monitor)\u001b[0m\n\u001b[1;32m   1393\u001b[0m \u001b[0;34m\u001b[0m\u001b[0m\n\u001b[1;32m   1394\u001b[0m         \u001b[0;31m# Check input\u001b[0m\u001b[0;34m\u001b[0m\u001b[0;34m\u001b[0m\u001b[0m\n\u001b[0;32m-> 1395\u001b[0;31m         \u001b[0mX\u001b[0m\u001b[0;34m,\u001b[0m \u001b[0my\u001b[0m \u001b[0;34m=\u001b[0m \u001b[0mcheck_X_y\u001b[0m\u001b[0;34m(\u001b[0m\u001b[0mX\u001b[0m\u001b[0;34m,\u001b[0m \u001b[0my\u001b[0m\u001b[0;34m,\u001b[0m \u001b[0maccept_sparse\u001b[0m\u001b[0;34m=\u001b[0m\u001b[0;34m[\u001b[0m\u001b[0;34m'csr'\u001b[0m\u001b[0;34m,\u001b[0m \u001b[0;34m'csc'\u001b[0m\u001b[0;34m,\u001b[0m \u001b[0;34m'coo'\u001b[0m\u001b[0;34m]\u001b[0m\u001b[0;34m,\u001b[0m \u001b[0mdtype\u001b[0m\u001b[0;34m=\u001b[0m\u001b[0mDTYPE\u001b[0m\u001b[0;34m)\u001b[0m\u001b[0;34m\u001b[0m\u001b[0m\n\u001b[0m\u001b[1;32m   1396\u001b[0m         \u001b[0mn_samples\u001b[0m\u001b[0;34m,\u001b[0m \u001b[0mself\u001b[0m\u001b[0;34m.\u001b[0m\u001b[0mn_features_\u001b[0m \u001b[0;34m=\u001b[0m \u001b[0mX\u001b[0m\u001b[0;34m.\u001b[0m\u001b[0mshape\u001b[0m\u001b[0;34m\u001b[0m\u001b[0m\n\u001b[1;32m   1397\u001b[0m         \u001b[0;32mif\u001b[0m \u001b[0msample_weight\u001b[0m \u001b[0;32mis\u001b[0m \u001b[0;32mNone\u001b[0m\u001b[0;34m:\u001b[0m\u001b[0;34m\u001b[0m\u001b[0m\n",
      "\u001b[0;32m/home/isabel/anaconda3/envs/ml_for_algo_trading/lib/python3.5/site-packages/sklearn/utils/validation.py\u001b[0m in \u001b[0;36mcheck_X_y\u001b[0;34m(X, y, accept_sparse, accept_large_sparse, dtype, order, copy, force_all_finite, ensure_2d, allow_nd, multi_output, ensure_min_samples, ensure_min_features, y_numeric, warn_on_dtype, estimator)\u001b[0m\n\u001b[1;32m    750\u001b[0m                         dtype=None)\n\u001b[1;32m    751\u001b[0m     \u001b[0;32melse\u001b[0m\u001b[0;34m:\u001b[0m\u001b[0;34m\u001b[0m\u001b[0m\n\u001b[0;32m--> 752\u001b[0;31m         \u001b[0my\u001b[0m \u001b[0;34m=\u001b[0m \u001b[0mcolumn_or_1d\u001b[0m\u001b[0;34m(\u001b[0m\u001b[0my\u001b[0m\u001b[0;34m,\u001b[0m \u001b[0mwarn\u001b[0m\u001b[0;34m=\u001b[0m\u001b[0;32mTrue\u001b[0m\u001b[0;34m)\u001b[0m\u001b[0;34m\u001b[0m\u001b[0m\n\u001b[0m\u001b[1;32m    753\u001b[0m         \u001b[0m_assert_all_finite\u001b[0m\u001b[0;34m(\u001b[0m\u001b[0my\u001b[0m\u001b[0;34m)\u001b[0m\u001b[0;34m\u001b[0m\u001b[0m\n\u001b[1;32m    754\u001b[0m     \u001b[0;32mif\u001b[0m \u001b[0my_numeric\u001b[0m \u001b[0;32mand\u001b[0m \u001b[0my\u001b[0m\u001b[0;34m.\u001b[0m\u001b[0mdtype\u001b[0m\u001b[0;34m.\u001b[0m\u001b[0mkind\u001b[0m \u001b[0;34m==\u001b[0m \u001b[0;34m'O'\u001b[0m\u001b[0;34m:\u001b[0m\u001b[0;34m\u001b[0m\u001b[0m\n",
      "\u001b[0;32m/home/isabel/anaconda3/envs/ml_for_algo_trading/lib/python3.5/site-packages/sklearn/utils/validation.py\u001b[0m in \u001b[0;36mcolumn_or_1d\u001b[0;34m(y, warn)\u001b[0m\n\u001b[1;32m    786\u001b[0m         \u001b[0;32mreturn\u001b[0m \u001b[0mnp\u001b[0m\u001b[0;34m.\u001b[0m\u001b[0mravel\u001b[0m\u001b[0;34m(\u001b[0m\u001b[0my\u001b[0m\u001b[0;34m)\u001b[0m\u001b[0;34m\u001b[0m\u001b[0m\n\u001b[1;32m    787\u001b[0m \u001b[0;34m\u001b[0m\u001b[0m\n\u001b[0;32m--> 788\u001b[0;31m     \u001b[0;32mraise\u001b[0m \u001b[0mValueError\u001b[0m\u001b[0;34m(\u001b[0m\u001b[0;34m\"bad input shape {0}\"\u001b[0m\u001b[0;34m.\u001b[0m\u001b[0mformat\u001b[0m\u001b[0;34m(\u001b[0m\u001b[0mshape\u001b[0m\u001b[0;34m)\u001b[0m\u001b[0;34m)\u001b[0m\u001b[0;34m\u001b[0m\u001b[0m\n\u001b[0m\u001b[1;32m    789\u001b[0m \u001b[0;34m\u001b[0m\u001b[0m\n\u001b[1;32m    790\u001b[0m \u001b[0;34m\u001b[0m\u001b[0m\n",
      "\u001b[0;31mValueError\u001b[0m: bad input shape (5846, 8)"
     ]
    }
   ],
   "source": [
    "# Create GB model -- hyperparameters (to be tuned!!)\n",
    "gbr = GradientBoostingRegressor(max_features=4,\n",
    "                                learning_rate=0.01,\n",
    "                                n_estimators=200,\n",
    "                                subsample=0.6,\n",
    "                                random_state=42)\n",
    "gbr.fit(X_train, y_train)\n",
    "\n",
    "print(gbr.score(X_train, y_train))\n",
    "print(gbr.score(X_test, y_test))"
   ]
  }
 ],
 "metadata": {
  "kernelspec": {
   "display_name": "Python 3",
   "language": "python",
   "name": "python3"
  },
  "language_info": {
   "codemirror_mode": {
    "name": "ipython",
    "version": 3
   },
   "file_extension": ".py",
   "mimetype": "text/x-python",
   "name": "python",
   "nbconvert_exporter": "python",
   "pygments_lexer": "ipython3",
   "version": "3.5.6"
  }
 },
 "nbformat": 4,
 "nbformat_minor": 4
}
