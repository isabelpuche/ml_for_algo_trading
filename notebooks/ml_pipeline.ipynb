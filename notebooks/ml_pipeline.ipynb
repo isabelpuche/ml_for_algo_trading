{
 "cells": [
  {
   "cell_type": "markdown",
   "metadata": {},
   "source": [
    "1. [Load data bundle](#Load-data-bundle)\n",
    "\n",
    "1. [Feature's Engineering](#Feature's-Engineering)\n",
    "    1. [Factors' Engineering](#Factors'-Engineering)\n",
    "    1. [Signals' Engineering](#Signals'-Engineering)\n",
    "        \n",
    "1. [Trading Algorithm with Random Forest Prediction](#Trading-Algorithm-with-Random-Forest-Prediction)\n",
    "    1. [Random-Forest-Model-Design](#Random-Forest-Model-Design)\n",
    "    1. [Plug-in RF implementation into Trading Bot](#Plug-in-RF-implementation-into-Trading-Bot)\n",
    "    1. [Backtest ML Trading Strategy](#Backtest-ML-Trading-Strategy)"
   ]
  },
  {
   "cell_type": "markdown",
   "metadata": {},
   "source": [
    "## Import Libraries"
   ]
  },
  {
   "cell_type": "code",
   "execution_count": 1,
   "metadata": {},
   "outputs": [],
   "source": [
    "# Load IPython Magic\n",
    "%load_ext watermark\n",
    "%load_ext zipline"
   ]
  },
  {
   "cell_type": "code",
   "execution_count": 2,
   "metadata": {},
   "outputs": [],
   "source": [
    "# Import Libraries\n",
    "import numpy as np\n",
    "import matplotlib.pyplot as plt\n",
    "%matplotlib inline\n",
    "import seaborn as sns\n",
    "import pandas as pd\n",
    "import zipline\n",
    "from yahoofinancials import YahooFinancials\n",
    "import warnings\n",
    "\n",
    "\n",
    "# Default working directory\n",
    "# os.chdir(\"../data\")\n",
    "\n",
    "# Display maximum columns\n",
    "pd.set_option('display.max_columns', None)\n",
    "\n",
    "# Seaborn graphic style as default\n",
    "plt.style.use('seaborn')\n",
    "# Graphics default size\n",
    "plt.rcParams['figure.figsize'] = [16, 9]\n",
    "plt.rcParams['figure.dpi'] = 200\n",
    "\n",
    "# Warnings\n",
    "warnings.simplefilter(action='ignore', category=FutureWarning)"
   ]
  },
  {
   "cell_type": "markdown",
   "metadata": {},
   "source": [
    "# Load data bundle\n",
    "<div style = \"float:right\"><a style=\"text-decoration:none\" href = \"#inicio\">Inicio</a></div>"
   ]
  },
  {
   "cell_type": "code",
   "execution_count": 3,
   "metadata": {},
   "outputs": [],
   "source": [
    "from zipline.data.data_portal import DataPortal\n",
    "from zipline.data import bundles\n",
    "from zipline.utils.calendars import get_calendar\n",
    "\n",
    "import os\n",
    "\n",
    "from zipline.utils.run_algo import load_extensions\n",
    "\n",
    "load_extensions(\n",
    "    default=True,\n",
    "    extensions=[],\n",
    "    strict=True,\n",
    "    environ=os.environ,\n",
    ")"
   ]
  },
  {
   "cell_type": "code",
   "execution_count": 4,
   "metadata": {},
   "outputs": [],
   "source": [
    "bundle_data = bundles.load('quandl')"
   ]
  },
  {
   "cell_type": "code",
   "execution_count": 5,
   "metadata": {},
   "outputs": [
    {
     "name": "stdout",
     "output_type": "stream",
     "text": [
      "<class 'zipline.data.bundles.core.BundleData'>\n"
     ]
    }
   ],
   "source": [
    "print(type(bundle_data))"
   ]
  },
  {
   "cell_type": "code",
   "execution_count": 6,
   "metadata": {},
   "outputs": [],
   "source": [
    "end_date = pd.Timestamp(\"2018-03-27\", tz=\"utc\")"
   ]
  },
  {
   "cell_type": "code",
   "execution_count": 7,
   "metadata": {},
   "outputs": [
    {
     "data": {
      "text/plain": [
       "Timestamp('1990-01-02 00:00:00+0000', tz='UTC')"
      ]
     },
     "execution_count": 7,
     "metadata": {},
     "output_type": "execute_result"
    }
   ],
   "source": [
    "bundle_data.equity_daily_bar_reader.first_trading_day"
   ]
  },
  {
   "cell_type": "code",
   "execution_count": 8,
   "metadata": {},
   "outputs": [],
   "source": [
    "data_por = DataPortal(\n",
    "    asset_finder=bundle_data.asset_finder,\n",
    "    trading_calendar=get_calendar(\"NYSE\"),\n",
    "    first_trading_day=bundle_data.equity_daily_bar_reader.first_trading_day,\n",
    "    equity_daily_reader=bundle_data.equity_daily_bar_reader\n",
    ")"
   ]
  },
  {
   "cell_type": "code",
   "execution_count": 9,
   "metadata": {},
   "outputs": [],
   "source": [
    "AAPL = data_por.asset_finder.lookup_symbol(\n",
    "    'AAPL',\n",
    "    as_of_date=None\n",
    ")"
   ]
  },
  {
   "cell_type": "code",
   "execution_count": 10,
   "metadata": {},
   "outputs": [],
   "source": [
    "df = data_por.get_history_window(\n",
    "    assets=[AAPL],\n",
    "    end_dt=end_date,\n",
    "    bar_count=7000,\n",
    "    frequency='1d',\n",
    "    data_frequency='daily',\n",
    "    field='open'\n",
    ")"
   ]
  },
  {
   "cell_type": "code",
   "execution_count": 11,
   "metadata": {},
   "outputs": [
    {
     "data": {
      "text/html": [
       "<div>\n",
       "<style scoped>\n",
       "    .dataframe tbody tr th:only-of-type {\n",
       "        vertical-align: middle;\n",
       "    }\n",
       "\n",
       "    .dataframe tbody tr th {\n",
       "        vertical-align: top;\n",
       "    }\n",
       "\n",
       "    .dataframe thead th {\n",
       "        text-align: right;\n",
       "    }\n",
       "</style>\n",
       "<table border=\"1\" class=\"dataframe\">\n",
       "  <thead>\n",
       "    <tr style=\"text-align: right;\">\n",
       "      <th></th>\n",
       "      <th>Equity(8 [AAPL])</th>\n",
       "    </tr>\n",
       "  </thead>\n",
       "  <tbody>\n",
       "    <tr>\n",
       "      <th>2018-03-21 00:00:00+00:00</th>\n",
       "      <td>175.04</td>\n",
       "    </tr>\n",
       "    <tr>\n",
       "      <th>2018-03-22 00:00:00+00:00</th>\n",
       "      <td>170.00</td>\n",
       "    </tr>\n",
       "    <tr>\n",
       "      <th>2018-03-23 00:00:00+00:00</th>\n",
       "      <td>168.39</td>\n",
       "    </tr>\n",
       "    <tr>\n",
       "      <th>2018-03-26 00:00:00+00:00</th>\n",
       "      <td>168.07</td>\n",
       "    </tr>\n",
       "    <tr>\n",
       "      <th>2018-03-27 00:00:00+00:00</th>\n",
       "      <td>173.68</td>\n",
       "    </tr>\n",
       "  </tbody>\n",
       "</table>\n",
       "</div>"
      ],
      "text/plain": [
       "                           Equity(8 [AAPL])\n",
       "2018-03-21 00:00:00+00:00            175.04\n",
       "2018-03-22 00:00:00+00:00            170.00\n",
       "2018-03-23 00:00:00+00:00            168.39\n",
       "2018-03-26 00:00:00+00:00            168.07\n",
       "2018-03-27 00:00:00+00:00            173.68"
      ]
     },
     "execution_count": 11,
     "metadata": {},
     "output_type": "execute_result"
    }
   ],
   "source": [
    "df.tail()"
   ]
  },
  {
   "cell_type": "code",
   "execution_count": 12,
   "metadata": {},
   "outputs": [],
   "source": [
    "df.index = pd.DatetimeIndex(df.index)"
   ]
  },
  {
   "cell_type": "code",
   "execution_count": 13,
   "metadata": {},
   "outputs": [],
   "source": [
    "df['close'] = df[list(df.columns)[0]]"
   ]
  },
  {
   "cell_type": "code",
   "execution_count": 14,
   "metadata": {},
   "outputs": [
    {
     "data": {
      "text/html": [
       "<div>\n",
       "<style scoped>\n",
       "    .dataframe tbody tr th:only-of-type {\n",
       "        vertical-align: middle;\n",
       "    }\n",
       "\n",
       "    .dataframe tbody tr th {\n",
       "        vertical-align: top;\n",
       "    }\n",
       "\n",
       "    .dataframe thead th {\n",
       "        text-align: right;\n",
       "    }\n",
       "</style>\n",
       "<table border=\"1\" class=\"dataframe\">\n",
       "  <thead>\n",
       "    <tr style=\"text-align: right;\">\n",
       "      <th></th>\n",
       "      <th>close</th>\n",
       "    </tr>\n",
       "  </thead>\n",
       "  <tbody>\n",
       "    <tr>\n",
       "      <th>1990-06-15 00:00:00+00:00</th>\n",
       "      <td>39.75</td>\n",
       "    </tr>\n",
       "    <tr>\n",
       "      <th>1990-06-18 00:00:00+00:00</th>\n",
       "      <td>39.25</td>\n",
       "    </tr>\n",
       "    <tr>\n",
       "      <th>1990-06-19 00:00:00+00:00</th>\n",
       "      <td>39.00</td>\n",
       "    </tr>\n",
       "    <tr>\n",
       "      <th>1990-06-20 00:00:00+00:00</th>\n",
       "      <td>39.88</td>\n",
       "    </tr>\n",
       "    <tr>\n",
       "      <th>1990-06-21 00:00:00+00:00</th>\n",
       "      <td>40.00</td>\n",
       "    </tr>\n",
       "  </tbody>\n",
       "</table>\n",
       "</div>"
      ],
      "text/plain": [
       "                           close\n",
       "1990-06-15 00:00:00+00:00  39.75\n",
       "1990-06-18 00:00:00+00:00  39.25\n",
       "1990-06-19 00:00:00+00:00  39.00\n",
       "1990-06-20 00:00:00+00:00  39.88\n",
       "1990-06-21 00:00:00+00:00  40.00"
      ]
     },
     "execution_count": 14,
     "metadata": {},
     "output_type": "execute_result"
    }
   ],
   "source": [
    "df = df.drop(columns=[list(df.columns)[0]])\n",
    "df.head()"
   ]
  },
  {
   "cell_type": "markdown",
   "metadata": {},
   "source": [
    "# Feature's Engineering\n",
    "<div style = \"float:right\"><a style=\"text-decoration:none\" href = \"#inicio\">Inicio</a></div>"
   ]
  },
  {
   "cell_type": "markdown",
   "metadata": {},
   "source": [
    "In this section, we shall deal with simple returns and enrich our DataFrame with new features. <br>\n",
    "\n",
    "In finance, there are three important sources of data for quantitative analysis: <br>\n",
    "<ol>\n",
    "    <li>Technical data (OHLCV)</li>\n",
    "    <li>Fundamental Analysis (companies' value)</li>\n",
    "    <li>Alternative Analysis (sentiment analysis, news analysis, geolocalisation, etc)</li>\n",
    "</ol> \n",
    "With <b>technical analysis</b>, we shall look into historical patterns that may reproduce in the future.\n",
    "<b>Fundamental analysis</b> is in turn useful to assess value indicators of listed companies.\n",
    "<b>Alternative analysis</b> may provide additionnal explanatory power to estimate to our target.<br>\n",
    "\n",
    "Let's, for the moment, stick to technical analysis and build 40-days lagged closing price variables according to the following model logic: with 32-days historical prices, let's predict 8 stock prices ahead."
   ]
  },
  {
   "cell_type": "markdown",
   "metadata": {},
   "source": [
    "## Factors' Engineering\n",
    "<div style = \"float:right\"><a style=\"text-decoration:none\" href = \"#inicio\">Inicio</a></div>"
   ]
  },
  {
   "cell_type": "code",
   "execution_count": 15,
   "metadata": {},
   "outputs": [],
   "source": [
    "df['1d'] = df.shift(-1)"
   ]
  },
  {
   "cell_type": "code",
   "execution_count": 16,
   "metadata": {},
   "outputs": [],
   "source": [
    "for d in range(2, 41):\n",
    "    col = '%dd'% d\n",
    "    df[col] = df['close'].shift(-1 * d)"
   ]
  },
  {
   "cell_type": "code",
   "execution_count": 17,
   "metadata": {},
   "outputs": [],
   "source": [
    "df = df.dropna()"
   ]
  },
  {
   "cell_type": "code",
   "execution_count": 18,
   "metadata": {},
   "outputs": [
    {
     "data": {
      "text/html": [
       "<div>\n",
       "<style scoped>\n",
       "    .dataframe tbody tr th:only-of-type {\n",
       "        vertical-align: middle;\n",
       "    }\n",
       "\n",
       "    .dataframe tbody tr th {\n",
       "        vertical-align: top;\n",
       "    }\n",
       "\n",
       "    .dataframe thead th {\n",
       "        text-align: right;\n",
       "    }\n",
       "</style>\n",
       "<table border=\"1\" class=\"dataframe\">\n",
       "  <thead>\n",
       "    <tr style=\"text-align: right;\">\n",
       "      <th></th>\n",
       "      <th>close</th>\n",
       "      <th>1d</th>\n",
       "      <th>2d</th>\n",
       "      <th>3d</th>\n",
       "      <th>4d</th>\n",
       "      <th>5d</th>\n",
       "      <th>6d</th>\n",
       "      <th>7d</th>\n",
       "      <th>8d</th>\n",
       "      <th>9d</th>\n",
       "      <th>10d</th>\n",
       "      <th>11d</th>\n",
       "      <th>12d</th>\n",
       "      <th>13d</th>\n",
       "      <th>14d</th>\n",
       "      <th>15d</th>\n",
       "      <th>16d</th>\n",
       "      <th>17d</th>\n",
       "      <th>18d</th>\n",
       "      <th>19d</th>\n",
       "      <th>20d</th>\n",
       "      <th>21d</th>\n",
       "      <th>22d</th>\n",
       "      <th>23d</th>\n",
       "      <th>24d</th>\n",
       "      <th>25d</th>\n",
       "      <th>26d</th>\n",
       "      <th>27d</th>\n",
       "      <th>28d</th>\n",
       "      <th>29d</th>\n",
       "      <th>30d</th>\n",
       "      <th>31d</th>\n",
       "      <th>32d</th>\n",
       "      <th>33d</th>\n",
       "      <th>34d</th>\n",
       "      <th>35d</th>\n",
       "      <th>36d</th>\n",
       "      <th>37d</th>\n",
       "      <th>38d</th>\n",
       "      <th>39d</th>\n",
       "      <th>40d</th>\n",
       "    </tr>\n",
       "  </thead>\n",
       "  <tbody>\n",
       "    <tr>\n",
       "      <th>1990-06-15 00:00:00+00:00</th>\n",
       "      <td>39.75</td>\n",
       "      <td>39.25</td>\n",
       "      <td>39.00</td>\n",
       "      <td>39.88</td>\n",
       "      <td>40.00</td>\n",
       "      <td>42.00</td>\n",
       "      <td>41.50</td>\n",
       "      <td>41.75</td>\n",
       "      <td>40.75</td>\n",
       "      <td>42.75</td>\n",
       "      <td>43.00</td>\n",
       "      <td>44.50</td>\n",
       "      <td>43.88</td>\n",
       "      <td>43.75</td>\n",
       "      <td>43.50</td>\n",
       "      <td>45.00</td>\n",
       "      <td>47.00</td>\n",
       "      <td>46.75</td>\n",
       "      <td>46.75</td>\n",
       "      <td>47.50</td>\n",
       "      <td>46.75</td>\n",
       "      <td>45.75</td>\n",
       "      <td>44.50</td>\n",
       "      <td>40.75</td>\n",
       "      <td>42.00</td>\n",
       "      <td>41.00</td>\n",
       "      <td>42.00</td>\n",
       "      <td>42.00</td>\n",
       "      <td>42.25</td>\n",
       "      <td>41.25</td>\n",
       "      <td>40.75</td>\n",
       "      <td>42.50</td>\n",
       "      <td>42.00</td>\n",
       "      <td>41.25</td>\n",
       "      <td>43.50</td>\n",
       "      <td>39.00</td>\n",
       "      <td>40.25</td>\n",
       "      <td>39.50</td>\n",
       "      <td>40.25</td>\n",
       "      <td>38.75</td>\n",
       "      <td>38.0</td>\n",
       "    </tr>\n",
       "    <tr>\n",
       "      <th>1990-06-18 00:00:00+00:00</th>\n",
       "      <td>39.25</td>\n",
       "      <td>39.00</td>\n",
       "      <td>39.88</td>\n",
       "      <td>40.00</td>\n",
       "      <td>42.00</td>\n",
       "      <td>41.50</td>\n",
       "      <td>41.75</td>\n",
       "      <td>40.75</td>\n",
       "      <td>42.75</td>\n",
       "      <td>43.00</td>\n",
       "      <td>44.50</td>\n",
       "      <td>43.88</td>\n",
       "      <td>43.75</td>\n",
       "      <td>43.50</td>\n",
       "      <td>45.00</td>\n",
       "      <td>47.00</td>\n",
       "      <td>46.75</td>\n",
       "      <td>46.75</td>\n",
       "      <td>47.50</td>\n",
       "      <td>46.75</td>\n",
       "      <td>45.75</td>\n",
       "      <td>44.50</td>\n",
       "      <td>40.75</td>\n",
       "      <td>42.00</td>\n",
       "      <td>41.00</td>\n",
       "      <td>42.00</td>\n",
       "      <td>42.00</td>\n",
       "      <td>42.25</td>\n",
       "      <td>41.25</td>\n",
       "      <td>40.75</td>\n",
       "      <td>42.50</td>\n",
       "      <td>42.00</td>\n",
       "      <td>41.25</td>\n",
       "      <td>43.50</td>\n",
       "      <td>39.00</td>\n",
       "      <td>40.25</td>\n",
       "      <td>39.50</td>\n",
       "      <td>40.25</td>\n",
       "      <td>38.75</td>\n",
       "      <td>38.00</td>\n",
       "      <td>40.0</td>\n",
       "    </tr>\n",
       "    <tr>\n",
       "      <th>1990-06-19 00:00:00+00:00</th>\n",
       "      <td>39.00</td>\n",
       "      <td>39.88</td>\n",
       "      <td>40.00</td>\n",
       "      <td>42.00</td>\n",
       "      <td>41.50</td>\n",
       "      <td>41.75</td>\n",
       "      <td>40.75</td>\n",
       "      <td>42.75</td>\n",
       "      <td>43.00</td>\n",
       "      <td>44.50</td>\n",
       "      <td>43.88</td>\n",
       "      <td>43.75</td>\n",
       "      <td>43.50</td>\n",
       "      <td>45.00</td>\n",
       "      <td>47.00</td>\n",
       "      <td>46.75</td>\n",
       "      <td>46.75</td>\n",
       "      <td>47.50</td>\n",
       "      <td>46.75</td>\n",
       "      <td>45.75</td>\n",
       "      <td>44.50</td>\n",
       "      <td>40.75</td>\n",
       "      <td>42.00</td>\n",
       "      <td>41.00</td>\n",
       "      <td>42.00</td>\n",
       "      <td>42.00</td>\n",
       "      <td>42.25</td>\n",
       "      <td>41.25</td>\n",
       "      <td>40.75</td>\n",
       "      <td>42.50</td>\n",
       "      <td>42.00</td>\n",
       "      <td>41.25</td>\n",
       "      <td>43.50</td>\n",
       "      <td>39.00</td>\n",
       "      <td>40.25</td>\n",
       "      <td>39.50</td>\n",
       "      <td>40.25</td>\n",
       "      <td>38.75</td>\n",
       "      <td>38.00</td>\n",
       "      <td>40.00</td>\n",
       "      <td>40.0</td>\n",
       "    </tr>\n",
       "    <tr>\n",
       "      <th>1990-06-20 00:00:00+00:00</th>\n",
       "      <td>39.88</td>\n",
       "      <td>40.00</td>\n",
       "      <td>42.00</td>\n",
       "      <td>41.50</td>\n",
       "      <td>41.75</td>\n",
       "      <td>40.75</td>\n",
       "      <td>42.75</td>\n",
       "      <td>43.00</td>\n",
       "      <td>44.50</td>\n",
       "      <td>43.88</td>\n",
       "      <td>43.75</td>\n",
       "      <td>43.50</td>\n",
       "      <td>45.00</td>\n",
       "      <td>47.00</td>\n",
       "      <td>46.75</td>\n",
       "      <td>46.75</td>\n",
       "      <td>47.50</td>\n",
       "      <td>46.75</td>\n",
       "      <td>45.75</td>\n",
       "      <td>44.50</td>\n",
       "      <td>40.75</td>\n",
       "      <td>42.00</td>\n",
       "      <td>41.00</td>\n",
       "      <td>42.00</td>\n",
       "      <td>42.00</td>\n",
       "      <td>42.25</td>\n",
       "      <td>41.25</td>\n",
       "      <td>40.75</td>\n",
       "      <td>42.50</td>\n",
       "      <td>42.00</td>\n",
       "      <td>41.25</td>\n",
       "      <td>43.50</td>\n",
       "      <td>39.00</td>\n",
       "      <td>40.25</td>\n",
       "      <td>39.50</td>\n",
       "      <td>40.25</td>\n",
       "      <td>38.75</td>\n",
       "      <td>38.00</td>\n",
       "      <td>40.00</td>\n",
       "      <td>40.00</td>\n",
       "      <td>39.0</td>\n",
       "    </tr>\n",
       "    <tr>\n",
       "      <th>1990-06-21 00:00:00+00:00</th>\n",
       "      <td>40.00</td>\n",
       "      <td>42.00</td>\n",
       "      <td>41.50</td>\n",
       "      <td>41.75</td>\n",
       "      <td>40.75</td>\n",
       "      <td>42.75</td>\n",
       "      <td>43.00</td>\n",
       "      <td>44.50</td>\n",
       "      <td>43.88</td>\n",
       "      <td>43.75</td>\n",
       "      <td>43.50</td>\n",
       "      <td>45.00</td>\n",
       "      <td>47.00</td>\n",
       "      <td>46.75</td>\n",
       "      <td>46.75</td>\n",
       "      <td>47.50</td>\n",
       "      <td>46.75</td>\n",
       "      <td>45.75</td>\n",
       "      <td>44.50</td>\n",
       "      <td>40.75</td>\n",
       "      <td>42.00</td>\n",
       "      <td>41.00</td>\n",
       "      <td>42.00</td>\n",
       "      <td>42.00</td>\n",
       "      <td>42.25</td>\n",
       "      <td>41.25</td>\n",
       "      <td>40.75</td>\n",
       "      <td>42.50</td>\n",
       "      <td>42.00</td>\n",
       "      <td>41.25</td>\n",
       "      <td>43.50</td>\n",
       "      <td>39.00</td>\n",
       "      <td>40.25</td>\n",
       "      <td>39.50</td>\n",
       "      <td>40.25</td>\n",
       "      <td>38.75</td>\n",
       "      <td>38.00</td>\n",
       "      <td>40.00</td>\n",
       "      <td>40.00</td>\n",
       "      <td>39.00</td>\n",
       "      <td>38.5</td>\n",
       "    </tr>\n",
       "  </tbody>\n",
       "</table>\n",
       "</div>"
      ],
      "text/plain": [
       "                           close     1d     2d     3d     4d     5d     6d  \\\n",
       "1990-06-15 00:00:00+00:00  39.75  39.25  39.00  39.88  40.00  42.00  41.50   \n",
       "1990-06-18 00:00:00+00:00  39.25  39.00  39.88  40.00  42.00  41.50  41.75   \n",
       "1990-06-19 00:00:00+00:00  39.00  39.88  40.00  42.00  41.50  41.75  40.75   \n",
       "1990-06-20 00:00:00+00:00  39.88  40.00  42.00  41.50  41.75  40.75  42.75   \n",
       "1990-06-21 00:00:00+00:00  40.00  42.00  41.50  41.75  40.75  42.75  43.00   \n",
       "\n",
       "                              7d     8d     9d    10d    11d    12d    13d  \\\n",
       "1990-06-15 00:00:00+00:00  41.75  40.75  42.75  43.00  44.50  43.88  43.75   \n",
       "1990-06-18 00:00:00+00:00  40.75  42.75  43.00  44.50  43.88  43.75  43.50   \n",
       "1990-06-19 00:00:00+00:00  42.75  43.00  44.50  43.88  43.75  43.50  45.00   \n",
       "1990-06-20 00:00:00+00:00  43.00  44.50  43.88  43.75  43.50  45.00  47.00   \n",
       "1990-06-21 00:00:00+00:00  44.50  43.88  43.75  43.50  45.00  47.00  46.75   \n",
       "\n",
       "                             14d    15d    16d    17d    18d    19d    20d  \\\n",
       "1990-06-15 00:00:00+00:00  43.50  45.00  47.00  46.75  46.75  47.50  46.75   \n",
       "1990-06-18 00:00:00+00:00  45.00  47.00  46.75  46.75  47.50  46.75  45.75   \n",
       "1990-06-19 00:00:00+00:00  47.00  46.75  46.75  47.50  46.75  45.75  44.50   \n",
       "1990-06-20 00:00:00+00:00  46.75  46.75  47.50  46.75  45.75  44.50  40.75   \n",
       "1990-06-21 00:00:00+00:00  46.75  47.50  46.75  45.75  44.50  40.75  42.00   \n",
       "\n",
       "                             21d    22d    23d    24d    25d    26d    27d  \\\n",
       "1990-06-15 00:00:00+00:00  45.75  44.50  40.75  42.00  41.00  42.00  42.00   \n",
       "1990-06-18 00:00:00+00:00  44.50  40.75  42.00  41.00  42.00  42.00  42.25   \n",
       "1990-06-19 00:00:00+00:00  40.75  42.00  41.00  42.00  42.00  42.25  41.25   \n",
       "1990-06-20 00:00:00+00:00  42.00  41.00  42.00  42.00  42.25  41.25  40.75   \n",
       "1990-06-21 00:00:00+00:00  41.00  42.00  42.00  42.25  41.25  40.75  42.50   \n",
       "\n",
       "                             28d    29d    30d    31d    32d    33d    34d  \\\n",
       "1990-06-15 00:00:00+00:00  42.25  41.25  40.75  42.50  42.00  41.25  43.50   \n",
       "1990-06-18 00:00:00+00:00  41.25  40.75  42.50  42.00  41.25  43.50  39.00   \n",
       "1990-06-19 00:00:00+00:00  40.75  42.50  42.00  41.25  43.50  39.00  40.25   \n",
       "1990-06-20 00:00:00+00:00  42.50  42.00  41.25  43.50  39.00  40.25  39.50   \n",
       "1990-06-21 00:00:00+00:00  42.00  41.25  43.50  39.00  40.25  39.50  40.25   \n",
       "\n",
       "                             35d    36d    37d    38d    39d   40d  \n",
       "1990-06-15 00:00:00+00:00  39.00  40.25  39.50  40.25  38.75  38.0  \n",
       "1990-06-18 00:00:00+00:00  40.25  39.50  40.25  38.75  38.00  40.0  \n",
       "1990-06-19 00:00:00+00:00  39.50  40.25  38.75  38.00  40.00  40.0  \n",
       "1990-06-20 00:00:00+00:00  40.25  38.75  38.00  40.00  40.00  39.0  \n",
       "1990-06-21 00:00:00+00:00  38.75  38.00  40.00  40.00  39.00  38.5  "
      ]
     },
     "execution_count": 18,
     "metadata": {},
     "output_type": "execute_result"
    }
   ],
   "source": [
    "df.head()"
   ]
  },
  {
   "cell_type": "markdown",
   "metadata": {},
   "source": [
    "Let's now split the series between features and targets."
   ]
  },
  {
   "cell_type": "code",
   "execution_count": 19,
   "metadata": {},
   "outputs": [],
   "source": [
    "# Create features (X) and targets (y)\n",
    "X = df.iloc[:,:33]\n",
    "y = df.iloc[:,33:]\n"
   ]
  },
  {
   "cell_type": "markdown",
   "metadata": {},
   "source": [
    "# Trading Algorithm with Random Forest Prediction\n",
    "<div style = \"float:right\"><a style=\"text-decoration:none\" href = \"#inicio\">Inicio</a></div>"
   ]
  },
  {
   "cell_type": "markdown",
   "metadata": {},
   "source": [
    "### Import Libraries"
   ]
  },
  {
   "cell_type": "code",
   "execution_count": 20,
   "metadata": {},
   "outputs": [],
   "source": [
    "# Sklearn model selection\n",
    "from sklearn.model_selection import train_test_split\n",
    "\n",
    "# Regressors\n",
    "import statsmodels.api as sm\n",
    "from sklearn.tree import DecisionTreeRegressor\n",
    "from sklearn.ensemble import RandomForestRegressor\n",
    "from sklearn.ensemble import GradientBoostingRegressor\n",
    "\n",
    "# from keras.models import Sequential\n",
    "# from keras.layers import Dense\n",
    "# from keras.layers import Dropout\n",
    "\n",
    "# Data Scaling (for KNN-neighbours)\n",
    "from sklearn.preprocessing import scale\n",
    "\n",
    "# Hyperparameter tuning\n",
    "from sklearn.model_selection import ParameterGrid\n",
    "from sklearn.model_selection import GridSearchCV\n",
    "from sklearn.model_selection import cross_val_score\n",
    "\n",
    "# Metrics\n",
    "from sklearn.metrics import r2_score\n",
    "\n",
    "# Neural Networks loss function\n",
    "# import keras.losses\n",
    "# import tensorflow as tf\n"
   ]
  },
  {
   "cell_type": "markdown",
   "metadata": {},
   "source": [
    "<b>Neural Networks and Zipline</b><br>\n",
    "<code>Keras</code> and <code>Tensorflow</code> are not supported in local Zipline research environment. Though having installed both, a message error is displayed when importing them. To date, no satisfactory and technically feasible solutions have been found to port the DL algorithm into the Zipline local platform. For that reason, and regrettably enough, deep learning models cannot be performed in this project but will be explored in the future, hopefully in a Zipline environment.<br>\n",
    "Particularly,Long-Short Term Memory (LSTM) and Echo State Networks (ESN) models that is,  Recurrent Neural Networks, seem to work fine with financial time series, since they are able to capture non-linear relationships among variables and correct for vanishing gradient descents."
   ]
  },
  {
   "cell_type": "markdown",
   "metadata": {},
   "source": [
    "<b>Step-by-step approach</b><br>\n",
    "In this section, we shall\n",
    "<ul>\n",
    "    <li>instantiate ML models</li>\n",
    "    <li>perform hyperparameter tuning and cross-validation</li>\n",
    "    <li>train our models, perform predictions and measure errors</li>\n",
    "    <li>export results in a joblib format</li>\n",
    "    <li>plug-in joblib RF regressor into our trading bot</li>\n",
    "</ul>\n",
    "    "
   ]
  },
  {
   "cell_type": "markdown",
   "metadata": {},
   "source": [
    "### Train, Test, Split"
   ]
  },
  {
   "cell_type": "markdown",
   "metadata": {},
   "source": [
    "Considering that financial times series is not independent and identically distibuted, on grounds of serial autocorrelation and time-varying standard deviation, we shall prevent the series split from shuffling. Further on, we shall use TimeSeriesSplit object from sklearn to allow for incremental cross validation."
   ]
  },
  {
   "cell_type": "code",
   "execution_count": 21,
   "metadata": {},
   "outputs": [],
   "source": [
    "X_train, X_test, y_train, y_test = train_test_split(X, y, shuffle = False, train_size = 0.85, random_state = 1)"
   ]
  },
  {
   "cell_type": "code",
   "execution_count": 22,
   "metadata": {},
   "outputs": [
    {
     "data": {
      "text/plain": [
       "(5846, 33)"
      ]
     },
     "execution_count": 22,
     "metadata": {},
     "output_type": "execute_result"
    }
   ],
   "source": [
    "X_train.shape"
   ]
  },
  {
   "cell_type": "code",
   "execution_count": 25,
   "metadata": {},
   "outputs": [
    {
     "data": {
      "text/plain": [
       "(1032, 33)"
      ]
     },
     "execution_count": 25,
     "metadata": {},
     "output_type": "execute_result"
    }
   ],
   "source": [
    "X_test.shape"
   ]
  },
  {
   "cell_type": "markdown",
   "metadata": {},
   "source": [
    "## Random-Forest-Model-Design\n",
    "<div style = \"float:right\"><a style=\"text-decoration:none\" href = \"#inicio\">Inicio</a></div>"
   ]
  },
  {
   "cell_type": "markdown",
   "metadata": {},
   "source": [
    "As for now, we shall use sklearn's Parameter Grid to tailor our hyperparameters search and retrieve the best performing one. We then fit and predict the RF and calculate our MSE scores."
   ]
  },
  {
   "cell_type": "code",
   "execution_count": 23,
   "metadata": {},
   "outputs": [
    {
     "name": "stdout",
     "output_type": "stream",
     "text": [
      "0.9101405503176044 {'n_estimators': 200, 'max_depth': 7, 'max_features': 8, 'random_state': 42}\n"
     ]
    }
   ],
   "source": [
    "# First, create an Instance\n",
    "regressor = RandomForestRegressor()\n",
    "\n",
    "# Second, create a dictionnary of hyperparameters to search\n",
    "grid = {'n_estimators': [100, 200], 'max_depth': [3, 7], 'max_features': [4, 8], 'random_state': [42]}\n",
    "test_scores = []\n",
    "\n",
    "# Third, loop over the parameter grid, set the hyperparameters and save the scores\n",
    "for g in ParameterGrid(grid):\n",
    "    regressor.set_params(**g) # unpack the dictionnary\n",
    "    regressor.fit(X_train, y_train)\n",
    "    test_scores.append(regressor.score(X_test, y_test))\n",
    "    \n",
    "# Fourth, find best hyperparameters\n",
    "best_idx = np.argmax(test_scores)\n",
    "print(test_scores[best_idx], ParameterGrid(grid)[best_idx])\n",
    "    "
   ]
  },
  {
   "cell_type": "code",
   "execution_count": 24,
   "metadata": {},
   "outputs": [],
   "source": [
    "# Instantiate the model\n",
    "regressor = RandomForestRegressor(n_estimators = 200, max_depth = 5, max_features = 8, random_state = 42)\n",
    "\n",
    "# Fit the model\n",
    "regressor.fit(X_train, y_train)\n",
    "\n",
    "# Make predictions\n",
    "train_pred_rfr = regressor.predict(X_train)\n",
    "test_pred_rfr = regressor.predict(X_test)"
   ]
  },
  {
   "cell_type": "code",
   "execution_count": 34,
   "metadata": {},
   "outputs": [
    {
     "data": {
      "image/png": "[encoded data removed]",
      "text/plain": [
       "<Figure size 1296x576 with 1 Axes>"
      ]
     },
     "metadata": {},
     "output_type": "display_data"
    },
    {
     "name": "stdout",
     "output_type": "stream",
     "text": [
      "0.9974298479136544\n",
      "0.909883586027943\n"
     ]
    }
   ],
   "source": [
    "# Set initial plot options\n",
    "# sns.set_style('white')\n",
    "plt.figure(figsize = (18, 8))\n",
    "\n",
    "# Create a lineplot\n",
    "sns.lineplot(x = y_test.index,\n",
    "             y = y_test['40d'], \n",
    "             # Change colors for each hue category\n",
    "             palette = [\"r\"], \n",
    "             # Add points to lineplot and remove confidence interval\n",
    "             markers = 'o', ci = None, label='test')\n",
    "sns.lineplot(x = y_test.index,\n",
    "             y = test_pred_rfr[:,7], \n",
    "             # Change colors for each hue category\n",
    "             palette = [\"g\"], \n",
    "             # Add points to lineplot and remove confidence interval\n",
    "             markers = 'o', ci = None, label='predicted')\n",
    "\n",
    "# Final formatting\n",
    "plt.xlabel(\"date\", fontsize = 12, fontweight = \"semibold\")\n",
    "plt.ylabel(\"Price in EUR\", fontsize = 12, fontweight = \"semibold\")\n",
    "plt.title(\"Test and Prediction Results\", fontsize = 14, fontweight = \"semibold\")\n",
    "plt.show()\n",
    "\n",
    "# Print scores\n",
    "print(regressor.score(X_train, y_train))\n",
    "print(regressor.score(X_test, y_test))"
   ]
  },
  {
   "cell_type": "code",
   "execution_count": 28,
   "metadata": {},
   "outputs": [
    {
     "data": {
      "text/plain": [
       "array([176.53137954, 176.65627176, 176.71447498, 176.70545694,\n",
       "       176.61889651, 176.5031013 , 176.34499538, 176.17127957])"
      ]
     },
     "execution_count": 28,
     "metadata": {},
     "output_type": "execute_result"
    }
   ],
   "source": [
    "# Last day prediction (for the eight following days)\n",
    "test_pred_rfr[-1,:]"
   ]
  },
  {
   "cell_type": "code",
   "execution_count": 29,
   "metadata": {},
   "outputs": [
    {
     "data": {
      "text/plain": [
       "['../strategies/models/rfr_regressor.joblib']"
      ]
     },
     "execution_count": 29,
     "metadata": {},
     "output_type": "execute_result"
    }
   ],
   "source": [
    "# Export trained models and save it for future predictions\n",
    "from joblib import dump\n",
    "dump(regressor, '../strategies/models/rfr_regressor.joblib')"
   ]
  },
  {
   "cell_type": "markdown",
   "metadata": {},
   "source": [
    "## Plug-in RF implementation into Trading Bot\n",
    "<div style = \"float:right\"><a style=\"text-decoration:none\" href = \"#inicio\">Inicio</a></div>"
   ]
  },
  {
   "cell_type": "markdown",
   "metadata": {},
   "source": [
    "We modify the <code>buy_and_hold.py</code> Python script (strategies folder) to account for, ceteris paribus:\n",
    "<ul>\n",
    "    <li>lagged and forecast values</li>\n",
    "    <li>under the <code>initialize </code>function, load our RF regressor joblib </li>\n",
    "    <li>under the <code>handle_data</code> function:<br>\n",
    "        <ol>\n",
    "        <li>create one array with lagged 32 values for each point in time and  one array with 8 forecast values, and</li>\n",
    "        <li>code the strategy: if the max predictive value is above the mean of historical/past values, then we place a buy order and viceversa</li>\n",
    "        </ol>\n",
    "    "
   ]
  },
  {
   "cell_type": "markdown",
   "metadata": {},
   "source": [
    "The portfolio value has reached a value of round 228 million EUR, whereas the classic strategy BuyAndHold recorded a value of round 561.100 EUR."
   ]
  },
  {
   "attachments": {
    "BuyAndHold%282%29_AAPL.png": {
     "image/png": "[encoded data removed]"
    }
   },
   "cell_type": "markdown",
   "metadata": {},
   "source": [
    "![BuyAndHold%282%29_AAPL.png](attachment:BuyAndHold%282%29_AAPL.png)"
   ]
  },
  {
   "cell_type": "markdown",
   "metadata": {},
   "source": [
    "## Backtest ML Trading Strategy\n",
    "<div style = \"float:right\"><a style=\"text-decoration:none\" href = \"#inicio\">Inicio</a></div>"
   ]
  },
  {
   "cell_type": "code",
   "execution_count": 35,
   "metadata": {},
   "outputs": [],
   "source": [
    "df = pd.read_csv('../reports/buy_and_hold.csv')"
   ]
  },
  {
   "cell_type": "code",
   "execution_count": 36,
   "metadata": {},
   "outputs": [],
   "source": [
    "df = df.rename(columns={'Unnamed: 0':'date'}).set_index('date')"
   ]
  },
  {
   "cell_type": "code",
   "execution_count": 48,
   "metadata": {},
   "outputs": [
    {
     "data": {
      "text/plain": [
       "<Figure size 1296x576 with 0 Axes>"
      ]
     },
     "metadata": {},
     "output_type": "display_data"
    },
    {
     "data": {
      "image/png": "[encoded data removed]",
      "text/plain": [
       "<Figure size 432x288 with 1 Axes>"
      ]
     },
     "metadata": {},
     "output_type": "display_data"
    }
   ],
   "source": [
    "from matplotlib import pyplot as plt\n",
    "from matplotlib.dates import YearLocator, date2num, DateFormatter\n",
    "\n",
    "plt.figure(figsize = (18, 8))\n",
    "\n",
    "df.index = pd.DatetimeIndex(df.index)\n",
    "\n",
    "fig, ax = plt.subplots()\n",
    "\n",
    "fig.subplots_adjust(bottom=0.3)\n",
    "\n",
    "# Create a plot\n",
    "ax.plot(df.index, df.algo_volatility)\n",
    "ax.plot(df.index, df.benchmark_volatility)\n",
    "\n",
    "lctr = YearLocator()\n",
    "frmt = DateFormatter('%Y')\n",
    "\n",
    "# Final formatting\n",
    "ax.xaxis.set_major_locator(lctr)\n",
    "ax.xaxis.set_major_formatter(frmt)\n",
    "\n",
    "plt.xticks(rotation=70)\n",
    "plt.tight_layout()\n",
    "\n",
    "plt.legend()\n",
    "plt.show()"
   ]
  },
  {
   "cell_type": "code",
   "execution_count": 49,
   "metadata": {},
   "outputs": [
    {
     "data": {
      "text/plain": [
       "<Figure size 1296x576 with 0 Axes>"
      ]
     },
     "metadata": {},
     "output_type": "display_data"
    },
    {
     "data": {
      "image/png": "[encoded data removed]",
      "text/plain": [
       "<Figure size 432x288 with 1 Axes>"
      ]
     },
     "metadata": {},
     "output_type": "display_data"
    }
   ],
   "source": [
    "from matplotlib import pyplot as plt\n",
    "from matplotlib.dates import YearLocator, date2num, DateFormatter\n",
    "\n",
    "plt.figure(figsize = (18, 8))\n",
    "\n",
    "df.index = pd.DatetimeIndex(df.index)\n",
    "\n",
    "fig, ax = plt.subplots()\n",
    "\n",
    "fig.subplots_adjust(bottom=0.3)\n",
    "\n",
    "# Create a plot\n",
    "ax.plot(df.index, df.algorithm_period_return)\n",
    "ax.plot(df.index, df.benchmark_period_return)\n",
    "\n",
    "lctr = YearLocator()\n",
    "frmt = DateFormatter('%Y')\n",
    "\n",
    "# Final formatting\n",
    "ax.xaxis.set_major_locator(lctr)\n",
    "ax.xaxis.set_major_formatter(frmt)\n",
    "\n",
    "plt.xticks(rotation=70)\n",
    "plt.tight_layout()\n",
    "\n",
    "plt.legend()\n",
    "plt.show()"
   ]
  },
  {
   "cell_type": "code",
   "execution_count": 37,
   "metadata": {},
   "outputs": [
    {
     "data": {
      "text/plain": [
       "<matplotlib.axes._subplots.AxesSubplot at 0x7f04361aa048>"
      ]
     },
     "execution_count": 37,
     "metadata": {},
     "output_type": "execute_result"
    },
    {
     "data": {
      "image/png": "[encoded data removed]",
      "text/plain": [
       "<Figure size 1152x576 with 1 Axes>"
      ]
     },
     "metadata": {},
     "output_type": "display_data"
    }
   ],
   "source": [
    "df.portfolio_value.plot(figsize=(16,8))"
   ]
  },
  {
   "cell_type": "code",
   "execution_count": 38,
   "metadata": {},
   "outputs": [
    {
     "data": {
      "text/plain": [
       "'$-33730147.25'"
      ]
     },
     "execution_count": 38,
     "metadata": {},
     "output_type": "execute_result"
    }
   ],
   "source": [
    "'${:.2f}'.format(df.capital_used.sum())"
   ]
  },
  {
   "cell_type": "code",
   "execution_count": 39,
   "metadata": {},
   "outputs": [
    {
     "data": {
      "text/plain": [
       "'$227667200.75'"
      ]
     },
     "execution_count": 39,
     "metadata": {},
     "output_type": "execute_result"
    }
   ],
   "source": [
    "'${:.2f}'.format(df.portfolio_value[-1])"
   ]
  },
  {
   "cell_type": "code",
   "execution_count": 40,
   "metadata": {},
   "outputs": [
    {
     "data": {
      "text/plain": [
       "'$193937053.51'"
      ]
     },
     "execution_count": 40,
     "metadata": {},
     "output_type": "execute_result"
    }
   ],
   "source": [
    "'${:.2f}'.format(df.capital_used.sum() + df.portfolio_value[-1])"
   ]
  },
  {
   "cell_type": "code",
   "execution_count": null,
   "metadata": {},
   "outputs": [],
   "source": []
  },
  {
   "cell_type": "code",
   "execution_count": null,
   "metadata": {},
   "outputs": [],
   "source": []
  },
  {
   "cell_type": "code",
   "execution_count": null,
   "metadata": {},
   "outputs": [],
   "source": []
  },
  {
   "cell_type": "markdown",
   "metadata": {},
   "source": [
    "## Gradient Boosting Models\n",
    "<div style = \"float:right\"><a style=\"text-decoration:none\" href = \"#inicio\">Inicio</a></div>"
   ]
  },
  {
   "cell_type": "markdown",
   "metadata": {},
   "source": [
    "### Gradient Boosting Model"
   ]
  },
  {
   "cell_type": "code",
   "execution_count": 42,
   "metadata": {
    "collapsed": true
   },
   "outputs": [
    {
     "ename": "ValueError",
     "evalue": "bad input shape (5846, 8)",
     "output_type": "error",
     "traceback": [
      "\u001b[0;31m---------------------------------------------------------------------------\u001b[0m",
      "\u001b[0;31mValueError\u001b[0m                                Traceback (most recent call last)",
      "\u001b[0;32m<ipython-input-42-c19e16fe2a6b>\u001b[0m in \u001b[0;36m<module>\u001b[0;34m()\u001b[0m\n\u001b[1;32m      5\u001b[0m                                 \u001b[0msubsample\u001b[0m\u001b[0;34m=\u001b[0m\u001b[0;36m0.6\u001b[0m\u001b[0;34m,\u001b[0m\u001b[0;34m\u001b[0m\u001b[0m\n\u001b[1;32m      6\u001b[0m                                 random_state=42)\n\u001b[0;32m----> 7\u001b[0;31m \u001b[0mgbr\u001b[0m\u001b[0;34m.\u001b[0m\u001b[0mfit\u001b[0m\u001b[0;34m(\u001b[0m\u001b[0mX_train\u001b[0m\u001b[0;34m,\u001b[0m \u001b[0my_train\u001b[0m\u001b[0;34m)\u001b[0m\u001b[0;34m\u001b[0m\u001b[0m\n\u001b[0m\u001b[1;32m      8\u001b[0m \u001b[0;34m\u001b[0m\u001b[0m\n\u001b[1;32m      9\u001b[0m \u001b[0mprint\u001b[0m\u001b[0;34m(\u001b[0m\u001b[0mgbr\u001b[0m\u001b[0;34m.\u001b[0m\u001b[0mscore\u001b[0m\u001b[0;34m(\u001b[0m\u001b[0mX_train\u001b[0m\u001b[0;34m,\u001b[0m \u001b[0my_train\u001b[0m\u001b[0;34m)\u001b[0m\u001b[0;34m)\u001b[0m\u001b[0;34m\u001b[0m\u001b[0m\n",
      "\u001b[0;32m/home/isabel/anaconda3/envs/ml_for_algo_trading/lib/python3.5/site-packages/sklearn/ensemble/gradient_boosting.py\u001b[0m in \u001b[0;36mfit\u001b[0;34m(self, X, y, sample_weight, monitor)\u001b[0m\n\u001b[1;32m   1393\u001b[0m \u001b[0;34m\u001b[0m\u001b[0m\n\u001b[1;32m   1394\u001b[0m         \u001b[0;31m# Check input\u001b[0m\u001b[0;34m\u001b[0m\u001b[0;34m\u001b[0m\u001b[0m\n\u001b[0;32m-> 1395\u001b[0;31m         \u001b[0mX\u001b[0m\u001b[0;34m,\u001b[0m \u001b[0my\u001b[0m \u001b[0;34m=\u001b[0m \u001b[0mcheck_X_y\u001b[0m\u001b[0;34m(\u001b[0m\u001b[0mX\u001b[0m\u001b[0;34m,\u001b[0m \u001b[0my\u001b[0m\u001b[0;34m,\u001b[0m \u001b[0maccept_sparse\u001b[0m\u001b[0;34m=\u001b[0m\u001b[0;34m[\u001b[0m\u001b[0;34m'csr'\u001b[0m\u001b[0;34m,\u001b[0m \u001b[0;34m'csc'\u001b[0m\u001b[0;34m,\u001b[0m \u001b[0;34m'coo'\u001b[0m\u001b[0;34m]\u001b[0m\u001b[0;34m,\u001b[0m \u001b[0mdtype\u001b[0m\u001b[0;34m=\u001b[0m\u001b[0mDTYPE\u001b[0m\u001b[0;34m)\u001b[0m\u001b[0;34m\u001b[0m\u001b[0m\n\u001b[0m\u001b[1;32m   1396\u001b[0m         \u001b[0mn_samples\u001b[0m\u001b[0;34m,\u001b[0m \u001b[0mself\u001b[0m\u001b[0;34m.\u001b[0m\u001b[0mn_features_\u001b[0m \u001b[0;34m=\u001b[0m \u001b[0mX\u001b[0m\u001b[0;34m.\u001b[0m\u001b[0mshape\u001b[0m\u001b[0;34m\u001b[0m\u001b[0m\n\u001b[1;32m   1397\u001b[0m         \u001b[0;32mif\u001b[0m \u001b[0msample_weight\u001b[0m \u001b[0;32mis\u001b[0m \u001b[0;32mNone\u001b[0m\u001b[0;34m:\u001b[0m\u001b[0;34m\u001b[0m\u001b[0m\n",
      "\u001b[0;32m/home/isabel/anaconda3/envs/ml_for_algo_trading/lib/python3.5/site-packages/sklearn/utils/validation.py\u001b[0m in \u001b[0;36mcheck_X_y\u001b[0;34m(X, y, accept_sparse, accept_large_sparse, dtype, order, copy, force_all_finite, ensure_2d, allow_nd, multi_output, ensure_min_samples, ensure_min_features, y_numeric, warn_on_dtype, estimator)\u001b[0m\n\u001b[1;32m    750\u001b[0m                         dtype=None)\n\u001b[1;32m    751\u001b[0m     \u001b[0;32melse\u001b[0m\u001b[0;34m:\u001b[0m\u001b[0;34m\u001b[0m\u001b[0m\n\u001b[0;32m--> 752\u001b[0;31m         \u001b[0my\u001b[0m \u001b[0;34m=\u001b[0m \u001b[0mcolumn_or_1d\u001b[0m\u001b[0;34m(\u001b[0m\u001b[0my\u001b[0m\u001b[0;34m,\u001b[0m \u001b[0mwarn\u001b[0m\u001b[0;34m=\u001b[0m\u001b[0;32mTrue\u001b[0m\u001b[0;34m)\u001b[0m\u001b[0;34m\u001b[0m\u001b[0m\n\u001b[0m\u001b[1;32m    753\u001b[0m         \u001b[0m_assert_all_finite\u001b[0m\u001b[0;34m(\u001b[0m\u001b[0my\u001b[0m\u001b[0;34m)\u001b[0m\u001b[0;34m\u001b[0m\u001b[0m\n\u001b[1;32m    754\u001b[0m     \u001b[0;32mif\u001b[0m \u001b[0my_numeric\u001b[0m \u001b[0;32mand\u001b[0m \u001b[0my\u001b[0m\u001b[0;34m.\u001b[0m\u001b[0mdtype\u001b[0m\u001b[0;34m.\u001b[0m\u001b[0mkind\u001b[0m \u001b[0;34m==\u001b[0m \u001b[0;34m'O'\u001b[0m\u001b[0;34m:\u001b[0m\u001b[0;34m\u001b[0m\u001b[0m\n",
      "\u001b[0;32m/home/isabel/anaconda3/envs/ml_for_algo_trading/lib/python3.5/site-packages/sklearn/utils/validation.py\u001b[0m in \u001b[0;36mcolumn_or_1d\u001b[0;34m(y, warn)\u001b[0m\n\u001b[1;32m    786\u001b[0m         \u001b[0;32mreturn\u001b[0m \u001b[0mnp\u001b[0m\u001b[0;34m.\u001b[0m\u001b[0mravel\u001b[0m\u001b[0;34m(\u001b[0m\u001b[0my\u001b[0m\u001b[0;34m)\u001b[0m\u001b[0;34m\u001b[0m\u001b[0m\n\u001b[1;32m    787\u001b[0m \u001b[0;34m\u001b[0m\u001b[0m\n\u001b[0;32m--> 788\u001b[0;31m     \u001b[0;32mraise\u001b[0m \u001b[0mValueError\u001b[0m\u001b[0;34m(\u001b[0m\u001b[0;34m\"bad input shape {0}\"\u001b[0m\u001b[0;34m.\u001b[0m\u001b[0mformat\u001b[0m\u001b[0;34m(\u001b[0m\u001b[0mshape\u001b[0m\u001b[0;34m)\u001b[0m\u001b[0;34m)\u001b[0m\u001b[0;34m\u001b[0m\u001b[0m\n\u001b[0m\u001b[1;32m    789\u001b[0m \u001b[0;34m\u001b[0m\u001b[0m\n\u001b[1;32m    790\u001b[0m \u001b[0;34m\u001b[0m\u001b[0m\n",
      "\u001b[0;31mValueError\u001b[0m: bad input shape (5846, 8)"
     ]
    }
   ],
   "source": [
    "# Create GB model -- hyperparameters (to be tuned!!)\n",
    "gbr = GradientBoostingRegressor(max_features=4,\n",
    "                                learning_rate=0.01,\n",
    "                                n_estimators=200,\n",
    "                                subsample=0.6,\n",
    "                                random_state=42)\n",
    "gbr.fit(X_train, y_train)\n",
    "\n",
    "print(gbr.score(X_train, y_train))\n",
    "print(gbr.score(X_test, y_test))"
   ]
  }
 ],
 "metadata": {
  "kernelspec": {
   "display_name": "Python 3",
   "language": "python",
   "name": "python3"
  },
  "language_info": {
   "codemirror_mode": {
    "name": "ipython",
    "version": 3
   },
   "file_extension": ".py",
   "mimetype": "text/x-python",
   "name": "python",
   "nbconvert_exporter": "python",
   "pygments_lexer": "ipython3",
   "version": "3.5.6"
  }
 },
 "nbformat": 4,
 "nbformat_minor": 4
}
