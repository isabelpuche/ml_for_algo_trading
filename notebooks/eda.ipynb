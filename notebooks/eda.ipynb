{
 "cells": [
  {
   "cell_type": "markdown",
   "metadata": {},
   "source": [
    "1. [Import and Ingest data in Quantopian Zipline](#Import-and-ingest-data-in-Quantopian-Zipline)\n",
    "\n",
    "1. [Time Series Analysis](#Time-Series-Analysis)\n",
    "\n",
    "1. [Feature's Engineering](#Feature's-Engineering)\n",
    "    1. [Technical Analysis](#Technical-Analysis)\n",
    "    1. [Fundamental Analysis](#Fundamental-Analysis)\n",
    "    1. [Sentiment Analysis](#Sentiment-Analysis)\n",
    "\n",
    "1. [Model Prediction](#Model-Prediction)\n",
    "    1. [Linear Model](#Linear-Model)\n",
    "    1. [GARCH Model](#GARCH-Model) \n",
    "    1. [Decision Trees and Random Forests](#Decision-Trees-and-Random-Forests) \n",
    "    1. [Gradient Boosting and Adaboost Models](#Gradient-Boosting-and-Adaboost-Models)\n",
    "    1. [K-Neighbors](#K-Neighbors) \n",
    "    1. [Neural Networks](#Neural-Networks)\n",
    "    1. [Deep Learning and LSTM](#Deep-Learning-and-LSTM)   "
   ]
  },
  {
   "cell_type": "markdown",
   "metadata": {},
   "source": [
    "# Import and ingest data in Quantopian Zipline\n",
    "<div style = \"float:right\"><a style=\"text-decoration:none\" href = \"#inicio\">Inicio</a></div>"
   ]
  },
  {
   "cell_type": "markdown",
   "metadata": {},
   "source": [
    "## Import data from Yahoo Financials"
   ]
  },
  {
   "cell_type": "code",
   "execution_count": 1,
   "metadata": {},
   "outputs": [],
   "source": [
    "# Load IPython Magic\n",
    "%load_ext watermark\n",
    "%load_ext zipline"
   ]
  },
  {
   "cell_type": "code",
   "execution_count": 2,
   "metadata": {},
   "outputs": [],
   "source": [
    "# Import Libraries\n",
    "import numpy as np\n",
    "import matplotlib.pyplot as plt\n",
    "%matplotlib inline\n",
    "import pandas as pd\n",
    "import zipline\n",
    "from yahoofinancials import YahooFinancials\n",
    "import warnings\n",
    "\n",
    "\n",
    "# Default working directory\n",
    "# os.chdir(\"../data\")\n",
    "\n",
    "# Display maximum columns\n",
    "pd.set_option('display.max_columns', None)\n",
    "\n",
    "# Seaborn graphic style as default\n",
    "plt.style.use('seaborn')\n",
    "# Graphics default size\n",
    "plt.rcParams['figure.figsize'] = [16, 9]\n",
    "plt.rcParams['figure.dpi'] = 200\n",
    "\n",
    "# Warnings\n",
    "warnings.simplefilter(action='ignore', category=FutureWarning)"
   ]
  },
  {
   "cell_type": "code",
   "execution_count": 3,
   "metadata": {},
   "outputs": [
    {
     "name": "stdout",
     "output_type": "stream",
     "text": [
      "pandas  0.22.0\n",
      "zipline 1.4.0\n",
      "numpy   1.14.2\n",
      "\n"
     ]
    }
   ],
   "source": [
    "%watermark --iversions"
   ]
  },
  {
   "cell_type": "markdown",
   "metadata": {},
   "source": [
    "We will download our stock series from Yahoo Financials in an Zipline accepted format, namely OHLC, volume, dividend and split, following this [article](https://medium.com/inside-bux/introduction-to-backtesting-trading-strategies-da152be3e6e0)."
   ]
  },
  {
   "cell_type": "code",
   "execution_count": 13,
   "metadata": {},
   "outputs": [],
   "source": [
    "def download_csv_data(ticker, start_date, end_date, freq, path):\n",
    "    yahoo_financials = YahooFinancials(ticker)\n",
    "\n",
    "    df = yahoo_financials.get_historical_price_data(start_date, end_date, freq)\n",
    "    df = pd.DataFrame(df[ticker]['prices']).drop(['date'], axis=1) \\\n",
    "             .rename(columns={'formatted_date': 'date'}) \\\n",
    "             .loc[:, ['date', 'open', 'high', 'low', 'close', 'volume']] \\\n",
    "             .set_index('date')\n",
    "    df.index = pd.to_datetime(df.index)\n",
    "    df['dividend'] = 0\n",
    "    df['split'] = 1\n",
    "\n",
    "    # save data to csv for later ingestion\n",
    "    df.to_csv(path, header=True, index=True)\n",
    "\n",
    "    # plot the time series\n",
    "    df.close.plot(title='{} prices --- {}:{}'.format(ticker, start_date, end_date));"
   ]
  },
  {
   "cell_type": "code",
   "execution_count": 15,
   "metadata": {},
   "outputs": [
    {
     "data": {
      "image/png": "[encoded data removed]",
      "text/plain": [
       "<Figure size 432x288 with 1 Axes>"
      ]
     },
     "metadata": {
      "needs_background": "light"
     },
     "output_type": "display_data"
    }
   ],
   "source": [
    "download_csv_data(ticker='REP.MC', \n",
    "                  start_date='2000-01-03', \n",
    "                  end_date='2020-07-31', \n",
    "                  freq='daily', \n",
    "                  path='../data/OHLCV/REP.csv')"
   ]
  },
  {
   "cell_type": "markdown",
   "metadata": {},
   "source": [
    "## Ingest custom data bundle from a csv file in Quantopian Zipline"
   ]
  },
  {
   "cell_type": "markdown",
   "metadata": {},
   "source": [
    "**In a Zipline environment, we need to (i) create a bundle and (ii) ingest it.** <br>\n",
    "\n",
    "A bundle is an interface to import data into Zipline. Zipline stores data in its own preferred format. The library is able to read data incrementally, and only holds a part of the data in its memory at any given time. The bundle is then the interface, which reads data source and hands it over to Zipline for processing and storage. <br>\n",
    "Ingest is the process of reading data with the help of a bundle, and storing it in Zipline's format. <br>\n",
    "\n",
    "Zipline comes ready with data downloaded from Quandl (the WIKI database). However, in mid-2018 the data was discontinued. Furthermore, Quandl dataset only covers US stocks. For that reason, we shall create our own bundle with IBEX35 stocks and ingest it manually. <br>\n",
    "\n",
    "Ingesting custom data bundle from a csv file is complicated and is not well explained in the documentation. The following book [Trading Evolved by Andreas Clenow](https://www.amazon.es/Trading-Evolved-Anyone-Killer-Strategies/dp/109198378X/ref=sr_1_1?adgrpid=68481793911&dchild=1&gclid=EAIaIQobChMI5JqUgsiJ6wIVCLrtCh1eAwH-EAAYASAAEgIAEPD_BwE&hvadid=327706962187&hvdev=c&hvlocphy=1005499&hvnetw=g&hvqmt=e&hvrand=5186505841026467309&hvtargid=kwd-801233091056&hydadcr=1948_1738136&keywords=trading+evolved&qid=1596819455&sr=8-1&tag=hydes-21) (chapter 23: Importing your Data) provides guidance for the task. <br>\n",
    "\n",
    "<ol>\n",
    "    <li>Create the bundle</li>\n",
    "First, we need to write a Python script (renamed after the name of our bundle) located in the bundles folder of our Zipline library containing (i) a specific function signature, (ii) a generator function, which will iterate over our stocks, process the data and populate the DataFrames we need and (iii) a dividends function checking for dividends, if any. <br>\n",
    "Second, we shall register the bundle with Zipline and create an extension.py file in the '/.zipline' folder. <br>\n",
    "    \n",
    "   <li>Ingest the bundle</li>\n",
    "Finally, we ingest the bundle in our Jupyter Notebook (see below).\n",
    "<ol/>"
   ]
  },
  {
   "cell_type": "code",
   "execution_count": 9,
   "metadata": {},
   "outputs": [
    {
     "name": "stdout",
     "output_type": "stream",
     "text": [
      "Adding missing dates to REP.csv and copying to /home/isabel/Repos/ml_for_algo_trading/data/OHLCV/REP.csv\n",
      "Finished\n"
     ]
    }
   ],
   "source": [
    "from zipline.utils.calendars import get_calendar\n",
    "import pandas as pd\n",
    "from collections import OrderedDict\n",
    "import pytz\n",
    "import glob\n",
    "import os\n",
    "\n",
    "from_file_path = \"/home/isabel/Repos/ml_for_algo_trading/data/OHLCV/*.csv\"\n",
    "to_file_path = \"/home/isabel/Repos/ml_for_algo_trading/data/OHLCV/\"\n",
    "start_date = \"2000-01-03\"\n",
    "end_date = \"2020-07-31\"\n",
    "\n",
    "for fname in glob.glob(from_file_path):\n",
    "    destination_file = to_file_path + os.path.basename(fname)\n",
    "    print(\"Adding missing dates to {} and copying to {}\".format(os.path.basename(fname),destination_file))\n",
    "\n",
    "    df = pd.read_csv(fname, index_col=0, parse_dates=True, sep=\",\", header=0)\n",
    "    df.index.name = 'date'\n",
    "\n",
    "    # Ensure the df is indexed by UTC timestamps\n",
    "    \n",
    "    df = df.set_index(df.index.to_datetime().tz_localize('UTC'))\n",
    "\n",
    "    # Get all expected trading sessions in this range and reindex.\n",
    "    sessions = get_calendar('XMAD').sessions_in_range(start_date, end_date)\n",
    "    df = df.reindex(sessions)\n",
    "    df.to_csv(destination_file)\n",
    "\n",
    "    print(\"Finished\")"
   ]
  },
  {
   "cell_type": "code",
   "execution_count": 11,
   "metadata": {
    "collapsed": true
   },
   "outputs": [
    {
     "name": "stdout",
     "output_type": "stream",
     "text": [
      "[2020-08-10 14:22:26.484090] INFO: zipline.data.bundles.core: Ingesting ibex35_stock_data.\n",
      "Loading REP...\n",
      "Traceback (most recent call last):\n",
      "  File \"/home/isabel/anaconda3/envs/ml_for_algo_trading/bin/zipline\", line 11, in <module>\n",
      "    load_entry_point('zipline==1.4.0', 'console_scripts', 'zipline')()\n",
      "  File \"/home/isabel/anaconda3/envs/ml_for_algo_trading/lib/python3.5/site-packages/click/core.py\", line 829, in __call__\n",
      "    return self.main(*args, **kwargs)\n",
      "  File \"/home/isabel/anaconda3/envs/ml_for_algo_trading/lib/python3.5/site-packages/click/core.py\", line 782, in main\n",
      "    rv = self.invoke(ctx)\n",
      "  File \"/home/isabel/anaconda3/envs/ml_for_algo_trading/lib/python3.5/site-packages/click/core.py\", line 1259, in invoke\n",
      "    return _process_result(sub_ctx.command.invoke(sub_ctx))\n",
      "  File \"/home/isabel/anaconda3/envs/ml_for_algo_trading/lib/python3.5/site-packages/click/core.py\", line 1066, in invoke\n",
      "    return ctx.invoke(self.callback, **ctx.params)\n",
      "  File \"/home/isabel/anaconda3/envs/ml_for_algo_trading/lib/python3.5/site-packages/click/core.py\", line 610, in invoke\n",
      "    return callback(*args, **kwargs)\n",
      "  File \"/home/isabel/anaconda3/envs/ml_for_algo_trading/lib/python3.5/site-packages/zipline/__main__.py\", line 389, in ingest\n",
      "    show_progress,\n",
      "  File \"/home/isabel/anaconda3/envs/ml_for_algo_trading/lib/python3.5/site-packages/zipline/data/bundles/core.py\", line 443, in ingest\n",
      "    pth.data_path([name, timestr], environ=environ),\n",
      "  File \"/home/isabel/anaconda3/envs/ml_for_algo_trading/lib/python3.5/site-packages/zipline/data/bundles/ibex35_stock_data.py\", line 56, in ibex35_stock_data\n",
      "    process_stocks(symbols, sessions, metadata, divs)\n",
      "  File \"/home/isabel/anaconda3/envs/ml_for_algo_trading/lib/python3.5/site-packages/zipline/data/bcolz_daily_bars.py\", line 207, in write\n",
      "    return self._write_internal(it, assets)\n",
      "  File \"/home/isabel/anaconda3/envs/ml_for_algo_trading/lib/python3.5/site-packages/zipline/data/bcolz_daily_bars.py\", line 269, in _write_internal\n",
      "    for asset_id, table in iterator:\n",
      "  File \"/home/isabel/anaconda3/envs/ml_for_algo_trading/lib/python3.5/site-packages/zipline/data/bcolz_daily_bars.py\", line 198, in <genexpr>\n",
      "    (sid, self.to_ctable(df, invalid_data_behavior))\n",
      "  File \"/home/isabel/anaconda3/envs/ml_for_algo_trading/lib/python3.5/site-packages/zipline/data/bundles/ibex35_stock_data.py\", line 97, in process_stocks\n",
      "    metadata.loc[sid] =start_date, end_date, ac_date, symbol, \"XMAD\"\n",
      "  File \"/home/isabel/anaconda3/envs/ml_for_algo_trading/lib/python3.5/site-packages/pandas/core/indexing.py\", line 194, in __setitem__\n",
      "    self._setitem_with_indexer(indexer, value)\n",
      "  File \"/home/isabel/anaconda3/envs/ml_for_algo_trading/lib/python3.5/site-packages/pandas/core/indexing.py\", line 439, in _setitem_with_indexer\n",
      "    raise ValueError(\"cannot set a row with \"\n",
      "ValueError: cannot set a row with mismatched columns\n"
     ]
    }
   ],
   "source": [
    "# ingest our custom bundle: ibex35_stock_data\n",
    "!zipline ingest --bundle ibex35_stock_data"
   ]
  },
  {
   "cell_type": "code",
   "execution_count": 13,
   "metadata": {},
   "outputs": [
    {
     "name": "stdout",
     "output_type": "stream",
     "text": [
      "csvdir <no ingestions>\r\n",
      "ibex35_stock_data 2020-08-07 16:40:30.271346\r\n",
      "quandl <no ingestions>\r\n",
      "quantopian-quandl <no ingestions>\r\n"
     ]
    }
   ],
   "source": [
    "!zipline bundles"
   ]
  },
  {
   "cell_type": "markdown",
   "metadata": {},
   "source": [
    "## Load data bundle"
   ]
  },
  {
   "cell_type": "markdown",
   "metadata": {},
   "source": [
    "We will now proceed with loading our bundle. For such purpose, the [video](https://subscription.packtpub.com/video/application_development/9781789951165) <i>Machine Learning for Algorithmic Trading Bots in Python</i> by Mustafa Qamar-ud-Din, has been of great help. Therefore, we will first import necessary libraries.<br>\n",
    "In order to help Zipline find our custom bundle, we will additionally load extensions in the IPython magic. Check this [GitHub thread](https://github.com/quantopian/zipline/issues/1542)for more information.<br>\n",
    "On how to proceed with this section, this other [GitHub thread](https://github.com/quantopian/zipline/issues/1579) might also be worth exploring."
   ]
  },
  {
   "cell_type": "code",
   "execution_count": 14,
   "metadata": {},
   "outputs": [],
   "source": [
    "from zipline.data.data_portal import DataPortal\n",
    "from zipline.data import bundles\n",
    "from zipline.utils.calendars import get_calendar\n",
    "\n",
    "import os\n",
    "\n",
    "from zipline.utils.run_algo import load_extensions\n",
    "\n",
    "load_extensions(\n",
    "    default=True,\n",
    "    extensions=[],\n",
    "    strict=True,\n",
    "    environ=os.environ,\n",
    ")"
   ]
  },
  {
   "cell_type": "markdown",
   "metadata": {},
   "source": [
    "First, let's load our bundle"
   ]
  },
  {
   "cell_type": "code",
   "execution_count": 15,
   "metadata": {},
   "outputs": [],
   "source": [
    "bundle_data = bundles.load('ibex35_stock_data')"
   ]
  },
  {
   "cell_type": "code",
   "execution_count": 16,
   "metadata": {},
   "outputs": [
    {
     "name": "stdout",
     "output_type": "stream",
     "text": [
      "<class 'zipline.data.bundles.core.BundleData'>\n"
     ]
    }
   ],
   "source": [
    "print(type(bundle_data))"
   ]
  },
  {
   "cell_type": "markdown",
   "metadata": {},
   "source": [
    "Second, we initialise our DataPortal interface with the below mandatory arguments.\n",
    "We shall beforehand define our end_date argument and check for the first trading day."
   ]
  },
  {
   "cell_type": "code",
   "execution_count": 17,
   "metadata": {},
   "outputs": [],
   "source": [
    "end_date = pd.Timestamp(\"2020-07-31\", tz=\"utc\")"
   ]
  },
  {
   "cell_type": "code",
   "execution_count": 18,
   "metadata": {},
   "outputs": [
    {
     "data": {
      "text/plain": [
       "Timestamp('2000-01-03 00:00:00+0000', tz='UTC')"
      ]
     },
     "execution_count": 18,
     "metadata": {},
     "output_type": "execute_result"
    }
   ],
   "source": [
    "bundle_data.equity_daily_bar_reader.first_trading_day"
   ]
  },
  {
   "cell_type": "code",
   "execution_count": 19,
   "metadata": {},
   "outputs": [],
   "source": [
    "data_por = DataPortal(\n",
    "    asset_finder=bundle_data.asset_finder,\n",
    "    trading_calendar=get_calendar(\"XMAD\"),\n",
    "    first_trading_day=bundle_data.equity_daily_bar_reader.first_trading_day,\n",
    "    equity_daily_reader=bundle_data.equity_daily_bar_reader\n",
    ")"
   ]
  },
  {
   "cell_type": "markdown",
   "metadata": {},
   "source": [
    "Third, we will build our DataFrame for further analysis and feature preprocessing. For such purpose, we shall use a get_history_window method on the data portal interface."
   ]
  },
  {
   "cell_type": "code",
   "execution_count": 20,
   "metadata": {},
   "outputs": [],
   "source": [
    "REP = data_por.asset_finder.lookup_symbol(\n",
    "    'REP',\n",
    "    as_of_date=None\n",
    ")"
   ]
  },
  {
   "cell_type": "code",
   "execution_count": 21,
   "metadata": {},
   "outputs": [],
   "source": [
    "df = data_por.get_history_window(\n",
    "    assets=[REP],\n",
    "    end_dt=end_date,\n",
    "    bar_count=5226,\n",
    "    frequency='1d',\n",
    "    data_frequency='daily',\n",
    "    field='close'\n",
    ")"
   ]
  },
  {
   "cell_type": "code",
   "execution_count": 26,
   "metadata": {},
   "outputs": [
    {
     "data": {
      "text/html": [
       "<div>\n",
       "<style scoped>\n",
       "    .dataframe tbody tr th:only-of-type {\n",
       "        vertical-align: middle;\n",
       "    }\n",
       "\n",
       "    .dataframe tbody tr th {\n",
       "        vertical-align: top;\n",
       "    }\n",
       "\n",
       "    .dataframe thead th {\n",
       "        text-align: right;\n",
       "    }\n",
       "</style>\n",
       "<table border=\"1\" class=\"dataframe\">\n",
       "  <thead>\n",
       "    <tr style=\"text-align: right;\">\n",
       "      <th></th>\n",
       "      <th>REP</th>\n",
       "    </tr>\n",
       "  </thead>\n",
       "  <tbody>\n",
       "    <tr>\n",
       "      <th>2020-07-27 00:00:00+00:00</th>\n",
       "      <td>7.162</td>\n",
       "    </tr>\n",
       "    <tr>\n",
       "      <th>2020-07-28 00:00:00+00:00</th>\n",
       "      <td>7.062</td>\n",
       "    </tr>\n",
       "    <tr>\n",
       "      <th>2020-07-29 00:00:00+00:00</th>\n",
       "      <td>7.036</td>\n",
       "    </tr>\n",
       "    <tr>\n",
       "      <th>2020-07-30 00:00:00+00:00</th>\n",
       "      <td>6.788</td>\n",
       "    </tr>\n",
       "    <tr>\n",
       "      <th>2020-07-31 00:00:00+00:00</th>\n",
       "      <td>6.788</td>\n",
       "    </tr>\n",
       "  </tbody>\n",
       "</table>\n",
       "</div>"
      ],
      "text/plain": [
       "                             REP\n",
       "2020-07-27 00:00:00+00:00  7.162\n",
       "2020-07-28 00:00:00+00:00  7.062\n",
       "2020-07-29 00:00:00+00:00  7.036\n",
       "2020-07-30 00:00:00+00:00  6.788\n",
       "2020-07-31 00:00:00+00:00  6.788"
      ]
     },
     "execution_count": 26,
     "metadata": {},
     "output_type": "execute_result"
    }
   ],
   "source": [
    "df.tail()"
   ]
  },
  {
   "cell_type": "markdown",
   "metadata": {},
   "source": [
    "We now index our date column and rename the stock column after the ticker's name."
   ]
  },
  {
   "cell_type": "code",
   "execution_count": 27,
   "metadata": {},
   "outputs": [],
   "source": [
    "df.index = pd.DatetimeIndex(df.index)"
   ]
  },
  {
   "cell_type": "markdown",
   "metadata": {},
   "source": [
    "The name of the column <i>Equity(0 [REP])</i> is a Pandas object (more concretely, a 'zipline.assets._assets.Equity' object). When we attempt to rename it, a TypeError is displayed (Index does not support mutable operations). As such, we will create another identical column thus passing a list method to the column name and then drop the original column."
   ]
  },
  {
   "cell_type": "code",
   "execution_count": 24,
   "metadata": {},
   "outputs": [],
   "source": [
    "df['REP'] = df[list(df.columns)[0]]"
   ]
  },
  {
   "cell_type": "code",
   "execution_count": 25,
   "metadata": {},
   "outputs": [
    {
     "data": {
      "text/html": [
       "<div>\n",
       "<style scoped>\n",
       "    .dataframe tbody tr th:only-of-type {\n",
       "        vertical-align: middle;\n",
       "    }\n",
       "\n",
       "    .dataframe tbody tr th {\n",
       "        vertical-align: top;\n",
       "    }\n",
       "\n",
       "    .dataframe thead th {\n",
       "        text-align: right;\n",
       "    }\n",
       "</style>\n",
       "<table border=\"1\" class=\"dataframe\">\n",
       "  <thead>\n",
       "    <tr style=\"text-align: right;\">\n",
       "      <th></th>\n",
       "      <th>REP</th>\n",
       "    </tr>\n",
       "  </thead>\n",
       "  <tbody>\n",
       "    <tr>\n",
       "      <th>2000-01-03 00:00:00+00:00</th>\n",
       "      <td>22.04</td>\n",
       "    </tr>\n",
       "    <tr>\n",
       "      <th>2000-01-04 00:00:00+00:00</th>\n",
       "      <td>21.30</td>\n",
       "    </tr>\n",
       "    <tr>\n",
       "      <th>2000-01-05 00:00:00+00:00</th>\n",
       "      <td>21.01</td>\n",
       "    </tr>\n",
       "    <tr>\n",
       "      <th>2000-01-07 00:00:00+00:00</th>\n",
       "      <td>21.67</td>\n",
       "    </tr>\n",
       "    <tr>\n",
       "      <th>2000-01-10 00:00:00+00:00</th>\n",
       "      <td>21.90</td>\n",
       "    </tr>\n",
       "  </tbody>\n",
       "</table>\n",
       "</div>"
      ],
      "text/plain": [
       "                             REP\n",
       "2000-01-03 00:00:00+00:00  22.04\n",
       "2000-01-04 00:00:00+00:00  21.30\n",
       "2000-01-05 00:00:00+00:00  21.01\n",
       "2000-01-07 00:00:00+00:00  21.67\n",
       "2000-01-10 00:00:00+00:00  21.90"
      ]
     },
     "execution_count": 25,
     "metadata": {},
     "output_type": "execute_result"
    }
   ],
   "source": [
    "df = df.drop(columns=[list(df.columns)[0]])\n",
    "df.head()"
   ]
  }
 ],
 "metadata": {
  "kernelspec": {
   "display_name": "Python 3",
   "language": "python",
   "name": "python3"
  },
  "language_info": {
   "codemirror_mode": {
    "name": "ipython",
    "version": 3
   },
   "file_extension": ".py",
   "mimetype": "text/x-python",
   "name": "python",
   "nbconvert_exporter": "python",
   "pygments_lexer": "ipython3",
   "version": "3.5.6"
  }
 },
 "nbformat": 4,
 "nbformat_minor": 4
}
