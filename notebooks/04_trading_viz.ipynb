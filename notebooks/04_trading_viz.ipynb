{
 "cells": [
  {
   "cell_type": "markdown",
   "metadata": {},
   "source": [
    "1. [Altair Visualization](#Altair-visualization)"
   ]
  },
  {
   "cell_type": "markdown",
   "metadata": {},
   "source": [
    "# Altair Visualization\n",
    "<div style = \"float:right\"><a style=\"text-decoration:none\" href = \"#inicio\">Inicio</a></div>"
   ]
  },
  {
   "cell_type": "code",
   "execution_count": 2,
   "metadata": {},
   "outputs": [],
   "source": [
    "# Import Libraries\n",
    "import altair as alt\n",
    "# import streamlit as st\n",
    "import pandas as pd\n",
    "# import matplotlib\n",
    "from matplotlib import pyplot as plt"
   ]
  },
  {
   "cell_type": "markdown",
   "metadata": {},
   "source": [
    "## Tailor series Data frames"
   ]
  },
  {
   "cell_type": "markdown",
   "metadata": {},
   "source": [
    "### Simple Moving Average"
   ]
  },
  {
   "cell_type": "code",
   "execution_count": 3,
   "metadata": {},
   "outputs": [],
   "source": [
    "# read csv\n",
    "sma = pd.read_csv('../reports/sma_strategy.csv')\n",
    "\n",
    "# rename first column as date\n",
    "sma = sma.rename(columns={'Unnamed: 0':'date'})\n",
    "\n",
    "# monthly resample\n",
    "sma.date = pd.to_datetime(sma.date)\n",
    "sma = sma.resample('M', on='date').mean().reset_index()\n",
    "\n",
    "# rename columns of interest (stock prices and dual moving averages)\n",
    "sma = sma.rename(columns={'price': '_price', 'moving_average': '_moving_average'})\n",
    "\n",
    "# melt stock prices and dual moving averages into 'series' new variable\n",
    "keys = [x for x in sma.columns if x.startswith('_')]\n",
    "sma_series = pd.melt(sma, id_vars=['date', 'portfolio_value'], value_vars=keys, value_name='price', var_name='series')"
   ]
  },
  {
   "cell_type": "code",
   "execution_count": 5,
   "metadata": {},
   "outputs": [
    {
     "data": {
      "text/html": [
       "<div>\n",
       "<style scoped>\n",
       "    .dataframe tbody tr th:only-of-type {\n",
       "        vertical-align: middle;\n",
       "    }\n",
       "\n",
       "    .dataframe tbody tr th {\n",
       "        vertical-align: top;\n",
       "    }\n",
       "\n",
       "    .dataframe thead th {\n",
       "        text-align: right;\n",
       "    }\n",
       "</style>\n",
       "<table border=\"1\" class=\"dataframe\">\n",
       "  <thead>\n",
       "    <tr style=\"text-align: right;\">\n",
       "      <th></th>\n",
       "      <th>date</th>\n",
       "      <th>portfolio_value</th>\n",
       "      <th>series</th>\n",
       "      <th>price</th>\n",
       "    </tr>\n",
       "  </thead>\n",
       "  <tbody>\n",
       "    <tr>\n",
       "      <th>0</th>\n",
       "      <td>2015-05-31</td>\n",
       "      <td>10001.626271</td>\n",
       "      <td>_moving_average</td>\n",
       "      <td>130.493375</td>\n",
       "    </tr>\n",
       "    <tr>\n",
       "      <th>1</th>\n",
       "      <td>2015-06-30</td>\n",
       "      <td>10300.577205</td>\n",
       "      <td>_moving_average</td>\n",
       "      <td>128.584205</td>\n",
       "    </tr>\n",
       "    <tr>\n",
       "      <th>2</th>\n",
       "      <td>2015-07-31</td>\n",
       "      <td>10491.731318</td>\n",
       "      <td>_moving_average</td>\n",
       "      <td>125.907301</td>\n",
       "    </tr>\n",
       "    <tr>\n",
       "      <th>3</th>\n",
       "      <td>2015-08-31</td>\n",
       "      <td>17306.990929</td>\n",
       "      <td>_moving_average</td>\n",
       "      <td>115.321565</td>\n",
       "    </tr>\n",
       "    <tr>\n",
       "      <th>4</th>\n",
       "      <td>2015-09-30</td>\n",
       "      <td>17663.889548</td>\n",
       "      <td>_moving_average</td>\n",
       "      <td>112.563988</td>\n",
       "    </tr>\n",
       "  </tbody>\n",
       "</table>\n",
       "</div>"
      ],
      "text/plain": [
       "        date  portfolio_value           series       price\n",
       "0 2015-05-31     10001.626271  _moving_average  130.493375\n",
       "1 2015-06-30     10300.577205  _moving_average  128.584205\n",
       "2 2015-07-31     10491.731318  _moving_average  125.907301\n",
       "3 2015-08-31     17306.990929  _moving_average  115.321565\n",
       "4 2015-09-30     17663.889548  _moving_average  112.563988"
      ]
     },
     "execution_count": 5,
     "metadata": {},
     "output_type": "execute_result"
    }
   ],
   "source": [
    "sma_series.head()"
   ]
  },
  {
   "cell_type": "markdown",
   "metadata": {},
   "source": [
    "### ML Buy and Hold"
   ]
  },
  {
   "cell_type": "code",
   "execution_count": 6,
   "metadata": {},
   "outputs": [],
   "source": [
    "# read csv\n",
    "gb = pd.read_csv('../reports/buy_and_hold_GB.csv')\n",
    "\n",
    "# rename first column as date\n",
    "gb = gb.rename(columns={'Unnamed: 0':'date'})\n",
    "\n",
    "# monthly resample\n",
    "gb.date = pd.to_datetime(gb.date)\n",
    "gb = gb.resample('M', on='date').mean().reset_index()\n",
    "\n",
    "# rename columns of interest (stock prices and dual moving averages)\n",
    "gb = gb.rename(columns={'AAPL': 'price'})\n"
   ]
  },
  {
   "cell_type": "markdown",
   "metadata": {},
   "source": [
    "## Altair Graphs"
   ]
  },
  {
   "cell_type": "code",
   "execution_count": 10,
   "metadata": {},
   "outputs": [
    {
     "data": {
      "text/html": [
       "\n",
       "<div id=\"altair-viz-0d353f73f2ad4ff08def3140bf3e8980\"></div>\n",
       "<script type=\"text/javascript\">\n",
       "  (function(spec, embedOpt){\n",
       "    let outputDiv = document.currentScript.previousElementSibling;\n",
       "    if (outputDiv.id !== \"altair-viz-0d353f73f2ad4ff08def3140bf3e8980\") {\n",
       "      outputDiv = document.getElementById(\"altair-viz-0d353f73f2ad4ff08def3140bf3e8980\");\n",
       "    }\n",
       "    const paths = {\n",
       "      \"vega\": \"https://cdn.jsdelivr.net/npm//vega@5?noext\",\n",
       "      \"vega-lib\": \"https://cdn.jsdelivr.net/npm//vega-lib?noext\",\n",
       "      \"vega-lite\": \"https://cdn.jsdelivr.net/npm//vega-lite@4.8.1?noext\",\n",
       "      \"vega-embed\": \"https://cdn.jsdelivr.net/npm//vega-embed@6?noext\",\n",
       "    };\n",
       "\n",
       "    function loadScript(lib) {\n",
       "      return new Promise(function(resolve, reject) {\n",
       "        var s = document.createElement('script');\n",
       "        s.src = paths[lib];\n",
       "        s.async = true;\n",
       "        s.onload = () => resolve(paths[lib]);\n",
       "        s.onerror = () => reject(`Error loading script: ${paths[lib]}`);\n",
       "        document.getElementsByTagName(\"head\")[0].appendChild(s);\n",
       "      });\n",
       "    }\n",
       "\n",
       "    function showError(err) {\n",
       "      outputDiv.innerHTML = `<div class=\"error\" style=\"color:red;\">${err}</div>`;\n",
       "      throw err;\n",
       "    }\n",
       "\n",
       "    function displayChart(vegaEmbed) {\n",
       "      vegaEmbed(outputDiv, spec, embedOpt)\n",
       "        .catch(err => showError(`Javascript Error: ${err.message}<br>This usually means there's a typo in your chart specification. See the javascript console for the full traceback.`));\n",
       "    }\n",
       "\n",
       "    if(typeof define === \"function\" && define.amd) {\n",
       "      requirejs.config({paths});\n",
       "      require([\"vega-embed\"], displayChart, err => showError(`Error loading script: ${err.message}`));\n",
       "    } else if (typeof vegaEmbed === \"function\") {\n",
       "      displayChart(vegaEmbed);\n",
       "    } else {\n",
       "      loadScript(\"vega\")\n",
       "        .then(() => loadScript(\"vega-lite\"))\n",
       "        .then(() => loadScript(\"vega-embed\"))\n",
       "        .catch(showError)\n",
       "        .then(() => displayChart(vegaEmbed));\n",
       "    }\n",
       "  })({\"config\": {\"view\": {\"continuousHeight\": 300, \"continuousWidth\": 400}}, \"$schema\": \"https://vega.github.io/schema/vega-lite/v4.8.1.json\", \"hconcat\": [{\"vconcat\": [{\"encoding\": {\"y\": {\"type\": \"quantitative\", \"field\": \"portfolio_value\"}, \"x\": {\"type\": \"temporal\", \"field\": \"date\"}}, \"mark\": {\"strokeWidth\": 3, \"type\": \"line\", \"opacity\": 0.7}, \"transform\": [{\"filter\": {\"selection\": \"selector004\"}}], \"width\": 300, \"height\": 200}, {\"encoding\": {\"y\": {\"type\": \"quantitative\", \"field\": \"price\"}, \"x\": {\"type\": \"temporal\", \"field\": \"date\"}, \"color\": {\"type\": \"nominal\", \"field\": \"series\"}}, \"mark\": {\"strokeWidth\": 2, \"type\": \"line\", \"opacity\": 0.7}, \"selection\": {\"selector004\": {\"type\": \"interval\", \"encodings\": [\"x\"]}}, \"width\": 300, \"height\": 200}], \"data\": {\"name\": \"data-df594cb9cfccc7b88406e37978a35e0e\"}, \"title\": \"TA Strategy\"}, {\"vconcat\": [{\"data\": {\"name\": \"data-1b97876ea4ee6460be21e33c9cf62717\"}, \"mark\": {\"strokeWidth\": 3, \"type\": \"line\", \"opacity\": 0.7}, \"transform\": [{\"filter\": {\"selection\": \"selector004\"}}], \"encoding\": {\"y\": {\"type\": \"quantitative\", \"field\": \"portfolio_value\"}, \"x\": {\"type\": \"temporal\", \"field\": \"date\"}}, \"width\": 300, \"height\": 200}, {\"data\": {\"name\": \"data-df594cb9cfccc7b88406e37978a35e0e\"}, \"mark\": {\"strokeWidth\": 3, \"type\": \"line\", \"opacity\": 0.7}, \"selection\": {\"selector004\": {\"type\": \"interval\", \"encodings\": [\"x\"]}}, \"encoding\": {\"y\": {\"type\": \"quantitative\", \"field\": \"price\"}, \"x\": {\"type\": \"temporal\", \"field\": \"date\"}}, \"width\": 300, \"height\": 200}], \"title\": \"ML Strategy\"}], \"datasets\": {\"data-1b97876ea4ee6460be21e33c9cf62717\": [{\"capital_used\": -3241.448729166667, \"net_leverage\": 0.4990717803149853, \"starting_cash\": 53443.238999999994, \"short_exposure\": 0.0, \"sharpe\": 1.0199630079868818, \"portfolio_value\": 100365.66527083334, \"ending_exposure\": 50163.875, \"ending_cash\": 50201.79027083333, \"excess_return\": 0.0, \"algorithm_period_return\": 0.00365665270833331, \"longs_count\": 0.9166666666666666, \"trading_days\": 6.5, \"pnl\": 15.551270833333527, \"returns\": 0.00018696127804910612, \"ending_value\": 50163.875, \"max_leverage\": 0.6079104399097734, \"max_drawdown\": -0.00695732595809961, \"gross_leverage\": 0.4990717803149853, \"algo_volatility\": 0.06262487317114707, \"benchmark_period_return\": 0.006008781594561585, \"price\": 130.14208333333332, \"sortino\": 34.74892801927527, \"starting_value\": 46906.875, \"treasury_period_return\": 0.0, \"long_value\": 50163.875, \"date\": \"2015-05-31T00:00:00\", \"short_value\": 0.0, \"beta\": 0.22044895151457206, \"long_exposure\": 50163.875, \"shorts_count\": 0.0, \"benchmark_volatility\": 0.1207038586197548, \"alpha\": 0.10996421372171615, \"starting_exposure\": 46906.875}, {\"capital_used\": 10449.055136363635, \"net_leverage\": -0.7589541374066041, \"starting_cash\": 166905.88976136365, \"short_exposure\": -78490.88636363637, \"sharpe\": 0.5812283478657988, \"portfolio_value\": 100641.46762499996, \"ending_exposure\": -76713.47727272728, \"ending_cash\": 177354.94489772728, \"excess_return\": 0.0, \"algorithm_period_return\": 0.006414676249999771, \"longs_count\": 0.09090909090909091, \"trading_days\": 23.5, \"pnl\": 120.80513636363716, \"returns\": 0.0012230169198525034, \"ending_value\": -76713.47727272728, \"max_leverage\": 1.1032818245598246, \"max_drawdown\": -0.0201958637756965, \"gross_leverage\": 0.7944256856810689, \"algo_volatility\": 0.10544087324409081, \"benchmark_period_return\": -0.04500047855090266, \"price\": 127.80636363636367, \"sortino\": 0.8535044170175787, \"starting_value\": -66385.22727272728, \"treasury_period_return\": 0.0, \"long_value\": 1777.409090909091, \"date\": \"2015-06-30T00:00:00\", \"short_value\": -78490.88636363637, \"beta\": 0.17141436682936367, \"long_exposure\": 1777.409090909091, \"shorts_count\": 0.8636363636363636, \"benchmark_volatility\": 0.1501834980518029, \"alpha\": 0.1603735389618139, \"starting_exposure\": -66385.22727272728}, {\"capital_used\": -11389.003136363639, \"net_leverage\": -0.671353728359534, \"starting_cash\": 183102.7422272728, \"short_exposure\": -77651.95454545454, \"sharpe\": 0.8867625760184977, \"portfolio_value\": 102400.33000000009, \"ending_exposure\": -69313.40909090909, \"ending_cash\": 171713.7390909092, \"excess_return\": 0.0, \"algorithm_period_return\": 0.024003300000001126, \"longs_count\": 0.22727272727272727, \"trading_days\": 45.5, \"pnl\": -80.48040909090726, \"returns\": -0.0006759991291049115, \"ending_value\": -69313.40909090909, \"max_leverage\": 2.004048497528428, \"max_drawdown\": -0.06547218970952452, \"gross_leverage\": 0.8357340892176995, \"algo_volatility\": 0.17907041082646427, \"benchmark_period_return\": -0.045541352362593775, \"price\": 125.33545454545452, \"sortino\": 1.5023743376241834, \"starting_value\": -80621.93181818182, \"treasury_period_return\": 0.0, \"long_value\": 8338.545454545454, \"date\": \"2015-07-31T00:00:00\", \"short_value\": -77651.95454545454, \"beta\": -0.4074907291577883, \"long_exposure\": 8338.545454545454, \"shorts_count\": 0.7272727272727273, \"benchmark_volatility\": 0.17781586246619668, \"alpha\": 0.059717981326262805, \"starting_exposure\": -80621.93181818182}, {\"capital_used\": -11345.24592857143, \"net_leverage\": 1.9542737166634279, \"starting_cash\": -74548.41189285707, \"short_exposure\": 0.0, \"sharpe\": -0.5444100062880921, \"portfolio_value\": 94019.00884523815, \"ending_exposure\": 179912.66666666666, \"ending_cash\": -85893.6578214285, \"excess_return\": 0.0, \"algorithm_period_return\": -0.059809911547618354, \"longs_count\": 1.0, \"trading_days\": 67.0, \"pnl\": -272.5792619047653, \"returns\": -0.00105612889322469, \"ending_value\": 179912.66666666666, \"max_leverage\": 2.347743949313881, \"max_drawdown\": -0.18674314581794302, \"gross_leverage\": 1.9542737166634279, \"algo_volatility\": 0.2984688299508732, \"benchmark_period_return\": -0.08584789839839574, \"price\": 113.39476190476192, \"sortino\": -0.6500636901563566, \"starting_value\": 168840.0, \"treasury_period_return\": 0.0, \"long_value\": 179912.66666666666, \"date\": \"2015-08-31T00:00:00\", \"short_value\": 0.0, \"beta\": 0.22108814003489677, \"long_exposure\": 179912.66666666666, \"shorts_count\": 0.0, \"benchmark_volatility\": 0.1931750986211146, \"alpha\": 0.0023527049806493015, \"starting_exposure\": 168840.0}, {\"capital_used\": -11283.83428571426, \"net_leverage\": 4.369477211107451, \"starting_cash\": -310261.45132142835, \"short_exposure\": 0.0, \"sharpe\": 0.13575797801151218, \"portfolio_value\": 96147.3334404764, \"ending_exposure\": 417692.61904761905, \"ending_cash\": -321545.28560714266, \"excess_return\": 0.0, \"algorithm_period_return\": -0.038526665595236056, \"longs_count\": 1.0, \"trading_days\": 88.0, \"pnl\": -636.7390476190234, \"returns\": -0.003918917324513158, \"ending_value\": 417692.61904761905, \"max_leverage\": 4.4306271952463225, \"max_drawdown\": -0.32394874768215526, \"gross_leverage\": 4.369477211107451, \"algo_volatility\": 0.6748284694937684, \"benchmark_period_return\": -0.1553288259455769, \"price\": 112.78095238095239, \"sortino\": 0.22533558658938008, \"starting_value\": 407045.5238095238, \"treasury_period_return\": 0.0, \"long_value\": 417692.61904761905, \"date\": \"2015-09-30T00:00:00\", \"short_value\": 0.0, \"beta\": 1.6744378478348327, \"long_exposure\": 417692.61904761905, \"shorts_count\": 0.0, \"benchmark_volatility\": 0.2362687318013874, \"alpha\": 1.4239946571020587, \"starting_exposure\": 407045.5238095238}, {\"capital_used\": -7310.495272727249, \"net_leverage\": 6.110094492112526, \"starting_cash\": -493585.9242954539, \"short_exposure\": 0.0, \"sharpe\": 0.28554208354424876, \"portfolio_value\": 99584.39861363721, \"ending_exposure\": 600480.8181818182, \"ending_cash\": -500896.41956818104, \"excess_return\": 0.0, \"algorithm_period_return\": -0.004156013863628006, \"longs_count\": 1.0, \"trading_days\": 109.5, \"pnl\": 2334.277454545483, \"returns\": 0.02667877614553021, \"ending_value\": 600480.8181818182, \"max_leverage\": 6.722516307787604, \"max_drawdown\": -0.3239487476821552, \"gross_leverage\": 6.110094492112526, \"algo_volatility\": 0.8107232183421207, \"benchmark_period_return\": -0.1353041469218034, \"price\": 113.36, \"sortino\": 0.46117338309743444, \"starting_value\": 590836.0454545454, \"treasury_period_return\": 0.0, \"long_value\": 600480.8181818182, \"date\": \"2015-10-31T00:00:00\", \"short_value\": 0.0, \"beta\": 1.7104348577232038, \"long_exposure\": 600480.8181818182, \"shorts_count\": 0.0, \"benchmark_volatility\": 0.2385276698344856, \"alpha\": 1.3434869227182302, \"starting_exposure\": 590836.0454545454}, {\"capital_used\": 2198.4168875000323, \"net_leverage\": 6.288294917812477, \"starting_cash\": -632112.5906124986, \"short_exposure\": 0.0, \"sharpe\": 0.8742493826764642, \"portfolio_value\": 122514.87627500153, \"ending_exposure\": 752429.05, \"ending_cash\": -629914.1737249985, \"excess_return\": 0.0, \"algorithm_period_return\": 0.22514876275001483, \"longs_count\": 1.0, \"trading_days\": 130.5, \"pnl\": -533.5831124999673, \"returns\": 0.000855285668607247, \"ending_value\": 752429.05, \"max_leverage\": 8.06433681863574, \"max_drawdown\": -0.3933292254424211, \"gross_leverage\": 6.288294917812477, \"algo_volatility\": 1.013674405205662, \"benchmark_period_return\": -0.06664911980020885, \"price\": 118.16225, \"sortino\": 1.4008320903766502, \"starting_value\": 755161.05, \"treasury_period_return\": 0.0, \"long_value\": 752429.05, \"date\": \"2015-11-30T00:00:00\", \"short_value\": 0.0, \"beta\": 2.0430999890505, \"long_exposure\": 752429.05, \"shorts_count\": 0.0, \"benchmark_volatility\": 0.23407518306832453, \"alpha\": 2.1369022509164806, \"starting_exposure\": 755161.05}, {\"capital_used\": -4775.095431818167, \"net_leverage\": 8.174177739448668, \"starting_cash\": -553216.0750227254, \"short_exposure\": 0.0, \"sharpe\": 0.3132009094991649, \"portfolio_value\": 86620.55681818383, \"ending_exposure\": 644611.7272727273, \"ending_cash\": -557991.1704545437, \"excess_return\": 0.0, \"algorithm_period_return\": -0.13379443181816192, \"longs_count\": 1.0, \"trading_days\": 151.5, \"pnl\": -3369.0954318181666, \"returns\": -0.0339752090512637, \"ending_value\": 644611.7272727273, \"max_leverage\": 10.144471639679175, \"max_drawdown\": -0.5347925381186368, \"gross_leverage\": 8.174177739448668, \"algo_volatility\": 1.1261143182749966, \"benchmark_period_return\": -0.013595297291399593, \"price\": 111.72681818181817, \"sortino\": 0.49959071597849347, \"starting_value\": 643205.7272727273, \"treasury_period_return\": 0.0, \"long_value\": 644611.7272727273, \"date\": \"2015-12-31T00:00:00\", \"short_value\": 0.0, \"beta\": 2.2477579337859903, \"long_exposure\": 644611.7272727273, \"shorts_count\": 0.0, \"benchmark_volatility\": 0.23615865464359836, \"alpha\": 0.5230507810830436, \"starting_exposure\": 643205.7272727273}, {\"capital_used\": -9847.9161842105, \"net_leverage\": -1.2455829914773182, \"starting_cash\": -746185.0966842081, \"short_exposure\": 0.0, \"sharpe\": -1.2476050382490915, \"portfolio_value\": 1018.0397631603195, \"ending_exposure\": 757051.052631579, \"ending_cash\": -756033.0128684186, \"excess_return\": 0.0, \"algorithm_period_return\": -0.9898196023683967, \"longs_count\": 1.0, \"trading_days\": 172.0, \"pnl\": -2906.758289473652, \"returns\": -0.668033767974628, \"ending_value\": 757051.052631579, \"max_leverage\": 223.24442813563283, \"max_drawdown\": -1.0671092322178979, \"gross_leverage\": -1.2455829914773182, \"algo_volatility\": 5.857293305961312, \"benchmark_period_return\": -0.08478809098254037, \"price\": 98.42894736842105, \"sortino\": -1.577907193433034, \"starting_value\": 750109.8947368421, \"treasury_period_return\": 0.0, \"long_value\": 757051.052631579, \"date\": \"2016-01-31T00:00:00\", \"short_value\": 0.0, \"beta\": 4.792020434244706, \"long_exposure\": 757051.052631579, \"shorts_count\": 0.0, \"benchmark_volatility\": 0.2395066626633484, \"alpha\": -0.8333356648413613, \"starting_exposure\": 750109.8947368421}, {\"capital_used\": -9579.537325000041, \"net_leverage\": -40.349519645639646, \"starting_cash\": -934559.1909499969, \"short_exposure\": 0.0, \"sharpe\": -1.6028157187781136, \"portfolio_value\": -19926.72827499701, \"ending_exposure\": 924212.0, \"ending_cash\": -944138.728274997, \"excess_return\": 0.0, \"algorithm_period_return\": -1.1992672827499704, \"longs_count\": 1.0, \"trading_days\": 191.5, \"pnl\": -190.03732499998333, \"returns\": -0.13041790596552394, \"ending_value\": 924212.0, \"max_leverage\": 293.692680511493, \"max_drawdown\": -1.2623846725243946, \"gross_leverage\": -40.349519645639646, \"algo_volatility\": 10.175492679980687, \"benchmark_period_return\": -0.11258232744900938, \"price\": 95.7465, \"sortino\": -1.9500929997471128, \"starting_value\": 914822.5, \"treasury_period_return\": 0.0, \"long_value\": 924212.0, \"date\": \"2016-02-29T00:00:00\", \"short_value\": 0.0, \"beta\": 2.814681027907601, \"long_exposure\": 924212.0, \"shorts_count\": 0.0, \"benchmark_volatility\": 0.24853915255132164, \"alpha\": -0.9999987393571608, \"starting_exposure\": 914822.5}, {\"capital_used\": 5819.959363636296, \"net_leverage\": 18.69292097240769, \"starting_cash\": -1008487.6847954516, \"short_exposure\": 0.0, \"sharpe\": -1.8280107153763645, \"portfolio_value\": 69681.3200227302, \"ending_exposure\": 1072349.0454545454, \"ending_cash\": -1002667.7254318153, \"excess_return\": 0.0, \"algorithm_period_return\": -0.3031867997726971, \"longs_count\": 1.0, \"trading_days\": 212.5, \"pnl\": 5801.413909090916, \"returns\": -0.09949857437373844, \"ending_value\": 1072349.0454545454, \"max_leverage\": 296.27251466159, \"max_drawdown\": -1.2623846725243946, \"gross_leverage\": 18.69292097240769, \"algo_volatility\": 11.991917247971768, \"benchmark_period_return\": -0.05649905514019, \"price\": 104.26727272727271, \"sortino\": -2.116901581227507, \"starting_value\": 1072367.5909090908, \"treasury_period_return\": 0.0, \"long_value\": 1072349.0454545454, \"date\": \"2016-03-31T00:00:00\", \"short_value\": 0.0, \"beta\": -0.23409871180191796, \"long_exposure\": 1072349.0454545454, \"shorts_count\": 0.0, \"benchmark_volatility\": 0.2510814828065874, \"alpha\": -0.9999999997684396, \"starting_exposure\": 1072367.5909090908}, {\"capital_used\": 9775.705904761933, \"net_leverage\": 46.038084941795475, \"starting_cash\": -798185.1052142823, \"short_exposure\": 0.0, \"sharpe\": -1.687255278991108, \"portfolio_value\": 100912.55307143203, \"ending_exposure\": 889321.9523809524, \"ending_cash\": -788409.3993095204, \"excess_return\": 0.0, \"algorithm_period_return\": 0.009125530714321222, \"longs_count\": 1.0, \"trading_days\": 234.0, \"pnl\": -5531.722666666644, \"returns\": -0.11965192197509691, \"ending_value\": 889321.9523809524, \"max_leverage\": 316.4593329635864, \"max_drawdown\": -1.2623846725243946, \"gross_leverage\": 46.038084941795475, \"algo_volatility\": 11.46048870705483, \"benchmark_period_return\": -0.017811526833877624, \"price\": 106.7390476190476, \"sortino\": -1.957338096048148, \"starting_value\": 904629.380952381, \"treasury_period_return\": 0.0, \"long_value\": 889321.9523809524, \"date\": \"2016-04-30T00:00:00\", \"short_value\": 0.0, \"beta\": 0.13902409791258521, \"long_exposure\": 889321.9523809524, \"shorts_count\": 0.0, \"benchmark_volatility\": 0.24766409680803803, \"alpha\": -0.9999999979471884, \"starting_exposure\": 904629.380952381}, {\"capital_used\": -9502.324928571403, \"net_leverage\": 37.83293356759058, \"starting_cash\": -795781.589357139, \"short_exposure\": 0.0, \"sharpe\": 0.2994118241583413, \"portfolio_value\": 12813.84761905158, \"ending_exposure\": 818097.7619047619, \"ending_cash\": -805283.9142857103, \"excess_return\": 0.0, \"algorithm_period_return\": -0.8718615238094811, \"longs_count\": 1.0, \"trading_days\": 255.0, \"pnl\": 2669.389357142882, \"returns\": 1.5076596526461774, \"ending_value\": 818097.7619047619, \"max_leverage\": 3214.221515589301, \"max_drawdown\": -1.2623846725243946, \"gross_leverage\": 37.83293356759058, \"algo_volatility\": 54.3943534961648, \"benchmark_period_return\": 0.04583637925949057, \"price\": 94.97476190476189, \"sortino\": 1.8108884155818932, \"starting_value\": 805926.0476190476, \"treasury_period_return\": 0.0, \"long_value\": 818097.7619047619, \"date\": \"2016-05-31T00:00:00\", \"short_value\": 0.0, \"beta\": -8.85889907227626, \"long_exposure\": 818097.7619047619, \"shorts_count\": 0.0, \"benchmark_volatility\": 0.2428132667321135, \"alpha\": 123178022289429.5, \"starting_exposure\": 805926.0476190476}, {\"capital_used\": 712.0234318181705, \"net_leverage\": 53.10803853357533, \"starting_cash\": -946758.85554545, \"short_exposure\": 0.0, \"sharpe\": 0.17869671901037712, \"portfolio_value\": 24461.89515909555, \"ending_exposure\": 970508.7272727273, \"ending_cash\": -946046.8321136318, \"excess_return\": 0.0, \"algorithm_period_return\": -0.7553810484090391, \"longs_count\": 1.0, \"trading_days\": 276.5, \"pnl\": -2015.976568181782, \"returns\": 0.3220321676529927, \"ending_value\": 970508.7272727273, \"max_leverage\": 3214.221515589301, \"max_drawdown\": -1.2623846725243946, \"gross_leverage\": 53.10803853357533, \"algo_volatility\": 57.62362031417586, \"benchmark_period_return\": 0.09113278563368278, \"price\": 96.62227272727273, \"sortino\": 0.388947945229841, \"starting_value\": 973236.7272727273, \"treasury_period_return\": 0.0, \"long_value\": 970508.7272727273, \"date\": \"2016-06-30T00:00:00\", \"short_value\": 0.0, \"beta\": -8.163131476176403, \"long_exposure\": 970508.7272727273, \"shorts_count\": 0.0, \"benchmark_volatility\": 0.23842147101624003, \"alpha\": 566583.2046659702, \"starting_exposure\": 973236.7272727273}, {\"capital_used\": 143.52217500002007, \"net_leverage\": 35.8826159843947, \"starting_cash\": -917438.1118249949, \"short_exposure\": 0.0, \"sharpe\": 0.3075299691215868, \"portfolio_value\": 41601.76035000511, \"ending_exposure\": 958896.35, \"ending_cash\": -917294.5896499949, \"excess_return\": 0.0, \"algorithm_period_return\": -0.5839823964999402, \"longs_count\": 1.0, \"trading_days\": 297.5, \"pnl\": 4190.222175000026, \"returns\": 0.21510138762769088, \"ending_value\": 958896.35, \"max_leverage\": 3214.2215155893005, \"max_drawdown\": -1.2623846725243946, \"gross_leverage\": 35.8826159843947, \"algo_volatility\": 56.17576634950054, \"benchmark_period_return\": 0.11817080038195367, \"price\": 98.5565, \"sortino\": 0.6749593339523562, \"starting_value\": 954849.65, \"treasury_period_return\": 0.0, \"long_value\": 958896.35, \"date\": \"2016-07-31T00:00:00\", \"short_value\": 0.0, \"beta\": -5.086381194968785, \"long_exposure\": 958896.35, \"shorts_count\": 0.0, \"benchmark_volatility\": 0.24207216515390476, \"alpha\": 43999196.101774395, \"starting_exposure\": 954849.65}, {\"capital_used\": 10761.03847826088, \"net_leverage\": 6.937939206038017, \"starting_cash\": -764891.1172826033, \"short_exposure\": 0.0, \"sharpe\": 0.33674553312669525, \"portfolio_value\": 128549.74728261426, \"ending_exposure\": 882679.8260869565, \"ending_cash\": -754130.0788043422, \"excess_return\": 0.0, \"algorithm_period_return\": 0.28549747282616983, \"longs_count\": 1.0, \"trading_days\": 319.0, \"pnl\": 923.4732608695757, \"returns\": 0.010819410278869618, \"ending_value\": 882679.8260869565, \"max_leverage\": 3214.2215155893014, \"max_drawdown\": -1.2623846725243946, \"gross_leverage\": 6.937939206038017, \"algo_volatility\": 54.2892673989033, \"benchmark_period_return\": 0.14931088186044641, \"price\": 107.66521739130435, \"sortino\": 0.7395118384066306, \"starting_value\": 892517.3913043478, \"treasury_period_return\": 0.0, \"long_value\": 882679.8260869565, \"date\": \"2016-08-31T00:00:00\", \"short_value\": 0.0, \"beta\": -4.590106545599407, \"long_exposure\": 882679.8260869565, \"shorts_count\": 0.0, \"benchmark_volatility\": 0.23780339049349483, \"alpha\": 88949289.2073005, \"starting_exposure\": 892517.3913043478}, {\"capital_used\": -1907.261904761877, \"net_leverage\": 5.159094499028492, \"starting_cash\": -598068.1351904703, \"short_exposure\": 0.0, \"sharpe\": 0.3283849918976493, \"portfolio_value\": 147729.60290476787, \"ending_exposure\": 747705.0, \"ending_cash\": -599975.3970952322, \"excess_return\": 0.0, \"algorithm_period_return\": 0.47729602904771035, \"longs_count\": 1.0, \"trading_days\": 341.0, \"pnl\": 2057.5000000000223, \"returns\": 0.018714840037782527, \"ending_value\": 747705.0, \"max_leverage\": 3214.221515589301, \"max_drawdown\": -1.2623846725243946, \"gross_leverage\": 5.159094499028492, \"algo_volatility\": 52.50260604241542, \"benchmark_period_return\": 0.11698571650093628, \"price\": 110.85714285714286, \"sortino\": 0.7210780529442282, \"starting_value\": 743740.2380952381, \"treasury_period_return\": 0.0, \"long_value\": 747705.0, \"date\": \"2016-09-30T00:00:00\", \"short_value\": 0.0, \"beta\": -4.177197053671934, \"long_exposure\": 747705.0, \"shorts_count\": 0.0, \"benchmark_volatility\": 0.23686529657579922, \"alpha\": 27582691.45235223, \"starting_exposure\": 743740.2380952381}, {\"capital_used\": 2899.7813095238416, \"net_leverage\": 4.710331515088145, \"starting_cash\": -675080.0123571365, \"short_exposure\": 0.0, \"sharpe\": 0.32224637890411867, \"portfolio_value\": 182369.91180953037, \"ending_exposure\": 854550.1428571428, \"ending_cash\": -672180.2310476125, \"excess_return\": 0.0, \"algorithm_period_return\": 0.823699118095342, \"longs_count\": 1.0, \"trading_days\": 362.0, \"pnl\": 369.1146428571748, \"returns\": 0.0029028976828379444, \"ending_value\": 854550.1428571428, \"max_leverage\": 3214.221515589301, \"max_drawdown\": -1.2623846725243946, \"gross_leverage\": 4.710331515088145, \"algo_volatility\": 50.95287334526309, \"benchmark_period_return\": 0.10391942199106528, \"price\": 115.70714285714283, \"sortino\": 0.7075408860836475, \"starting_value\": 857080.8095238095, \"treasury_period_return\": 0.0, \"long_value\": 854550.1428571428, \"date\": \"2016-10-31T00:00:00\", \"short_value\": 0.0, \"beta\": -3.89067620776159, \"long_exposure\": 854550.1428571428, \"shorts_count\": 0.0, \"benchmark_volatility\": 0.2359210556487846, \"alpha\": 12133786.373121645, \"starting_exposure\": 857080.8095238095}, {\"capital_used\": -11021.036285714257, \"net_leverage\": 6.0830131888219, \"starting_cash\": -724713.7422142787, \"short_exposure\": 0.0, \"sharpe\": 0.31093669574762295, \"portfolio_value\": 145736.8881666739, \"ending_exposure\": 881471.6666666666, \"ending_cash\": -735734.7784999929, \"excess_return\": 0.0, \"algorithm_period_return\": 0.45736888166676914, \"longs_count\": 1.0, \"trading_days\": 383.0, \"pnl\": -961.3219999999719, \"returns\": -0.0027997947436404387, \"ending_value\": 881471.6666666666, \"max_leverage\": 3214.221515589301, \"max_drawdown\": -1.2623846725243946, \"gross_leverage\": 6.0830131888219, \"algo_volatility\": 49.533310137150366, \"benchmark_period_return\": 0.09041241548648274, \"price\": 110.1542857142857, \"sortino\": 0.6826505454282333, \"starting_value\": 871411.9523809524, \"treasury_period_return\": 0.0, \"long_value\": 881471.6666666666, \"date\": \"2016-11-30T00:00:00\", \"short_value\": 0.0, \"beta\": -3.6192801276830613, \"long_exposure\": 881471.6666666666, \"shorts_count\": 0.0, \"benchmark_volatility\": 0.23681695541082823, \"alpha\": 4250597.067937044, \"starting_exposure\": 871411.9523809524}, {\"capital_used\": -8112.626309523852, \"net_leverage\": 6.262805626829427, \"starting_cash\": -955725.7659999924, \"short_exposure\": 0.0, \"sharpe\": 0.30638347509092057, \"portfolio_value\": 185822.03626191232, \"ending_exposure\": 1149660.4285714286, \"ending_cash\": -963838.3923095161, \"excess_return\": 0.0, \"algorithm_period_return\": 0.8582203626191626, \"longs_count\": 1.0, \"trading_days\": 404.0, \"pnl\": 2431.659404761912, \"returns\": 0.01527700431681874, \"ending_value\": 1149660.4285714286, \"max_leverage\": 3214.221515589301, \"max_drawdown\": -1.2623846725243946, \"gross_leverage\": 6.262805626829427, \"algo_volatility\": 48.225880358077475, \"benchmark_period_return\": 0.10664997091067924, \"price\": 114.33571428571432, \"sortino\": 0.6726066150601796, \"starting_value\": 1139116.142857143, \"treasury_period_return\": 0.0, \"long_value\": 1149660.4285714286, \"date\": \"2016-12-31T00:00:00\", \"short_value\": 0.0, \"beta\": -3.387322011775198, \"long_exposure\": 1149660.4285714286, \"shorts_count\": 0.0, \"benchmark_volatility\": 0.23593945989396053, \"alpha\": 2319515.3340141014, \"starting_exposure\": 1139116.142857143}, {\"capital_used\": 7187.021499999944, \"net_leverage\": 5.065681002242949, \"starting_cash\": -965878.0211749921, \"short_exposure\": 0.0, \"sharpe\": 0.3022983591176638, \"portfolio_value\": 237758.35032500784, \"ending_exposure\": 1196449.35, \"ending_cash\": -958690.9996749919, \"excess_return\": 0.0, \"algorithm_period_return\": 1.3775835032501278, \"longs_count\": 1.0, \"trading_days\": 424.5, \"pnl\": 2809.27150000002, \"returns\": 0.012822465027069463, \"ending_value\": 1196449.35, \"max_leverage\": 3214.2215155893005, \"max_drawdown\": -1.2623846725243946, \"gross_leverage\": 5.065681002242949, \"algo_volatility\": 47.04388065756827, \"benchmark_period_return\": 0.16641407340303363, \"price\": 119.57000000000001, \"sortino\": 0.6636024331792552, \"starting_value\": 1200827.1, \"treasury_period_return\": 0.0, \"long_value\": 1196449.35, \"date\": \"2017-01-31T00:00:00\", \"short_value\": 0.0, \"beta\": -3.2492592061917778, \"long_exposure\": 1196449.35, \"shorts_count\": 0.0, \"benchmark_volatility\": 0.23433668384273426, \"alpha\": 1483992.5074770064, \"starting_exposure\": 1200827.1}, {\"capital_used\": 10590.18798684213, \"net_leverage\": 3.1403480841676656, \"starting_cash\": -791540.1006447288, \"short_exposure\": 0.0, \"sharpe\": 0.30145420031929365, \"portfolio_value\": 368537.06102632405, \"ending_exposure\": 1149486.9736842106, \"ending_cash\": -780949.9126578866, \"excess_return\": 0.0, \"algorithm_period_return\": 2.685370610263317, \"longs_count\": 1.0, \"trading_days\": 444.0, \"pnl\": 7430.556407894762, \"returns\": 0.024917408744122183, \"ending_value\": 1149486.9736842106, \"max_leverage\": 3214.2215155893005, \"max_drawdown\": -1.2623846725243946, \"gross_leverage\": 3.1403480841676656, \"algo_volatility\": 45.99684218413771, \"benchmark_period_return\": 0.23011738144912006, \"price\": 133.71394736842103, \"sortino\": 0.6617228664991516, \"starting_value\": 1152646.605263158, \"treasury_period_return\": 0.0, \"long_value\": 1149486.9736842106, \"date\": \"2017-02-28T00:00:00\", \"short_value\": 0.0, \"beta\": -3.137828637340651, \"long_exposure\": 1149486.9736842106, \"shorts_count\": 0.0, \"benchmark_volatility\": 0.2326699029444853, \"alpha\": 1124422.253508359, \"starting_exposure\": 1152646.605263158}, {\"capital_used\": 14054.651717391333, \"net_leverage\": 2.19549665256791, \"starting_cash\": -517918.5944239042, \"short_exposure\": 0.0, \"sharpe\": 0.29633154427819836, \"portfolio_value\": 423287.2746847915, \"ending_exposure\": 927151.2173913043, \"ending_cash\": -503863.94270651287, \"excess_return\": 0.0, \"algorithm_period_return\": 3.2328727468480056, \"longs_count\": 1.0, \"trading_days\": 465.0, \"pnl\": 1950.6517173913332, \"returns\": 0.0048238820072651345, \"ending_value\": 927151.2173913043, \"max_leverage\": 3214.2215155893014, \"max_drawdown\": -1.2623846725243946, \"gross_leverage\": 2.19549665256791, \"algo_volatility\": 44.94510051901132, \"benchmark_period_return\": 0.27864388448236305, \"price\": 140.6178260869565, \"sortino\": 0.6504492800871687, \"starting_value\": 939255.2173913043, \"treasury_period_return\": 0.0, \"long_value\": 927151.2173913043, \"date\": \"2017-03-31T00:00:00\", \"short_value\": 0.0, \"beta\": -3.0486568879657416, \"long_exposure\": 927151.2173913043, \"shorts_count\": 0.0, \"benchmark_volatility\": 0.2304302384629846, \"alpha\": 696746.1088680202, \"starting_exposure\": 939255.2173913043}, {\"capital_used\": 8321.866234210553, \"net_leverage\": 1.584484033327018, \"starting_cash\": -264455.22022893815, \"short_exposure\": 0.0, \"sharpe\": 0.29029247204186537, \"portfolio_value\": 438072.62495264085, \"ending_exposure\": 694205.9789473685, \"ending_cash\": -256133.35399472757, \"excess_return\": 0.0, \"algorithm_period_return\": 3.3807262495265027, \"longs_count\": 1.0, \"trading_days\": 486.0, \"pnl\": 2.392550000004833, \"returns\": 4.836803374794078e-05, \"ending_value\": 694205.9789473685, \"max_leverage\": 3214.2215155893005, \"max_drawdown\": -1.2623846725243946, \"gross_leverage\": 1.584484033327018, \"algo_volatility\": 43.96036033841693, \"benchmark_period_return\": 0.30297403278536783, \"price\": 142.88584210526315, \"sortino\": 0.637168177712188, \"starting_value\": 702525.4526315789, \"treasury_period_return\": 0.0, \"long_value\": 694205.9789473685, \"date\": \"2017-04-30T00:00:00\", \"short_value\": 0.0, \"beta\": -2.9888961013663895, \"long_exposure\": 694205.9789473685, \"shorts_count\": 0.0, \"benchmark_volatility\": 0.22743931978613574, \"alpha\": 408590.2035280585, \"starting_exposure\": 702525.4526315789}, {\"capital_used\": 15214.516159090901, \"net_leverage\": 1.0376119337461722, \"starting_cash\": -31620.46170908166, \"short_exposure\": 0.0, \"sharpe\": 0.2853771563169173, \"portfolio_value\": 477164.327177282, \"ending_exposure\": 493570.2727272727, \"ending_cash\": -16405.945549990774, \"excess_return\": 0.0, \"algorithm_period_return\": 3.771643271772923, \"longs_count\": 1.0, \"trading_days\": 506.5, \"pnl\": 1760.5161590909067, \"returns\": 0.003919370949806444, \"ending_value\": 493570.2727272727, \"max_leverage\": 3214.221515589301, \"max_drawdown\": -1.2623846725243946, \"gross_leverage\": 1.0376119337461722, \"algo_volatility\": 43.060502436537604, \"benchmark_period_return\": 0.3938919098187555, \"price\": 152.22227272727275, \"sortino\": 0.6263568611659299, \"starting_value\": 507024.2727272727, \"treasury_period_return\": 0.0, \"long_value\": 493570.2727272727, \"date\": \"2017-05-31T00:00:00\", \"short_value\": 0.0, \"beta\": -2.9457951775750657, \"long_exposure\": 493570.2727272727, \"shorts_count\": 0.0, \"benchmark_volatility\": 0.22507107554858585, \"alpha\": 279379.17912160297, \"starting_exposure\": 507024.2727272727}, {\"capital_used\": 2928.190295454538, \"net_leverage\": 0.46157252381686226, \"starting_cash\": 251843.7982000093, \"short_exposure\": 0.0, \"sharpe\": 0.2793237292477104, \"portfolio_value\": 474059.17031364556, \"ending_exposure\": 219287.18181818182, \"ending_cash\": 254771.98849546385, \"excess_return\": 0.0, \"algorithm_period_return\": 3.7405917031365608, \"longs_count\": 1.0, \"trading_days\": 528.5, \"pnl\": -564.3551590909007, \"returns\": -0.001166730850787642, \"ending_value\": 219287.18181818182, \"max_leverage\": 3214.221515589301, \"max_drawdown\": -1.2623846725243946, \"gross_leverage\": 0.46157252381686226, \"algo_volatility\": 42.153089895213014, \"benchmark_period_return\": 0.4576003899633452, \"price\": 147.83045454545453, \"sortino\": 0.6130491954818941, \"starting_value\": 222779.72727272726, \"treasury_period_return\": 0.0, \"long_value\": 219287.18181818182, \"date\": \"2017-06-30T00:00:00\", \"short_value\": 0.0, \"beta\": -2.8715640264604034, \"long_exposure\": 219287.18181818182, \"shorts_count\": 0.0, \"benchmark_volatility\": 0.22341409093533313, \"alpha\": 176622.5077707516, \"starting_exposure\": 222779.72727272726}, {\"capital_used\": -14838.065275000006, \"net_leverage\": 0.883274177221964, \"starting_cash\": 69522.98590000936, \"short_exposure\": 0.0, \"sharpe\": 0.27405428460708964, \"portfolio_value\": 478921.2206250093, \"ending_exposure\": 424236.3, \"ending_cash\": 54684.920625009356, \"excess_return\": 0.0, \"algorithm_period_return\": 3.789212206250202, \"longs_count\": 1.0, \"trading_days\": 549.5, \"pnl\": 481.63472499999625, \"returns\": 0.00104439183960251, \"ending_value\": 424236.3, \"max_leverage\": 3214.2215155893005, \"max_drawdown\": -1.2623846725243946, \"gross_leverage\": 0.883274177221964, \"algo_volatility\": 41.33798829154715, \"benchmark_period_return\": 0.4768675170775949, \"price\": 148.3055, \"sortino\": 0.6014656016934479, \"starting_value\": 408916.6, \"treasury_period_return\": 0.0, \"long_value\": 424236.3, \"date\": \"2017-07-31T00:00:00\", \"short_value\": 0.0, \"beta\": -2.8237313769503336, \"long_exposure\": 424236.3, \"shorts_count\": 0.0, \"benchmark_volatility\": 0.22069541971038692, \"alpha\": 113157.93614481024, \"starting_exposure\": 408916.6}, {\"capital_used\": 11786.20713043478, \"net_leverage\": 0.9603679151072771, \"starting_cash\": 9665.217504357124, \"short_exposure\": 0.0, \"sharpe\": 0.2696646195297601, \"portfolio_value\": 514325.9028956614, \"ending_exposure\": 492874.47826086957, \"ending_cash\": 21451.4246347919, \"excess_return\": 0.0, \"algorithm_period_return\": 4.143259028956728, \"longs_count\": 1.0, \"trading_days\": 571.0, \"pnl\": 2167.5114782608653, \"returns\": 0.004467357922956779, \"ending_value\": 492874.47826086957, \"max_leverage\": 3214.2215155893014, \"max_drawdown\": -1.2623846725243946, \"gross_leverage\": 0.9603679151072771, \"algo_volatility\": 40.551480038874864, \"benchmark_period_return\": 0.4990584305330429, \"price\": 158.91434782608695, \"sortino\": 0.5918139014130258, \"starting_value\": 502493.17391304346, \"treasury_period_return\": 0.0, \"long_value\": 492874.47826086957, \"date\": \"2017-08-31T00:00:00\", \"short_value\": 0.0, \"beta\": -2.745050059712647, \"long_exposure\": 492874.47826086957, \"shorts_count\": 0.0, \"benchmark_volatility\": 0.2193195653664935, \"alpha\": 76294.11418658892, \"starting_exposure\": 502493.17391304346}, {\"capital_used\": -1303.0303250000084, \"net_leverage\": 0.5335037307146229, \"starting_cash\": 242354.33840000938, \"short_exposure\": 0.0, \"sharpe\": 0.2647866744141697, \"portfolio_value\": 516462.4580750094, \"ending_exposure\": 275411.15, \"ending_cash\": 241051.30807500938, \"excess_return\": 0.0, \"algorithm_period_return\": 4.164624580750209, \"longs_count\": 1.0, \"trading_days\": 592.5, \"pnl\": -799.230324999991, \"returns\": -0.0015232916352679537, \"ending_value\": 275411.15, \"max_leverage\": 3214.2215155893005, \"max_drawdown\": -1.2623846725243946, \"gross_leverage\": 0.5335037307146229, \"algo_volatility\": 39.807283777923885, \"benchmark_period_return\": 0.5934639962784372, \"price\": 157.6065, \"sortino\": 0.5810929018262022, \"starting_value\": 274907.35, \"treasury_period_return\": 0.0, \"long_value\": 275411.15, \"date\": \"2017-09-30T00:00:00\", \"short_value\": 0.0, \"beta\": -2.69232271144434, \"long_exposure\": 275411.15, \"shorts_count\": 0.0, \"benchmark_volatility\": 0.21779055108503864, \"alpha\": 54477.35101039093, \"starting_exposure\": 274907.35}, {\"capital_used\": -15789.154218181817, \"net_leverage\": 1.0395829001389658, \"starting_cash\": -6827.547956808772, \"short_exposure\": 0.0, \"sharpe\": 0.26036901443830546, \"portfolio_value\": 523612.07509773684, \"ending_exposure\": 546228.7772727273, \"ending_cash\": -22616.702174990598, \"excess_return\": 0.0, \"algorithm_period_return\": 4.236120750977485, \"longs_count\": 1.0, \"trading_days\": 613.5, \"pnl\": 2674.6639636363598, \"returns\": 0.005051460479407501, \"ending_value\": 546228.7772727273, \"max_leverage\": 3214.221515589301, \"max_drawdown\": -1.2623846725243946, \"gross_leverage\": 1.0395829001389658, \"algo_volatility\": 39.119289020009965, \"benchmark_period_return\": 0.6345963367484857, \"price\": 157.81163636363635, \"sortino\": 0.5713840695187963, \"starting_value\": 527764.9590909091, \"treasury_period_return\": 0.0, \"long_value\": 546228.7772727273, \"date\": \"2017-10-31T00:00:00\", \"short_value\": 0.0, \"beta\": -2.66949426751241, \"long_exposure\": 546228.7772727273, \"shorts_count\": 0.0, \"benchmark_volatility\": 0.21508557808469722, \"alpha\": 38786.98615559939, \"starting_exposure\": 527764.9590909091}, {\"capital_used\": -7350.671833333316, \"net_leverage\": 1.526926171034918, \"starting_cash\": -301710.2830761811, \"short_exposure\": 0.0, \"sharpe\": 0.2571336126454516, \"portfolio_value\": 586399.3308047714, \"ending_exposure\": 895460.2857142857, \"ending_cash\": -309060.95490951446, \"excess_return\": 0.0, \"algorithm_period_return\": 4.863993308047847, \"longs_count\": 1.0, \"trading_days\": 635.0, \"pnl\": 616.4710238095353, \"returns\": 0.0012228177704784696, \"ending_value\": 895460.2857142857, \"max_leverage\": 3214.221515589301, \"max_drawdown\": -1.2623846725243946, \"gross_leverage\": 1.526926171034918, \"algo_volatility\": 38.4501991480363, \"benchmark_period_return\": 0.6773871608237402, \"price\": 172.33809523809524, \"sortino\": 0.5642701798534103, \"starting_value\": 887493.1428571428, \"treasury_period_return\": 0.0, \"long_value\": 895460.2857142857, \"date\": \"2017-11-30T00:00:00\", \"short_value\": 0.0, \"beta\": -2.644574055862048, \"long_exposure\": 895460.2857142857, \"shorts_count\": 0.0, \"benchmark_volatility\": 0.21247984206558299, \"alpha\": 29183.1289306285, \"starting_exposure\": 887493.1428571428}, {\"capital_used\": 5122.115345000016, \"net_leverage\": 1.3675360258473368, \"starting_cash\": -218216.73304999043, \"short_exposure\": 0.0, \"sharpe\": 0.2530356308783475, \"portfolio_value\": 582163.5222950097, \"ending_exposure\": 795258.14, \"ending_cash\": -213094.61770499038, \"excess_return\": 0.0, \"algorithm_period_return\": 4.821635222950231, \"longs_count\": 1.0, \"trading_days\": 655.5, \"pnl\": -662.1846550000016, \"returns\": -0.0010703685080617697, \"ending_value\": 795258.14, \"max_leverage\": 3214.2215155893005, \"max_drawdown\": -1.2623846725243946, \"gross_leverage\": 1.3675360258473368, \"algo_volatility\": 37.843235808022776, \"benchmark_period_return\": 0.6431824302818154, \"price\": 171.89310000000003, \"sortino\": 0.5552654700379108, \"starting_value\": 801042.4400000001, \"treasury_period_return\": 0.0, \"long_value\": 795258.14, \"date\": \"2017-12-31T00:00:00\", \"short_value\": 0.0, \"beta\": -2.541169089495999, \"long_exposure\": 795258.14, \"shorts_count\": 0.0, \"benchmark_volatility\": 0.21238123013675164, \"alpha\": 20417.24290509077, \"starting_exposure\": 801042.4400000001}, {\"capital_used\": -4169.609785714261, \"net_leverage\": 1.5524351752216095, \"starting_cash\": -323899.9055095141, \"short_exposure\": 0.0, \"sharpe\": 0.2493762826467787, \"portfolio_value\": 593026.8656571526, \"ending_exposure\": 921096.380952381, \"ending_cash\": -328069.5152952284, \"excess_return\": 0.0, \"algorithm_period_return\": 4.930268656571664, \"longs_count\": 1.0, \"trading_days\": 676.0, \"pnl\": -594.6097857142644, \"returns\": -0.0009361558233879759, \"ending_value\": 921096.380952381, \"max_leverage\": 3214.221515589301, \"max_drawdown\": -1.2623846725243946, \"gross_leverage\": 1.5524351752216095, \"algo_volatility\": 37.26434454070676, \"benchmark_period_return\": 0.7598632626911697, \"price\": 174.00523809523807, \"sortino\": 0.5472242840623137, \"starting_value\": 917521.380952381, \"treasury_period_return\": 0.0, \"long_value\": 921096.380952381, \"date\": \"2018-01-31T00:00:00\", \"short_value\": 0.0, \"beta\": -2.503062159803541, \"long_exposure\": 921096.380952381, \"shorts_count\": 0.0, \"benchmark_volatility\": 0.2110795601014289, \"alpha\": 16151.137943230051, \"starting_exposure\": 917521.380952381}, {\"capital_used\": -16776.352355263138, \"net_leverage\": 1.867173436121706, \"starting_cash\": -477142.1031078845, \"short_exposure\": 0.0, \"sharpe\": 0.24538258091204437, \"portfolio_value\": 565966.5182210628, \"ending_exposure\": 1059884.9736842106, \"ending_cash\": -493918.4554631478, \"excess_return\": 0.0, \"algorithm_period_return\": 4.659665182210757, \"longs_count\": 1.0, \"trading_days\": 696.0, \"pnl\": 4017.595013157918, \"returns\": 0.007500940809849936, \"ending_value\": 1059884.9736842106, \"max_leverage\": 3214.2215155893005, \"max_drawdown\": -1.2623846725243946, \"gross_leverage\": 1.867173436121706, \"algo_volatility\": 36.724252888361065, \"benchmark_period_return\": 0.7050915121704856, \"price\": 167.67868421052628, \"sortino\": 0.5384491205872753, \"starting_value\": 1039091.0263157894, \"treasury_period_return\": 0.0, \"long_value\": 1059884.9736842106, \"date\": \"2018-02-28T00:00:00\", \"short_value\": 0.0, \"beta\": -2.3010335223743166, \"long_exposure\": 1059884.9736842106, \"shorts_count\": 0.0, \"benchmark_volatility\": 0.2136345990393499, \"alpha\": 11337.627811890625, \"starting_exposure\": 1039091.0263157894}, {\"capital_used\": -17785.62468181815, \"net_leverage\": 2.1925094635540905, \"starting_cash\": -736874.8057227166, \"short_exposure\": 0.0, \"sharpe\": 0.2439571489944106, \"portfolio_value\": 632386.9332318289, \"ending_exposure\": 1387047.3636363635, \"ending_cash\": -754660.4304045347, \"excess_return\": 0.0, \"algorithm_period_return\": 5.323869332318433, \"longs_count\": 1.0, \"trading_days\": 711.0, \"pnl\": 426.28440909093956, \"returns\": 0.0009058129717906992, \"ending_value\": 1387047.3636363635, \"max_leverage\": 3214.221515589302, \"max_drawdown\": -1.2623846725243946, \"gross_leverage\": 2.1925094635540905, \"algo_volatility\": 36.333786318704625, \"benchmark_period_return\": 0.6976760232642554, \"price\": 177.76636363636365, \"sortino\": 0.5353137020791038, \"starting_value\": 1368835.4545454546, \"treasury_period_return\": 0.0, \"long_value\": 1387047.3636363635, \"date\": \"2018-03-31T00:00:00\", \"short_value\": 0.0, \"beta\": -2.2051591080828135, \"long_exposure\": 1387047.3636363635, \"shorts_count\": 0.0, \"benchmark_volatility\": 0.21430661696091644, \"alpha\": 9508.46035365844, \"starting_exposure\": 1368835.4545454546}], \"data-df594cb9cfccc7b88406e37978a35e0e\": [{\"portfolio_value\": 10001.626270833332, \"date\": \"2015-05-31T00:00:00\", \"series\": \"_moving_average\", \"price\": 130.493375}, {\"portfolio_value\": 10300.577204545463, \"date\": \"2015-06-30T00:00:00\", \"series\": \"_moving_average\", \"price\": 128.58420454545455}, {\"portfolio_value\": 10491.73131818183, \"date\": \"2015-07-31T00:00:00\", \"series\": \"_moving_average\", \"price\": 125.90730113636363}, {\"portfolio_value\": 17306.99092857142, \"date\": \"2015-08-31T00:00:00\", \"series\": \"_moving_average\", \"price\": 115.32156547619049}, {\"portfolio_value\": 17663.889547619016, \"date\": \"2015-09-30T00:00:00\", \"series\": \"_moving_average\", \"price\": 112.5639880952381}, {\"portfolio_value\": 17293.733795454515, \"date\": \"2015-10-31T00:00:00\", \"series\": \"_moving_average\", \"price\": 112.32795454545457}, {\"portfolio_value\": 15775.540324999976, \"date\": \"2015-11-30T00:00:00\", \"series\": \"_moving_average\", \"price\": 118.08744374999996}, {\"portfolio_value\": 16413.30029545454, \"date\": \"2015-12-31T00:00:00\", \"series\": \"_moving_average\", \"price\": 113.49386363636363}, {\"portfolio_value\": 19643.79342105262, \"date\": \"2016-01-31T00:00:00\", \"series\": \"_moving_average\", \"price\": 100.33565789473684}, {\"portfolio_value\": 19943.83637499997, \"date\": \"2016-02-29T00:00:00\", \"series\": \"_moving_average\", \"price\": 95.71905}, {\"portfolio_value\": 16669.142477272686, \"date\": \"2016-03-31T00:00:00\", \"series\": \"_moving_average\", \"price\": 102.47704545454545}, {\"portfolio_value\": 15912.839166666636, \"date\": \"2016-04-30T00:00:00\", \"series\": \"_moving_average\", \"price\": 108.23434523809523}, {\"portfolio_value\": 20204.088499999983, \"date\": \"2016-05-31T00:00:00\", \"series\": \"_moving_average\", \"price\": 94.76472619047618}, {\"portfolio_value\": 19789.990727272703, \"date\": \"2016-06-30T00:00:00\", \"series\": \"_moving_average\", \"price\": 97.43914772727271}, {\"portfolio_value\": 18318.355549999967, \"date\": \"2016-07-31T00:00:00\", \"series\": \"_moving_average\", \"price\": 97.26868749999998}, {\"portfolio_value\": 13199.108152173865, \"date\": \"2016-08-31T00:00:00\", \"series\": \"_moving_average\", \"price\": 106.80514130434783}, {\"portfolio_value\": 11085.244880952312, \"date\": \"2016-09-30T00:00:00\", \"series\": \"_moving_average\", \"price\": 109.80333333333333}, {\"portfolio_value\": 8517.832095238016, \"date\": \"2016-10-31T00:00:00\", \"series\": \"_moving_average\", \"price\": 115.38994047619049}, {\"portfolio_value\": 10270.56704761898, \"date\": \"2016-11-30T00:00:00\", \"series\": \"_moving_average\", \"price\": 110.66567261904763}, {\"portfolio_value\": 8662.413119047562, \"date\": \"2016-12-31T00:00:00\", \"series\": \"_moving_average\", \"price\": 113.46232142857144}, {\"portfolio_value\": 7487.847824999949, \"date\": \"2017-01-31T00:00:00\", \"series\": \"_moving_average\", \"price\": 118.69974999999997}, {\"portfolio_value\": 9102.579578947323, \"date\": \"2017-02-28T00:00:00\", \"series\": \"_moving_average\", \"price\": 130.79475657894739}, {\"portfolio_value\": 10645.871543478219, \"date\": \"2017-03-31T00:00:00\", \"series\": \"_moving_average\", \"price\": 139.6425}, {\"portfolio_value\": 11228.060473684176, \"date\": \"2017-04-30T00:00:00\", \"series\": \"_moving_average\", \"price\": 142.80186184210527}, {\"portfolio_value\": 16316.553704545413, \"date\": \"2017-05-31T00:00:00\", \"series\": \"_moving_average\", \"price\": 150.56717045454545}, {\"portfolio_value\": 14660.92331818177, \"date\": \"2017-06-30T00:00:00\", \"series\": \"_moving_average\", \"price\": 149.23022727272726}, {\"portfolio_value\": 14638.618599999958, \"date\": \"2017-07-31T00:00:00\", \"series\": \"_moving_average\", \"price\": 147.254625}, {\"portfolio_value\": 16939.565434782577, \"date\": \"2017-08-31T00:00:00\", \"series\": \"_moving_average\", \"price\": 157.0356101473121}, {\"portfolio_value\": 16903.02882499996, \"date\": \"2017-09-30T00:00:00\", \"series\": \"_moving_average\", \"price\": 159.20387499999998}, {\"portfolio_value\": 16940.196363636325, \"date\": \"2017-10-31T00:00:00\", \"series\": \"_moving_average\", \"price\": 156.23763068181816}, {\"portfolio_value\": 18838.351119047577, \"date\": \"2017-11-30T00:00:00\", \"series\": \"_moving_average\", \"price\": 170.78193452380953}, {\"portfolio_value\": 18549.11374999996, \"date\": \"2017-12-31T00:00:00\", \"series\": \"_moving_average\", \"price\": 172.103975}, {\"portfolio_value\": 18974.834499999957, \"date\": \"2018-01-31T00:00:00\", \"series\": \"_moving_average\", \"price\": 174.34625}, {\"portfolio_value\": 18934.893499999962, \"date\": \"2018-02-28T00:00:00\", \"series\": \"_moving_average\", \"price\": 166.31315789473686}, {\"portfolio_value\": 20819.137045454514, \"date\": \"2018-03-31T00:00:00\", \"series\": \"_moving_average\", \"price\": 176.9626136363636}, {\"portfolio_value\": 10001.626270833332, \"date\": \"2015-05-31T00:00:00\", \"series\": \"_price\", \"price\": 131.253}, {\"portfolio_value\": 10300.577204545463, \"date\": \"2015-06-30T00:00:00\", \"series\": \"_price\", \"price\": 127.80636363636367}, {\"portfolio_value\": 10491.73131818183, \"date\": \"2015-07-31T00:00:00\", \"series\": \"_price\", \"price\": 125.33545454545452}, {\"portfolio_value\": 17306.99092857142, \"date\": \"2015-08-31T00:00:00\", \"series\": \"_price\", \"price\": 113.39476190476192}, {\"portfolio_value\": 17663.889547619016, \"date\": \"2015-09-30T00:00:00\", \"series\": \"_price\", \"price\": 112.78095238095239}, {\"portfolio_value\": 17293.733795454515, \"date\": \"2015-10-31T00:00:00\", \"series\": \"_price\", \"price\": 113.36}, {\"portfolio_value\": 15775.540324999976, \"date\": \"2015-11-30T00:00:00\", \"series\": \"_price\", \"price\": 118.16225}, {\"portfolio_value\": 16413.30029545454, \"date\": \"2015-12-31T00:00:00\", \"series\": \"_price\", \"price\": 111.72681818181817}, {\"portfolio_value\": 19643.79342105262, \"date\": \"2016-01-31T00:00:00\", \"series\": \"_price\", \"price\": 98.42894736842105}, {\"portfolio_value\": 19943.83637499997, \"date\": \"2016-02-29T00:00:00\", \"series\": \"_price\", \"price\": 95.7465}, {\"portfolio_value\": 16669.142477272686, \"date\": \"2016-03-31T00:00:00\", \"series\": \"_price\", \"price\": 104.26727272727271}, {\"portfolio_value\": 15912.839166666636, \"date\": \"2016-04-30T00:00:00\", \"series\": \"_price\", \"price\": 106.7390476190476}, {\"portfolio_value\": 20204.088499999983, \"date\": \"2016-05-31T00:00:00\", \"series\": \"_price\", \"price\": 94.97476190476189}, {\"portfolio_value\": 19789.990727272703, \"date\": \"2016-06-30T00:00:00\", \"series\": \"_price\", \"price\": 96.62227272727273}, {\"portfolio_value\": 18318.355549999967, \"date\": \"2016-07-31T00:00:00\", \"series\": \"_price\", \"price\": 98.5565}, {\"portfolio_value\": 13199.108152173865, \"date\": \"2016-08-31T00:00:00\", \"series\": \"_price\", \"price\": 107.66521739130435}, {\"portfolio_value\": 11085.244880952312, \"date\": \"2016-09-30T00:00:00\", \"series\": \"_price\", \"price\": 110.85714285714286}, {\"portfolio_value\": 8517.832095238016, \"date\": \"2016-10-31T00:00:00\", \"series\": \"_price\", \"price\": 115.70714285714283}, {\"portfolio_value\": 10270.56704761898, \"date\": \"2016-11-30T00:00:00\", \"series\": \"_price\", \"price\": 110.1542857142857}, {\"portfolio_value\": 8662.413119047562, \"date\": \"2016-12-31T00:00:00\", \"series\": \"_price\", \"price\": 114.33571428571432}, {\"portfolio_value\": 7487.847824999949, \"date\": \"2017-01-31T00:00:00\", \"series\": \"_price\", \"price\": 119.57000000000001}, {\"portfolio_value\": 9102.579578947323, \"date\": \"2017-02-28T00:00:00\", \"series\": \"_price\", \"price\": 133.71394736842103}, {\"portfolio_value\": 10645.871543478219, \"date\": \"2017-03-31T00:00:00\", \"series\": \"_price\", \"price\": 140.6178260869565}, {\"portfolio_value\": 11228.060473684176, \"date\": \"2017-04-30T00:00:00\", \"series\": \"_price\", \"price\": 142.88584210526315}, {\"portfolio_value\": 16316.553704545413, \"date\": \"2017-05-31T00:00:00\", \"series\": \"_price\", \"price\": 152.22227272727275}, {\"portfolio_value\": 14660.92331818177, \"date\": \"2017-06-30T00:00:00\", \"series\": \"_price\", \"price\": 147.83045454545453}, {\"portfolio_value\": 14638.618599999958, \"date\": \"2017-07-31T00:00:00\", \"series\": \"_price\", \"price\": 148.3055}, {\"portfolio_value\": 16939.565434782577, \"date\": \"2017-08-31T00:00:00\", \"series\": \"_price\", \"price\": 158.91434782608695}, {\"portfolio_value\": 16903.02882499996, \"date\": \"2017-09-30T00:00:00\", \"series\": \"_price\", \"price\": 157.6065}, {\"portfolio_value\": 16940.196363636325, \"date\": \"2017-10-31T00:00:00\", \"series\": \"_price\", \"price\": 157.81163636363635}, {\"portfolio_value\": 18838.351119047577, \"date\": \"2017-11-30T00:00:00\", \"series\": \"_price\", \"price\": 172.33809523809524}, {\"portfolio_value\": 18549.11374999996, \"date\": \"2017-12-31T00:00:00\", \"series\": \"_price\", \"price\": 171.89310000000003}, {\"portfolio_value\": 18974.834499999957, \"date\": \"2018-01-31T00:00:00\", \"series\": \"_price\", \"price\": 174.00523809523807}, {\"portfolio_value\": 18934.893499999962, \"date\": \"2018-02-28T00:00:00\", \"series\": \"_price\", \"price\": 167.67868421052628}, {\"portfolio_value\": 20819.137045454514, \"date\": \"2018-03-31T00:00:00\", \"series\": \"_price\", \"price\": 177.76636363636365}]}}, {\"mode\": \"vega-lite\"});\n",
       "</script>"
      ],
      "text/plain": [
       "alt.HConcatChart(...)"
      ]
     },
     "execution_count": 10,
     "metadata": {},
     "output_type": "execute_result"
    }
   ],
   "source": [
    "select_time = alt.selection(type=\"interval\",encodings=[\"x\"])\n",
    "\n",
    "portfolio_sma = alt.Chart(sma_series).mark_line(strokeWidth=3, opacity=0.7).encode(\n",
    "    x=\"date\",\n",
    "    y='portfolio_value'\n",
    ").properties(\n",
    "    width=300,\n",
    "    height=200\n",
    ").transform_filter(\n",
    "    select_time\n",
    ")\n",
    "\n",
    "price_sma = alt.Chart(sma_series).mark_line(strokeWidth=2, opacity=0.7).encode(\n",
    "    x=\"date\",\n",
    "    y='price',\n",
    "    color='series',\n",
    ").properties(\n",
    "    width=300,\n",
    "    height=200,\n",
    "    selection=select_time\n",
    ")\n",
    "\n",
    "portfolio_gb = alt.Chart(gb).mark_line(strokeWidth=3, opacity=0.7).encode(\n",
    "    x=\"date\",\n",
    "    y='portfolio_value'\n",
    ").properties(\n",
    "    width=300,\n",
    "    height=200\n",
    ").transform_filter(\n",
    "    select_time\n",
    ")\n",
    "\n",
    "price_gb = alt.Chart(sma_series).mark_line(strokeWidth=3, opacity=0.7).encode(\n",
    "    x=\"date\",\n",
    "    y='price'\n",
    ").properties(\n",
    "    width=300,\n",
    "    height=200,\n",
    "    selection=select_time\n",
    ")\n",
    "\n",
    "chart = (portfolio_sma&price_sma).properties(title='TA Strategy') | (portfolio_gb&price_gb).properties(title='ML Strategy')\n",
    "chart\n",
    "#chart.save('../images/viz/readme/strategies2.png')"
   ]
  }
 ],
 "metadata": {
  "kernelspec": {
   "display_name": "Python 3",
   "language": "python",
   "name": "python3"
  },
  "language_info": {
   "codemirror_mode": {
    "name": "ipython",
    "version": 3
   },
   "file_extension": ".py",
   "mimetype": "text/x-python",
   "name": "python",
   "nbconvert_exporter": "python",
   "pygments_lexer": "ipython3",
   "version": "3.5.6"
  }
 },
 "nbformat": 4,
 "nbformat_minor": 4
}
