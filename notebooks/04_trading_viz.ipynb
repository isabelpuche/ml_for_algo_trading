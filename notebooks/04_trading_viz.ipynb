{
 "cells": [
  {
   "cell_type": "markdown",
   "metadata": {},
   "source": [
    "1. [Altair Visualization](#Altair-visualization)"
   ]
  },
  {
   "cell_type": "markdown",
   "metadata": {},
   "source": [
    "# Altair Visualization\n",
    "<div style = \"float:right\"><a style=\"text-decoration:none\" href = \"#inicio\">Inicio</a></div>"
   ]
  },
  {
   "cell_type": "code",
   "execution_count": 20,
   "metadata": {},
   "outputs": [],
   "source": [
    "# Import Libraries\n",
    "import altair as alt\n",
    "# import streamlit as st\n",
    "import pandas as pd\n",
    "# import matplotlib\n",
    "from matplotlib import pyplot as plt"
   ]
  },
  {
   "cell_type": "markdown",
   "metadata": {},
   "source": [
    "## Taylor series Data frames"
   ]
  },
  {
   "cell_type": "markdown",
   "metadata": {},
   "source": [
    "### Dual Moving Average"
   ]
  },
  {
   "cell_type": "code",
   "execution_count": 15,
   "metadata": {},
   "outputs": [],
   "source": [
    "# read csv\n",
    "dma = pd.read_csv('../reports/dma_strategy.csv')\n",
    "\n",
    "# rename first column as date\n",
    "dma = dma.rename(columns={'Unnamed: 0':'date'})\n",
    "\n",
    "# monthly resample\n",
    "dma.date = pd.to_datetime(dma.date)\n",
    "dma = dma.resample('M', on='date').mean().reset_index()\n",
    "\n",
    "# rename columns of interest (stock prices and dual moving averages)\n",
    "dma = dma.rename(columns={'price': '_AAPL', 'fast_ma': '_fast_ma', 'slow_ma': '_slow_ma'})\n",
    "\n",
    "# melt stock prices and dual moving averages into 'series' new variable\n",
    "keys = [x for x in dma.columns if x.startswith('_')]\n",
    "dma_series = pd.melt(dma, id_vars=['date', 'portfolio_value'], value_vars=keys, value_name='price', var_name='series')"
   ]
  },
  {
   "cell_type": "code",
   "execution_count": 3,
   "metadata": {},
   "outputs": [
    {
     "data": {
      "text/html": [
       "<div>\n",
       "<style scoped>\n",
       "    .dataframe tbody tr th:only-of-type {\n",
       "        vertical-align: middle;\n",
       "    }\n",
       "\n",
       "    .dataframe tbody tr th {\n",
       "        vertical-align: top;\n",
       "    }\n",
       "\n",
       "    .dataframe thead th {\n",
       "        text-align: right;\n",
       "    }\n",
       "</style>\n",
       "<table border=\"1\" class=\"dataframe\">\n",
       "  <thead>\n",
       "    <tr style=\"text-align: right;\">\n",
       "      <th></th>\n",
       "      <th>date</th>\n",
       "      <th>portfolio_value</th>\n",
       "      <th>series</th>\n",
       "      <th>price</th>\n",
       "    </tr>\n",
       "  </thead>\n",
       "  <tbody>\n",
       "    <tr>\n",
       "      <th>0</th>\n",
       "      <td>2015-05-31</td>\n",
       "      <td>10000.000000</td>\n",
       "      <td>_fast_ma</td>\n",
       "      <td>NaN</td>\n",
       "    </tr>\n",
       "    <tr>\n",
       "      <th>1</th>\n",
       "      <td>2015-06-30</td>\n",
       "      <td>10000.000000</td>\n",
       "      <td>_fast_ma</td>\n",
       "      <td>127.014375</td>\n",
       "    </tr>\n",
       "    <tr>\n",
       "      <th>2</th>\n",
       "      <td>2015-07-31</td>\n",
       "      <td>9938.030682</td>\n",
       "      <td>_fast_ma</td>\n",
       "      <td>125.907301</td>\n",
       "    </tr>\n",
       "    <tr>\n",
       "      <th>3</th>\n",
       "      <td>2015-08-31</td>\n",
       "      <td>9702.420500</td>\n",
       "      <td>_fast_ma</td>\n",
       "      <td>115.321565</td>\n",
       "    </tr>\n",
       "    <tr>\n",
       "      <th>4</th>\n",
       "      <td>2015-09-30</td>\n",
       "      <td>9662.803357</td>\n",
       "      <td>_fast_ma</td>\n",
       "      <td>112.563988</td>\n",
       "    </tr>\n",
       "  </tbody>\n",
       "</table>\n",
       "</div>"
      ],
      "text/plain": [
       "        date  portfolio_value    series       price\n",
       "0 2015-05-31     10000.000000  _fast_ma         NaN\n",
       "1 2015-06-30     10000.000000  _fast_ma  127.014375\n",
       "2 2015-07-31      9938.030682  _fast_ma  125.907301\n",
       "3 2015-08-31      9702.420500  _fast_ma  115.321565\n",
       "4 2015-09-30      9662.803357  _fast_ma  112.563988"
      ]
     },
     "execution_count": 3,
     "metadata": {},
     "output_type": "execute_result"
    }
   ],
   "source": [
    "dma_series.head()"
   ]
  },
  {
   "cell_type": "markdown",
   "metadata": {},
   "source": [
    "### ML Buy and Hold"
   ]
  },
  {
   "cell_type": "code",
   "execution_count": 16,
   "metadata": {},
   "outputs": [],
   "source": [
    "# read csv\n",
    "gb = pd.read_csv('../reports/buy_and_hold_GB.csv')\n",
    "\n",
    "# rename first column as date\n",
    "gb = gb.rename(columns={'Unnamed: 0':'date'})\n",
    "\n",
    "# monthly resample\n",
    "gb.date = pd.to_datetime(gb.date)\n",
    "gb = gb.resample('M', on='date').mean().reset_index()\n",
    "\n",
    "# rename columns of interest (stock prices and dual moving averages)\n",
    "gb = gb.rename(columns={'AAPL': 'price'})\n"
   ]
  },
  {
   "cell_type": "markdown",
   "metadata": {},
   "source": [
    "## Altair Graphs"
   ]
  },
  {
   "cell_type": "code",
   "execution_count": 24,
   "metadata": {},
   "outputs": [
    {
     "data": {
      "text/html": [
       "\n",
       "<div id=\"altair-viz-518fbf87024940de9055cab82f558c3c\"></div>\n",
       "<script type=\"text/javascript\">\n",
       "  (function(spec, embedOpt){\n",
       "    let outputDiv = document.currentScript.previousElementSibling;\n",
       "    if (outputDiv.id !== \"altair-viz-518fbf87024940de9055cab82f558c3c\") {\n",
       "      outputDiv = document.getElementById(\"altair-viz-518fbf87024940de9055cab82f558c3c\");\n",
       "    }\n",
       "    const paths = {\n",
       "      \"vega\": \"https://cdn.jsdelivr.net/npm//vega@5?noext\",\n",
       "      \"vega-lib\": \"https://cdn.jsdelivr.net/npm//vega-lib?noext\",\n",
       "      \"vega-lite\": \"https://cdn.jsdelivr.net/npm//vega-lite@4.8.1?noext\",\n",
       "      \"vega-embed\": \"https://cdn.jsdelivr.net/npm//vega-embed@6?noext\",\n",
       "    };\n",
       "\n",
       "    function loadScript(lib) {\n",
       "      return new Promise(function(resolve, reject) {\n",
       "        var s = document.createElement('script');\n",
       "        s.src = paths[lib];\n",
       "        s.async = true;\n",
       "        s.onload = () => resolve(paths[lib]);\n",
       "        s.onerror = () => reject(`Error loading script: ${paths[lib]}`);\n",
       "        document.getElementsByTagName(\"head\")[0].appendChild(s);\n",
       "      });\n",
       "    }\n",
       "\n",
       "    function showError(err) {\n",
       "      outputDiv.innerHTML = `<div class=\"error\" style=\"color:red;\">${err}</div>`;\n",
       "      throw err;\n",
       "    }\n",
       "\n",
       "    function displayChart(vegaEmbed) {\n",
       "      vegaEmbed(outputDiv, spec, embedOpt)\n",
       "        .catch(err => showError(`Javascript Error: ${err.message}<br>This usually means there's a typo in your chart specification. See the javascript console for the full traceback.`));\n",
       "    }\n",
       "\n",
       "    if(typeof define === \"function\" && define.amd) {\n",
       "      requirejs.config({paths});\n",
       "      require([\"vega-embed\"], displayChart, err => showError(`Error loading script: ${err.message}`));\n",
       "    } else if (typeof vegaEmbed === \"function\") {\n",
       "      displayChart(vegaEmbed);\n",
       "    } else {\n",
       "      loadScript(\"vega\")\n",
       "        .then(() => loadScript(\"vega-lite\"))\n",
       "        .then(() => loadScript(\"vega-embed\"))\n",
       "        .catch(showError)\n",
       "        .then(() => displayChart(vegaEmbed));\n",
       "    }\n",
       "  })({\"config\": {\"view\": {\"continuousHeight\": 300, \"continuousWidth\": 400}}, \"datasets\": {\"data-c913a6512f4f5a9a57cc3a9d76b44d65\": [{\"series\": \"_fast_ma\", \"portfolio_value\": 10000.0, \"price\": null, \"date\": \"2015-05-31T00:00:00\"}, {\"series\": \"_fast_ma\", \"portfolio_value\": 10000.0, \"price\": 127.01437499999999, \"date\": \"2015-06-30T00:00:00\"}, {\"series\": \"_fast_ma\", \"portfolio_value\": 9938.030681818182, \"price\": 125.90730113636363, \"date\": \"2015-07-31T00:00:00\"}, {\"series\": \"_fast_ma\", \"portfolio_value\": 9702.420500000004, \"price\": 115.32156547619049, \"date\": \"2015-08-31T00:00:00\"}, {\"series\": \"_fast_ma\", \"portfolio_value\": 9662.80335714286, \"price\": 112.5639880952381, \"date\": \"2015-09-30T00:00:00\"}, {\"series\": \"_fast_ma\", \"portfolio_value\": 9472.762477272729, \"price\": 112.32795454545457, \"date\": \"2015-10-31T00:00:00\"}, {\"series\": \"_fast_ma\", \"portfolio_value\": 9712.32, \"price\": 118.08744374999996, \"date\": \"2015-11-30T00:00:00\"}, {\"series\": \"_fast_ma\", \"portfolio_value\": 9691.631568181818, \"price\": 113.49386363636363, \"date\": \"2015-12-31T00:00:00\"}, {\"series\": \"_fast_ma\", \"portfolio_value\": 9713.083499999999, \"price\": 100.33565789473684, \"date\": \"2016-01-31T00:00:00\"}, {\"series\": \"_fast_ma\", \"portfolio_value\": 9711.488949999999, \"price\": 95.71905, \"date\": \"2016-02-29T00:00:00\"}, {\"series\": \"_fast_ma\", \"portfolio_value\": 10443.865272727273, \"price\": 102.47704545454545, \"date\": \"2016-03-31T00:00:00\"}, {\"series\": \"_fast_ma\", \"portfolio_value\": 10723.996428571427, \"price\": 108.23434523809523, \"date\": \"2016-04-30T00:00:00\"}, {\"series\": \"_fast_ma\", \"portfolio_value\": 9794.146999999997, \"price\": 94.76472619047618, \"date\": \"2016-05-31T00:00:00\"}, {\"series\": \"_fast_ma\", \"portfolio_value\": 9656.149909090902, \"price\": 97.43914772727271, \"date\": \"2016-06-30T00:00:00\"}, {\"series\": \"_fast_ma\", \"portfolio_value\": 9570.47325, \"price\": 97.26868749999998, \"date\": \"2016-07-31T00:00:00\"}, {\"series\": \"_fast_ma\", \"portfolio_value\": 10326.649239130435, \"price\": 106.80514130434783, \"date\": \"2016-08-31T00:00:00\"}, {\"series\": \"_fast_ma\", \"portfolio_value\": 10052.03769047619, \"price\": 109.80333333333333, \"date\": \"2016-09-30T00:00:00\"}, {\"series\": \"_fast_ma\", \"portfolio_value\": 10171.623785714286, \"price\": 115.38994047619049, \"date\": \"2016-10-31T00:00:00\"}, {\"series\": \"_fast_ma\", \"portfolio_value\": 9595.136238095236, \"price\": 110.66567261904763, \"date\": \"2016-11-30T00:00:00\"}, {\"series\": \"_fast_ma\", \"portfolio_value\": 9761.617523809513, \"price\": 113.46232142857144, \"date\": \"2016-12-31T00:00:00\"}, {\"series\": \"_fast_ma\", \"portfolio_value\": 10199.552999999989, \"price\": 118.69974999999997, \"date\": \"2017-01-31T00:00:00\"}, {\"series\": \"_fast_ma\", \"portfolio_value\": 11613.947736842096, \"price\": 130.79475657894739, \"date\": \"2017-02-28T00:00:00\"}, {\"series\": \"_fast_ma\", \"portfolio_value\": 12304.335608695645, \"price\": 139.6425, \"date\": \"2017-03-31T00:00:00\"}, {\"series\": \"_fast_ma\", \"portfolio_value\": 12508.730999999994, \"price\": 142.80186184210527, \"date\": \"2017-04-30T00:00:00\"}, {\"series\": \"_fast_ma\", \"portfolio_value\": 13360.171272727266, \"price\": 150.56717045454545, \"date\": \"2017-05-31T00:00:00\"}, {\"series\": \"_fast_ma\", \"portfolio_value\": 12883.499727272714, \"price\": 149.23022727272726, \"date\": \"2017-06-30T00:00:00\"}, {\"series\": \"_fast_ma\", \"portfolio_value\": 12554.436549999995, \"price\": 147.254625, \"date\": \"2017-07-31T00:00:00\"}, {\"series\": \"_fast_ma\", \"portfolio_value\": 13341.413282608686, \"price\": 157.0356101473121, \"date\": \"2017-08-31T00:00:00\"}, {\"series\": \"_fast_ma\", \"portfolio_value\": 13316.917099999991, \"price\": 159.20387499999998, \"date\": \"2017-09-30T00:00:00\"}, {\"series\": \"_fast_ma\", \"portfolio_value\": 13046.284999999987, \"price\": 156.23763068181816, \"date\": \"2017-10-31T00:00:00\"}, {\"series\": \"_fast_ma\", \"portfolio_value\": 14298.796523809513, \"price\": 170.78193452380953, \"date\": \"2017-11-30T00:00:00\"}, {\"series\": \"_fast_ma\", \"portfolio_value\": 14154.202749999993, \"price\": 172.103975, \"date\": \"2017-12-31T00:00:00\"}, {\"series\": \"_fast_ma\", \"portfolio_value\": 14134.475666666669, \"price\": 174.34625, \"date\": \"2018-01-31T00:00:00\"}, {\"series\": \"_fast_ma\", \"portfolio_value\": 13442.433973684205, \"price\": 166.31315789473686, \"date\": \"2018-02-28T00:00:00\"}, {\"series\": \"_fast_ma\", \"portfolio_value\": 13321.976863636357, \"price\": 176.9626136363636, \"date\": \"2018-03-31T00:00:00\"}, {\"series\": \"_AAPL\", \"portfolio_value\": 10000.0, \"price\": null, \"date\": \"2015-05-31T00:00:00\"}, {\"series\": \"_AAPL\", \"portfolio_value\": 10000.0, \"price\": 125.56833333333333, \"date\": \"2015-06-30T00:00:00\"}, {\"series\": \"_AAPL\", \"portfolio_value\": 9938.030681818182, \"price\": 125.33545454545452, \"date\": \"2015-07-31T00:00:00\"}, {\"series\": \"_AAPL\", \"portfolio_value\": 9702.420500000004, \"price\": 113.39476190476192, \"date\": \"2015-08-31T00:00:00\"}, {\"series\": \"_AAPL\", \"portfolio_value\": 9662.80335714286, \"price\": 112.78095238095239, \"date\": \"2015-09-30T00:00:00\"}, {\"series\": \"_AAPL\", \"portfolio_value\": 9472.762477272729, \"price\": 113.36, \"date\": \"2015-10-31T00:00:00\"}, {\"series\": \"_AAPL\", \"portfolio_value\": 9712.32, \"price\": 118.16225, \"date\": \"2015-11-30T00:00:00\"}, {\"series\": \"_AAPL\", \"portfolio_value\": 9691.631568181818, \"price\": 111.72681818181817, \"date\": \"2015-12-31T00:00:00\"}, {\"series\": \"_AAPL\", \"portfolio_value\": 9713.083499999999, \"price\": 98.42894736842105, \"date\": \"2016-01-31T00:00:00\"}, {\"series\": \"_AAPL\", \"portfolio_value\": 9711.488949999999, \"price\": 95.7465, \"date\": \"2016-02-29T00:00:00\"}, {\"series\": \"_AAPL\", \"portfolio_value\": 10443.865272727273, \"price\": 104.26727272727271, \"date\": \"2016-03-31T00:00:00\"}, {\"series\": \"_AAPL\", \"portfolio_value\": 10723.996428571427, \"price\": 106.7390476190476, \"date\": \"2016-04-30T00:00:00\"}, {\"series\": \"_AAPL\", \"portfolio_value\": 9794.146999999997, \"price\": 94.97476190476189, \"date\": \"2016-05-31T00:00:00\"}, {\"series\": \"_AAPL\", \"portfolio_value\": 9656.149909090902, \"price\": 96.62227272727273, \"date\": \"2016-06-30T00:00:00\"}, {\"series\": \"_AAPL\", \"portfolio_value\": 9570.47325, \"price\": 98.5565, \"date\": \"2016-07-31T00:00:00\"}, {\"series\": \"_AAPL\", \"portfolio_value\": 10326.649239130435, \"price\": 107.66521739130435, \"date\": \"2016-08-31T00:00:00\"}, {\"series\": \"_AAPL\", \"portfolio_value\": 10052.03769047619, \"price\": 110.85714285714286, \"date\": \"2016-09-30T00:00:00\"}, {\"series\": \"_AAPL\", \"portfolio_value\": 10171.623785714286, \"price\": 115.70714285714283, \"date\": \"2016-10-31T00:00:00\"}, {\"series\": \"_AAPL\", \"portfolio_value\": 9595.136238095236, \"price\": 110.1542857142857, \"date\": \"2016-11-30T00:00:00\"}, {\"series\": \"_AAPL\", \"portfolio_value\": 9761.617523809513, \"price\": 114.33571428571432, \"date\": \"2016-12-31T00:00:00\"}, {\"series\": \"_AAPL\", \"portfolio_value\": 10199.552999999989, \"price\": 119.57000000000001, \"date\": \"2017-01-31T00:00:00\"}, {\"series\": \"_AAPL\", \"portfolio_value\": 11613.947736842096, \"price\": 133.71394736842103, \"date\": \"2017-02-28T00:00:00\"}, {\"series\": \"_AAPL\", \"portfolio_value\": 12304.335608695645, \"price\": 140.6178260869565, \"date\": \"2017-03-31T00:00:00\"}, {\"series\": \"_AAPL\", \"portfolio_value\": 12508.730999999994, \"price\": 142.88584210526315, \"date\": \"2017-04-30T00:00:00\"}, {\"series\": \"_AAPL\", \"portfolio_value\": 13360.171272727266, \"price\": 152.22227272727275, \"date\": \"2017-05-31T00:00:00\"}, {\"series\": \"_AAPL\", \"portfolio_value\": 12883.499727272714, \"price\": 147.83045454545453, \"date\": \"2017-06-30T00:00:00\"}, {\"series\": \"_AAPL\", \"portfolio_value\": 12554.436549999995, \"price\": 148.3055, \"date\": \"2017-07-31T00:00:00\"}, {\"series\": \"_AAPL\", \"portfolio_value\": 13341.413282608686, \"price\": 158.91434782608695, \"date\": \"2017-08-31T00:00:00\"}, {\"series\": \"_AAPL\", \"portfolio_value\": 13316.917099999991, \"price\": 157.6065, \"date\": \"2017-09-30T00:00:00\"}, {\"series\": \"_AAPL\", \"portfolio_value\": 13046.284999999987, \"price\": 157.81163636363635, \"date\": \"2017-10-31T00:00:00\"}, {\"series\": \"_AAPL\", \"portfolio_value\": 14298.796523809513, \"price\": 172.33809523809524, \"date\": \"2017-11-30T00:00:00\"}, {\"series\": \"_AAPL\", \"portfolio_value\": 14154.202749999993, \"price\": 171.89310000000003, \"date\": \"2017-12-31T00:00:00\"}, {\"series\": \"_AAPL\", \"portfolio_value\": 14134.475666666669, \"price\": 174.00523809523807, \"date\": \"2018-01-31T00:00:00\"}, {\"series\": \"_AAPL\", \"portfolio_value\": 13442.433973684205, \"price\": 167.67868421052628, \"date\": \"2018-02-28T00:00:00\"}, {\"series\": \"_AAPL\", \"portfolio_value\": 13321.976863636357, \"price\": 177.76636363636365, \"date\": \"2018-03-31T00:00:00\"}, {\"series\": \"_slow_ma\", \"portfolio_value\": 10000.0, \"price\": null, \"date\": \"2015-05-31T00:00:00\"}, {\"series\": \"_slow_ma\", \"portfolio_value\": 10000.0, \"price\": 128.7915104166667, \"date\": \"2015-06-30T00:00:00\"}, {\"series\": \"_slow_ma\", \"portfolio_value\": 9938.030681818182, \"price\": 127.0988991477273, \"date\": \"2015-07-31T00:00:00\"}, {\"series\": \"_slow_ma\", \"portfolio_value\": 9702.420500000004, \"price\": 121.47091666666665, \"date\": \"2015-08-31T00:00:00\"}, {\"series\": \"_slow_ma\", \"portfolio_value\": 9662.80335714286, \"price\": 113.5913318452381, \"date\": \"2015-09-30T00:00:00\"}, {\"series\": \"_slow_ma\", \"portfolio_value\": 9472.762477272729, \"price\": 112.36190340909089, \"date\": \"2015-10-31T00:00:00\"}, {\"series\": \"_slow_ma\", \"portfolio_value\": 9712.32, \"price\": 114.9968515625, \"date\": \"2015-11-30T00:00:00\"}, {\"series\": \"_slow_ma\", \"portfolio_value\": 9691.631568181818, \"price\": 116.31825284090911, \"date\": \"2015-12-31T00:00:00\"}, {\"series\": \"_slow_ma\", \"portfolio_value\": 9713.083499999999, \"price\": 107.92567434210528, \"date\": \"2016-01-31T00:00:00\"}, {\"series\": \"_slow_ma\", \"portfolio_value\": 9711.488949999999, \"price\": 98.12452499999996, \"date\": \"2016-02-29T00:00:00\"}, {\"series\": \"_slow_ma\", \"portfolio_value\": 10443.865272727273, \"price\": 98.3906803977273, \"date\": \"2016-03-31T00:00:00\"}, {\"series\": \"_slow_ma\", \"portfolio_value\": 10723.996428571427, \"price\": 105.64650297619043, \"date\": \"2016-04-30T00:00:00\"}, {\"series\": \"_slow_ma\", \"portfolio_value\": 9794.146999999997, \"price\": 101.67515773809522, \"date\": \"2016-05-31T00:00:00\"}, {\"series\": \"_slow_ma\", \"portfolio_value\": 9656.149909090902, \"price\": 96.40913920454545, \"date\": \"2016-06-30T00:00:00\"}, {\"series\": \"_slow_ma\", \"portfolio_value\": 9570.47325, \"price\": 96.868234375, \"date\": \"2016-07-31T00:00:00\"}, {\"series\": \"_slow_ma\", \"portfolio_value\": 10326.649239130435, \"price\": 101.44208423913041, \"date\": \"2016-08-31T00:00:00\"}, {\"series\": \"_slow_ma\", \"portfolio_value\": 10052.03769047619, \"price\": 107.97741220238098, \"date\": \"2016-09-30T00:00:00\"}, {\"series\": \"_slow_ma\", \"portfolio_value\": 10171.623785714286, \"price\": 112.41766369047619, \"date\": \"2016-10-31T00:00:00\"}, {\"series\": \"_slow_ma\", \"portfolio_value\": 9595.136238095236, \"price\": 113.27860416666665, \"date\": \"2016-11-30T00:00:00\"}, {\"series\": \"_slow_ma\", \"portfolio_value\": 9761.617523809513, \"price\": 111.47319791666665, \"date\": \"2016-12-31T00:00:00\"}, {\"series\": \"_slow_ma\", \"portfolio_value\": 10199.552999999989, \"price\": 115.75768750000002, \"date\": \"2017-01-31T00:00:00\"}, {\"series\": \"_slow_ma\", \"portfolio_value\": 11613.947736842096, \"price\": 123.00907565789471, \"date\": \"2017-02-28T00:00:00\"}, {\"series\": \"_slow_ma\", \"portfolio_value\": 12304.335608695645, \"price\": 134.80432472826087, \"date\": \"2017-03-31T00:00:00\"}, {\"series\": \"_slow_ma\", \"portfolio_value\": 12508.730999999994, \"price\": 141.2240263157895, \"date\": \"2017-04-30T00:00:00\"}, {\"series\": \"_slow_ma\", \"portfolio_value\": 13360.171272727266, \"price\": 145.49886221590907, \"date\": \"2017-05-31T00:00:00\"}, {\"series\": \"_slow_ma\", \"portfolio_value\": 12883.499727272714, \"price\": 150.91602414772726, \"date\": \"2017-06-30T00:00:00\"}, {\"series\": \"_slow_ma\", \"portfolio_value\": 12554.436549999995, \"price\": 147.43846875000003, \"date\": \"2017-07-31T00:00:00\"}, {\"series\": \"_slow_ma\", \"portfolio_value\": 13341.413282608686, \"price\": 151.5150054347826, \"date\": \"2017-08-31T00:00:00\"}, {\"series\": \"_slow_ma\", \"portfolio_value\": 13316.917099999991, \"price\": 158.81987854235223, \"date\": \"2017-09-30T00:00:00\"}, {\"series\": \"_slow_ma\", \"portfolio_value\": 13046.284999999987, \"price\": 157.17932528409094, \"date\": \"2017-10-31T00:00:00\"}, {\"series\": \"_slow_ma\", \"portfolio_value\": 14298.796523809513, \"price\": 162.73428125000004, \"date\": \"2017-11-30T00:00:00\"}, {\"series\": \"_slow_ma\", \"portfolio_value\": 14154.202749999993, \"price\": 171.1788625, \"date\": \"2017-12-31T00:00:00\"}, {\"series\": \"_slow_ma\", \"portfolio_value\": 14134.475666666669, \"price\": 173.01867857142855, \"date\": \"2018-01-31T00:00:00\"}, {\"series\": \"_slow_ma\", \"portfolio_value\": 13442.433973684205, \"price\": 170.79409539473684, \"date\": \"2018-02-28T00:00:00\"}, {\"series\": \"_slow_ma\", \"portfolio_value\": 13321.976863636357, \"price\": 170.3097017045454, \"date\": \"2018-03-31T00:00:00\"}], \"data-1b97876ea4ee6460be21e33c9cf62717\": [{\"excess_return\": 0.0, \"ending_value\": 50163.875, \"benchmark_period_return\": 0.006008781594561585, \"returns\": 0.00018696127804910612, \"short_exposure\": 0.0, \"max_leverage\": 0.6079104399097734, \"sharpe\": 1.0199630079868818, \"starting_exposure\": 46906.875, \"trading_days\": 6.5, \"beta\": 0.22044895151457206, \"pnl\": 15.551270833333527, \"treasury_period_return\": 0.0, \"price\": 130.14208333333332, \"long_exposure\": 50163.875, \"shorts_count\": 0.0, \"longs_count\": 0.9166666666666666, \"net_leverage\": 0.4990717803149853, \"starting_value\": 46906.875, \"portfolio_value\": 100365.66527083334, \"starting_cash\": 53443.238999999994, \"alpha\": 0.10996421372171615, \"algo_volatility\": 0.06262487317114707, \"benchmark_volatility\": 0.1207038586197548, \"long_value\": 50163.875, \"ending_cash\": 50201.79027083333, \"ending_exposure\": 50163.875, \"algorithm_period_return\": 0.00365665270833331, \"capital_used\": -3241.448729166667, \"max_drawdown\": -0.00695732595809961, \"date\": \"2015-05-31T00:00:00\", \"sortino\": 34.74892801927527, \"short_value\": 0.0, \"gross_leverage\": 0.4990717803149853}, {\"excess_return\": 0.0, \"ending_value\": -76713.47727272728, \"benchmark_period_return\": -0.04500047855090266, \"returns\": 0.0012230169198525034, \"short_exposure\": -78490.88636363637, \"max_leverage\": 1.1032818245598246, \"sharpe\": 0.5812283478657988, \"starting_exposure\": -66385.22727272728, \"trading_days\": 23.5, \"beta\": 0.17141436682936367, \"pnl\": 120.80513636363716, \"treasury_period_return\": 0.0, \"price\": 127.80636363636367, \"long_exposure\": 1777.409090909091, \"shorts_count\": 0.8636363636363636, \"longs_count\": 0.09090909090909091, \"net_leverage\": -0.7589541374066041, \"starting_value\": -66385.22727272728, \"portfolio_value\": 100641.46762499996, \"starting_cash\": 166905.88976136365, \"alpha\": 0.1603735389618139, \"algo_volatility\": 0.10544087324409081, \"benchmark_volatility\": 0.1501834980518029, \"long_value\": 1777.409090909091, \"ending_cash\": 177354.94489772728, \"ending_exposure\": -76713.47727272728, \"algorithm_period_return\": 0.006414676249999771, \"capital_used\": 10449.055136363635, \"max_drawdown\": -0.0201958637756965, \"date\": \"2015-06-30T00:00:00\", \"sortino\": 0.8535044170175787, \"short_value\": -78490.88636363637, \"gross_leverage\": 0.7944256856810689}, {\"excess_return\": 0.0, \"ending_value\": -69313.40909090909, \"benchmark_period_return\": -0.045541352362593775, \"returns\": -0.0006759991291049115, \"short_exposure\": -77651.95454545454, \"max_leverage\": 2.004048497528428, \"sharpe\": 0.8867625760184977, \"starting_exposure\": -80621.93181818182, \"trading_days\": 45.5, \"beta\": -0.4074907291577883, \"pnl\": -80.48040909090726, \"treasury_period_return\": 0.0, \"price\": 125.33545454545452, \"long_exposure\": 8338.545454545454, \"shorts_count\": 0.7272727272727273, \"longs_count\": 0.22727272727272727, \"net_leverage\": -0.671353728359534, \"starting_value\": -80621.93181818182, \"portfolio_value\": 102400.33000000009, \"starting_cash\": 183102.7422272728, \"alpha\": 0.059717981326262805, \"algo_volatility\": 0.17907041082646427, \"benchmark_volatility\": 0.17781586246619668, \"long_value\": 8338.545454545454, \"ending_cash\": 171713.7390909092, \"ending_exposure\": -69313.40909090909, \"algorithm_period_return\": 0.024003300000001126, \"capital_used\": -11389.003136363639, \"max_drawdown\": -0.06547218970952452, \"date\": \"2015-07-31T00:00:00\", \"sortino\": 1.5023743376241834, \"short_value\": -77651.95454545454, \"gross_leverage\": 0.8357340892176995}, {\"excess_return\": 0.0, \"ending_value\": 179912.66666666666, \"benchmark_period_return\": -0.08584789839839574, \"returns\": -0.00105612889322469, \"short_exposure\": 0.0, \"max_leverage\": 2.347743949313881, \"sharpe\": -0.5444100062880921, \"starting_exposure\": 168840.0, \"trading_days\": 67.0, \"beta\": 0.22108814003489677, \"pnl\": -272.5792619047653, \"treasury_period_return\": 0.0, \"price\": 113.39476190476192, \"long_exposure\": 179912.66666666666, \"shorts_count\": 0.0, \"longs_count\": 1.0, \"net_leverage\": 1.9542737166634279, \"starting_value\": 168840.0, \"portfolio_value\": 94019.00884523815, \"starting_cash\": -74548.41189285707, \"alpha\": 0.0023527049806493015, \"algo_volatility\": 0.2984688299508732, \"benchmark_volatility\": 0.1931750986211146, \"long_value\": 179912.66666666666, \"ending_cash\": -85893.6578214285, \"ending_exposure\": 179912.66666666666, \"algorithm_period_return\": -0.059809911547618354, \"capital_used\": -11345.24592857143, \"max_drawdown\": -0.18674314581794302, \"date\": \"2015-08-31T00:00:00\", \"sortino\": -0.6500636901563566, \"short_value\": 0.0, \"gross_leverage\": 1.9542737166634279}, {\"excess_return\": 0.0, \"ending_value\": 417692.61904761905, \"benchmark_period_return\": -0.1553288259455769, \"returns\": -0.003918917324513158, \"short_exposure\": 0.0, \"max_leverage\": 4.4306271952463225, \"sharpe\": 0.13575797801151218, \"starting_exposure\": 407045.5238095238, \"trading_days\": 88.0, \"beta\": 1.6744378478348327, \"pnl\": -636.7390476190234, \"treasury_period_return\": 0.0, \"price\": 112.78095238095239, \"long_exposure\": 417692.61904761905, \"shorts_count\": 0.0, \"longs_count\": 1.0, \"net_leverage\": 4.369477211107451, \"starting_value\": 407045.5238095238, \"portfolio_value\": 96147.3334404764, \"starting_cash\": -310261.45132142835, \"alpha\": 1.4239946571020587, \"algo_volatility\": 0.6748284694937684, \"benchmark_volatility\": 0.2362687318013874, \"long_value\": 417692.61904761905, \"ending_cash\": -321545.28560714266, \"ending_exposure\": 417692.61904761905, \"algorithm_period_return\": -0.038526665595236056, \"capital_used\": -11283.83428571426, \"max_drawdown\": -0.32394874768215526, \"date\": \"2015-09-30T00:00:00\", \"sortino\": 0.22533558658938008, \"short_value\": 0.0, \"gross_leverage\": 4.369477211107451}, {\"excess_return\": 0.0, \"ending_value\": 600480.8181818182, \"benchmark_period_return\": -0.1353041469218034, \"returns\": 0.02667877614553021, \"short_exposure\": 0.0, \"max_leverage\": 6.722516307787604, \"sharpe\": 0.28554208354424876, \"starting_exposure\": 590836.0454545454, \"trading_days\": 109.5, \"beta\": 1.7104348577232038, \"pnl\": 2334.277454545483, \"treasury_period_return\": 0.0, \"price\": 113.36, \"long_exposure\": 600480.8181818182, \"shorts_count\": 0.0, \"longs_count\": 1.0, \"net_leverage\": 6.110094492112526, \"starting_value\": 590836.0454545454, \"portfolio_value\": 99584.39861363721, \"starting_cash\": -493585.9242954539, \"alpha\": 1.3434869227182302, \"algo_volatility\": 0.8107232183421207, \"benchmark_volatility\": 0.2385276698344856, \"long_value\": 600480.8181818182, \"ending_cash\": -500896.41956818104, \"ending_exposure\": 600480.8181818182, \"algorithm_period_return\": -0.004156013863628006, \"capital_used\": -7310.495272727249, \"max_drawdown\": -0.3239487476821552, \"date\": \"2015-10-31T00:00:00\", \"sortino\": 0.46117338309743444, \"short_value\": 0.0, \"gross_leverage\": 6.110094492112526}, {\"excess_return\": 0.0, \"ending_value\": 752429.05, \"benchmark_period_return\": -0.06664911980020885, \"returns\": 0.000855285668607247, \"short_exposure\": 0.0, \"max_leverage\": 8.06433681863574, \"sharpe\": 0.8742493826764642, \"starting_exposure\": 755161.05, \"trading_days\": 130.5, \"beta\": 2.0430999890505, \"pnl\": -533.5831124999673, \"treasury_period_return\": 0.0, \"price\": 118.16225, \"long_exposure\": 752429.05, \"shorts_count\": 0.0, \"longs_count\": 1.0, \"net_leverage\": 6.288294917812477, \"starting_value\": 755161.05, \"portfolio_value\": 122514.87627500153, \"starting_cash\": -632112.5906124986, \"alpha\": 2.1369022509164806, \"algo_volatility\": 1.013674405205662, \"benchmark_volatility\": 0.23407518306832453, \"long_value\": 752429.05, \"ending_cash\": -629914.1737249985, \"ending_exposure\": 752429.05, \"algorithm_period_return\": 0.22514876275001483, \"capital_used\": 2198.4168875000323, \"max_drawdown\": -0.3933292254424211, \"date\": \"2015-11-30T00:00:00\", \"sortino\": 1.4008320903766502, \"short_value\": 0.0, \"gross_leverage\": 6.288294917812477}, {\"excess_return\": 0.0, \"ending_value\": 644611.7272727273, \"benchmark_period_return\": -0.013595297291399593, \"returns\": -0.0339752090512637, \"short_exposure\": 0.0, \"max_leverage\": 10.144471639679175, \"sharpe\": 0.3132009094991649, \"starting_exposure\": 643205.7272727273, \"trading_days\": 151.5, \"beta\": 2.2477579337859903, \"pnl\": -3369.0954318181666, \"treasury_period_return\": 0.0, \"price\": 111.72681818181817, \"long_exposure\": 644611.7272727273, \"shorts_count\": 0.0, \"longs_count\": 1.0, \"net_leverage\": 8.174177739448668, \"starting_value\": 643205.7272727273, \"portfolio_value\": 86620.55681818383, \"starting_cash\": -553216.0750227254, \"alpha\": 0.5230507810830436, \"algo_volatility\": 1.1261143182749966, \"benchmark_volatility\": 0.23615865464359836, \"long_value\": 644611.7272727273, \"ending_cash\": -557991.1704545437, \"ending_exposure\": 644611.7272727273, \"algorithm_period_return\": -0.13379443181816192, \"capital_used\": -4775.095431818167, \"max_drawdown\": -0.5347925381186368, \"date\": \"2015-12-31T00:00:00\", \"sortino\": 0.49959071597849347, \"short_value\": 0.0, \"gross_leverage\": 8.174177739448668}, {\"excess_return\": 0.0, \"ending_value\": 757051.052631579, \"benchmark_period_return\": -0.08478809098254037, \"returns\": -0.668033767974628, \"short_exposure\": 0.0, \"max_leverage\": 223.24442813563283, \"sharpe\": -1.2476050382490915, \"starting_exposure\": 750109.8947368421, \"trading_days\": 172.0, \"beta\": 4.792020434244706, \"pnl\": -2906.758289473652, \"treasury_period_return\": 0.0, \"price\": 98.42894736842105, \"long_exposure\": 757051.052631579, \"shorts_count\": 0.0, \"longs_count\": 1.0, \"net_leverage\": -1.2455829914773182, \"starting_value\": 750109.8947368421, \"portfolio_value\": 1018.0397631603195, \"starting_cash\": -746185.0966842081, \"alpha\": -0.8333356648413613, \"algo_volatility\": 5.857293305961312, \"benchmark_volatility\": 0.2395066626633484, \"long_value\": 757051.052631579, \"ending_cash\": -756033.0128684186, \"ending_exposure\": 757051.052631579, \"algorithm_period_return\": -0.9898196023683967, \"capital_used\": -9847.9161842105, \"max_drawdown\": -1.0671092322178979, \"date\": \"2016-01-31T00:00:00\", \"sortino\": -1.577907193433034, \"short_value\": 0.0, \"gross_leverage\": -1.2455829914773182}, {\"excess_return\": 0.0, \"ending_value\": 924212.0, \"benchmark_period_return\": -0.11258232744900938, \"returns\": -0.13041790596552394, \"short_exposure\": 0.0, \"max_leverage\": 293.692680511493, \"sharpe\": -1.6028157187781136, \"starting_exposure\": 914822.5, \"trading_days\": 191.5, \"beta\": 2.814681027907601, \"pnl\": -190.03732499998333, \"treasury_period_return\": 0.0, \"price\": 95.7465, \"long_exposure\": 924212.0, \"shorts_count\": 0.0, \"longs_count\": 1.0, \"net_leverage\": -40.349519645639646, \"starting_value\": 914822.5, \"portfolio_value\": -19926.72827499701, \"starting_cash\": -934559.1909499969, \"alpha\": -0.9999987393571608, \"algo_volatility\": 10.175492679980687, \"benchmark_volatility\": 0.24853915255132164, \"long_value\": 924212.0, \"ending_cash\": -944138.728274997, \"ending_exposure\": 924212.0, \"algorithm_period_return\": -1.1992672827499704, \"capital_used\": -9579.537325000041, \"max_drawdown\": -1.2623846725243946, \"date\": \"2016-02-29T00:00:00\", \"sortino\": -1.9500929997471128, \"short_value\": 0.0, \"gross_leverage\": -40.349519645639646}, {\"excess_return\": 0.0, \"ending_value\": 1072349.0454545454, \"benchmark_period_return\": -0.05649905514019, \"returns\": -0.09949857437373844, \"short_exposure\": 0.0, \"max_leverage\": 296.27251466159, \"sharpe\": -1.8280107153763645, \"starting_exposure\": 1072367.5909090908, \"trading_days\": 212.5, \"beta\": -0.23409871180191796, \"pnl\": 5801.413909090916, \"treasury_period_return\": 0.0, \"price\": 104.26727272727271, \"long_exposure\": 1072349.0454545454, \"shorts_count\": 0.0, \"longs_count\": 1.0, \"net_leverage\": 18.69292097240769, \"starting_value\": 1072367.5909090908, \"portfolio_value\": 69681.3200227302, \"starting_cash\": -1008487.6847954516, \"alpha\": -0.9999999997684396, \"algo_volatility\": 11.991917247971768, \"benchmark_volatility\": 0.2510814828065874, \"long_value\": 1072349.0454545454, \"ending_cash\": -1002667.7254318153, \"ending_exposure\": 1072349.0454545454, \"algorithm_period_return\": -0.3031867997726971, \"capital_used\": 5819.959363636296, \"max_drawdown\": -1.2623846725243946, \"date\": \"2016-03-31T00:00:00\", \"sortino\": -2.116901581227507, \"short_value\": 0.0, \"gross_leverage\": 18.69292097240769}, {\"excess_return\": 0.0, \"ending_value\": 889321.9523809524, \"benchmark_period_return\": -0.017811526833877624, \"returns\": -0.11965192197509691, \"short_exposure\": 0.0, \"max_leverage\": 316.4593329635864, \"sharpe\": -1.687255278991108, \"starting_exposure\": 904629.380952381, \"trading_days\": 234.0, \"beta\": 0.13902409791258521, \"pnl\": -5531.722666666644, \"treasury_period_return\": 0.0, \"price\": 106.7390476190476, \"long_exposure\": 889321.9523809524, \"shorts_count\": 0.0, \"longs_count\": 1.0, \"net_leverage\": 46.038084941795475, \"starting_value\": 904629.380952381, \"portfolio_value\": 100912.55307143203, \"starting_cash\": -798185.1052142823, \"alpha\": -0.9999999979471884, \"algo_volatility\": 11.46048870705483, \"benchmark_volatility\": 0.24766409680803803, \"long_value\": 889321.9523809524, \"ending_cash\": -788409.3993095204, \"ending_exposure\": 889321.9523809524, \"algorithm_period_return\": 0.009125530714321222, \"capital_used\": 9775.705904761933, \"max_drawdown\": -1.2623846725243946, \"date\": \"2016-04-30T00:00:00\", \"sortino\": -1.957338096048148, \"short_value\": 0.0, \"gross_leverage\": 46.038084941795475}, {\"excess_return\": 0.0, \"ending_value\": 818097.7619047619, \"benchmark_period_return\": 0.04583637925949057, \"returns\": 1.5076596526461774, \"short_exposure\": 0.0, \"max_leverage\": 3214.221515589301, \"sharpe\": 0.2994118241583413, \"starting_exposure\": 805926.0476190476, \"trading_days\": 255.0, \"beta\": -8.85889907227626, \"pnl\": 2669.389357142882, \"treasury_period_return\": 0.0, \"price\": 94.97476190476189, \"long_exposure\": 818097.7619047619, \"shorts_count\": 0.0, \"longs_count\": 1.0, \"net_leverage\": 37.83293356759058, \"starting_value\": 805926.0476190476, \"portfolio_value\": 12813.84761905158, \"starting_cash\": -795781.589357139, \"alpha\": 123178022289429.5, \"algo_volatility\": 54.3943534961648, \"benchmark_volatility\": 0.2428132667321135, \"long_value\": 818097.7619047619, \"ending_cash\": -805283.9142857103, \"ending_exposure\": 818097.7619047619, \"algorithm_period_return\": -0.8718615238094811, \"capital_used\": -9502.324928571403, \"max_drawdown\": -1.2623846725243946, \"date\": \"2016-05-31T00:00:00\", \"sortino\": 1.8108884155818932, \"short_value\": 0.0, \"gross_leverage\": 37.83293356759058}, {\"excess_return\": 0.0, \"ending_value\": 970508.7272727273, \"benchmark_period_return\": 0.09113278563368278, \"returns\": 0.3220321676529927, \"short_exposure\": 0.0, \"max_leverage\": 3214.221515589301, \"sharpe\": 0.17869671901037712, \"starting_exposure\": 973236.7272727273, \"trading_days\": 276.5, \"beta\": -8.163131476176403, \"pnl\": -2015.976568181782, \"treasury_period_return\": 0.0, \"price\": 96.62227272727273, \"long_exposure\": 970508.7272727273, \"shorts_count\": 0.0, \"longs_count\": 1.0, \"net_leverage\": 53.10803853357533, \"starting_value\": 973236.7272727273, \"portfolio_value\": 24461.89515909555, \"starting_cash\": -946758.85554545, \"alpha\": 566583.2046659702, \"algo_volatility\": 57.62362031417586, \"benchmark_volatility\": 0.23842147101624003, \"long_value\": 970508.7272727273, \"ending_cash\": -946046.8321136318, \"ending_exposure\": 970508.7272727273, \"algorithm_period_return\": -0.7553810484090391, \"capital_used\": 712.0234318181705, \"max_drawdown\": -1.2623846725243946, \"date\": \"2016-06-30T00:00:00\", \"sortino\": 0.388947945229841, \"short_value\": 0.0, \"gross_leverage\": 53.10803853357533}, {\"excess_return\": 0.0, \"ending_value\": 958896.35, \"benchmark_period_return\": 0.11817080038195367, \"returns\": 0.21510138762769088, \"short_exposure\": 0.0, \"max_leverage\": 3214.2215155893005, \"sharpe\": 0.3075299691215868, \"starting_exposure\": 954849.65, \"trading_days\": 297.5, \"beta\": -5.086381194968785, \"pnl\": 4190.222175000026, \"treasury_period_return\": 0.0, \"price\": 98.5565, \"long_exposure\": 958896.35, \"shorts_count\": 0.0, \"longs_count\": 1.0, \"net_leverage\": 35.8826159843947, \"starting_value\": 954849.65, \"portfolio_value\": 41601.76035000511, \"starting_cash\": -917438.1118249949, \"alpha\": 43999196.101774395, \"algo_volatility\": 56.17576634950054, \"benchmark_volatility\": 0.24207216515390476, \"long_value\": 958896.35, \"ending_cash\": -917294.5896499949, \"ending_exposure\": 958896.35, \"algorithm_period_return\": -0.5839823964999402, \"capital_used\": 143.52217500002007, \"max_drawdown\": -1.2623846725243946, \"date\": \"2016-07-31T00:00:00\", \"sortino\": 0.6749593339523562, \"short_value\": 0.0, \"gross_leverage\": 35.8826159843947}, {\"excess_return\": 0.0, \"ending_value\": 882679.8260869565, \"benchmark_period_return\": 0.14931088186044641, \"returns\": 0.010819410278869618, \"short_exposure\": 0.0, \"max_leverage\": 3214.2215155893014, \"sharpe\": 0.33674553312669525, \"starting_exposure\": 892517.3913043478, \"trading_days\": 319.0, \"beta\": -4.590106545599407, \"pnl\": 923.4732608695757, \"treasury_period_return\": 0.0, \"price\": 107.66521739130435, \"long_exposure\": 882679.8260869565, \"shorts_count\": 0.0, \"longs_count\": 1.0, \"net_leverage\": 6.937939206038017, \"starting_value\": 892517.3913043478, \"portfolio_value\": 128549.74728261426, \"starting_cash\": -764891.1172826033, \"alpha\": 88949289.2073005, \"algo_volatility\": 54.2892673989033, \"benchmark_volatility\": 0.23780339049349483, \"long_value\": 882679.8260869565, \"ending_cash\": -754130.0788043422, \"ending_exposure\": 882679.8260869565, \"algorithm_period_return\": 0.28549747282616983, \"capital_used\": 10761.03847826088, \"max_drawdown\": -1.2623846725243946, \"date\": \"2016-08-31T00:00:00\", \"sortino\": 0.7395118384066306, \"short_value\": 0.0, \"gross_leverage\": 6.937939206038017}, {\"excess_return\": 0.0, \"ending_value\": 747705.0, \"benchmark_period_return\": 0.11698571650093628, \"returns\": 0.018714840037782527, \"short_exposure\": 0.0, \"max_leverage\": 3214.221515589301, \"sharpe\": 0.3283849918976493, \"starting_exposure\": 743740.2380952381, \"trading_days\": 341.0, \"beta\": -4.177197053671934, \"pnl\": 2057.5000000000223, \"treasury_period_return\": 0.0, \"price\": 110.85714285714286, \"long_exposure\": 747705.0, \"shorts_count\": 0.0, \"longs_count\": 1.0, \"net_leverage\": 5.159094499028492, \"starting_value\": 743740.2380952381, \"portfolio_value\": 147729.60290476787, \"starting_cash\": -598068.1351904703, \"alpha\": 27582691.45235223, \"algo_volatility\": 52.50260604241542, \"benchmark_volatility\": 0.23686529657579922, \"long_value\": 747705.0, \"ending_cash\": -599975.3970952322, \"ending_exposure\": 747705.0, \"algorithm_period_return\": 0.47729602904771035, \"capital_used\": -1907.261904761877, \"max_drawdown\": -1.2623846725243946, \"date\": \"2016-09-30T00:00:00\", \"sortino\": 0.7210780529442282, \"short_value\": 0.0, \"gross_leverage\": 5.159094499028492}, {\"excess_return\": 0.0, \"ending_value\": 854550.1428571428, \"benchmark_period_return\": 0.10391942199106528, \"returns\": 0.0029028976828379444, \"short_exposure\": 0.0, \"max_leverage\": 3214.221515589301, \"sharpe\": 0.32224637890411867, \"starting_exposure\": 857080.8095238095, \"trading_days\": 362.0, \"beta\": -3.89067620776159, \"pnl\": 369.1146428571748, \"treasury_period_return\": 0.0, \"price\": 115.70714285714283, \"long_exposure\": 854550.1428571428, \"shorts_count\": 0.0, \"longs_count\": 1.0, \"net_leverage\": 4.710331515088145, \"starting_value\": 857080.8095238095, \"portfolio_value\": 182369.91180953037, \"starting_cash\": -675080.0123571365, \"alpha\": 12133786.373121645, \"algo_volatility\": 50.95287334526309, \"benchmark_volatility\": 0.2359210556487846, \"long_value\": 854550.1428571428, \"ending_cash\": -672180.2310476125, \"ending_exposure\": 854550.1428571428, \"algorithm_period_return\": 0.823699118095342, \"capital_used\": 2899.7813095238416, \"max_drawdown\": -1.2623846725243946, \"date\": \"2016-10-31T00:00:00\", \"sortino\": 0.7075408860836475, \"short_value\": 0.0, \"gross_leverage\": 4.710331515088145}, {\"excess_return\": 0.0, \"ending_value\": 881471.6666666666, \"benchmark_period_return\": 0.09041241548648274, \"returns\": -0.0027997947436404387, \"short_exposure\": 0.0, \"max_leverage\": 3214.221515589301, \"sharpe\": 0.31093669574762295, \"starting_exposure\": 871411.9523809524, \"trading_days\": 383.0, \"beta\": -3.6192801276830613, \"pnl\": -961.3219999999719, \"treasury_period_return\": 0.0, \"price\": 110.1542857142857, \"long_exposure\": 881471.6666666666, \"shorts_count\": 0.0, \"longs_count\": 1.0, \"net_leverage\": 6.0830131888219, \"starting_value\": 871411.9523809524, \"portfolio_value\": 145736.8881666739, \"starting_cash\": -724713.7422142787, \"alpha\": 4250597.067937044, \"algo_volatility\": 49.533310137150366, \"benchmark_volatility\": 0.23681695541082823, \"long_value\": 881471.6666666666, \"ending_cash\": -735734.7784999929, \"ending_exposure\": 881471.6666666666, \"algorithm_period_return\": 0.45736888166676914, \"capital_used\": -11021.036285714257, \"max_drawdown\": -1.2623846725243946, \"date\": \"2016-11-30T00:00:00\", \"sortino\": 0.6826505454282333, \"short_value\": 0.0, \"gross_leverage\": 6.0830131888219}, {\"excess_return\": 0.0, \"ending_value\": 1149660.4285714286, \"benchmark_period_return\": 0.10664997091067924, \"returns\": 0.01527700431681874, \"short_exposure\": 0.0, \"max_leverage\": 3214.221515589301, \"sharpe\": 0.30638347509092057, \"starting_exposure\": 1139116.142857143, \"trading_days\": 404.0, \"beta\": -3.387322011775198, \"pnl\": 2431.659404761912, \"treasury_period_return\": 0.0, \"price\": 114.33571428571432, \"long_exposure\": 1149660.4285714286, \"shorts_count\": 0.0, \"longs_count\": 1.0, \"net_leverage\": 6.262805626829427, \"starting_value\": 1139116.142857143, \"portfolio_value\": 185822.03626191232, \"starting_cash\": -955725.7659999924, \"alpha\": 2319515.3340141014, \"algo_volatility\": 48.225880358077475, \"benchmark_volatility\": 0.23593945989396053, \"long_value\": 1149660.4285714286, \"ending_cash\": -963838.3923095161, \"ending_exposure\": 1149660.4285714286, \"algorithm_period_return\": 0.8582203626191626, \"capital_used\": -8112.626309523852, \"max_drawdown\": -1.2623846725243946, \"date\": \"2016-12-31T00:00:00\", \"sortino\": 0.6726066150601796, \"short_value\": 0.0, \"gross_leverage\": 6.262805626829427}, {\"excess_return\": 0.0, \"ending_value\": 1196449.35, \"benchmark_period_return\": 0.16641407340303363, \"returns\": 0.012822465027069463, \"short_exposure\": 0.0, \"max_leverage\": 3214.2215155893005, \"sharpe\": 0.3022983591176638, \"starting_exposure\": 1200827.1, \"trading_days\": 424.5, \"beta\": -3.2492592061917778, \"pnl\": 2809.27150000002, \"treasury_period_return\": 0.0, \"price\": 119.57000000000001, \"long_exposure\": 1196449.35, \"shorts_count\": 0.0, \"longs_count\": 1.0, \"net_leverage\": 5.065681002242949, \"starting_value\": 1200827.1, \"portfolio_value\": 237758.35032500784, \"starting_cash\": -965878.0211749921, \"alpha\": 1483992.5074770064, \"algo_volatility\": 47.04388065756827, \"benchmark_volatility\": 0.23433668384273426, \"long_value\": 1196449.35, \"ending_cash\": -958690.9996749919, \"ending_exposure\": 1196449.35, \"algorithm_period_return\": 1.3775835032501278, \"capital_used\": 7187.021499999944, \"max_drawdown\": -1.2623846725243946, \"date\": \"2017-01-31T00:00:00\", \"sortino\": 0.6636024331792552, \"short_value\": 0.0, \"gross_leverage\": 5.065681002242949}, {\"excess_return\": 0.0, \"ending_value\": 1149486.9736842106, \"benchmark_period_return\": 0.23011738144912006, \"returns\": 0.024917408744122183, \"short_exposure\": 0.0, \"max_leverage\": 3214.2215155893005, \"sharpe\": 0.30145420031929365, \"starting_exposure\": 1152646.605263158, \"trading_days\": 444.0, \"beta\": -3.137828637340651, \"pnl\": 7430.556407894762, \"treasury_period_return\": 0.0, \"price\": 133.71394736842103, \"long_exposure\": 1149486.9736842106, \"shorts_count\": 0.0, \"longs_count\": 1.0, \"net_leverage\": 3.1403480841676656, \"starting_value\": 1152646.605263158, \"portfolio_value\": 368537.06102632405, \"starting_cash\": -791540.1006447288, \"alpha\": 1124422.253508359, \"algo_volatility\": 45.99684218413771, \"benchmark_volatility\": 0.2326699029444853, \"long_value\": 1149486.9736842106, \"ending_cash\": -780949.9126578866, \"ending_exposure\": 1149486.9736842106, \"algorithm_period_return\": 2.685370610263317, \"capital_used\": 10590.18798684213, \"max_drawdown\": -1.2623846725243946, \"date\": \"2017-02-28T00:00:00\", \"sortino\": 0.6617228664991516, \"short_value\": 0.0, \"gross_leverage\": 3.1403480841676656}, {\"excess_return\": 0.0, \"ending_value\": 927151.2173913043, \"benchmark_period_return\": 0.27864388448236305, \"returns\": 0.0048238820072651345, \"short_exposure\": 0.0, \"max_leverage\": 3214.2215155893014, \"sharpe\": 0.29633154427819836, \"starting_exposure\": 939255.2173913043, \"trading_days\": 465.0, \"beta\": -3.0486568879657416, \"pnl\": 1950.6517173913332, \"treasury_period_return\": 0.0, \"price\": 140.6178260869565, \"long_exposure\": 927151.2173913043, \"shorts_count\": 0.0, \"longs_count\": 1.0, \"net_leverage\": 2.19549665256791, \"starting_value\": 939255.2173913043, \"portfolio_value\": 423287.2746847915, \"starting_cash\": -517918.5944239042, \"alpha\": 696746.1088680202, \"algo_volatility\": 44.94510051901132, \"benchmark_volatility\": 0.2304302384629846, \"long_value\": 927151.2173913043, \"ending_cash\": -503863.94270651287, \"ending_exposure\": 927151.2173913043, \"algorithm_period_return\": 3.2328727468480056, \"capital_used\": 14054.651717391333, \"max_drawdown\": -1.2623846725243946, \"date\": \"2017-03-31T00:00:00\", \"sortino\": 0.6504492800871687, \"short_value\": 0.0, \"gross_leverage\": 2.19549665256791}, {\"excess_return\": 0.0, \"ending_value\": 694205.9789473685, \"benchmark_period_return\": 0.30297403278536783, \"returns\": 4.836803374794078e-05, \"short_exposure\": 0.0, \"max_leverage\": 3214.2215155893005, \"sharpe\": 0.29029247204186537, \"starting_exposure\": 702525.4526315789, \"trading_days\": 486.0, \"beta\": -2.9888961013663895, \"pnl\": 2.392550000004833, \"treasury_period_return\": 0.0, \"price\": 142.88584210526315, \"long_exposure\": 694205.9789473685, \"shorts_count\": 0.0, \"longs_count\": 1.0, \"net_leverage\": 1.584484033327018, \"starting_value\": 702525.4526315789, \"portfolio_value\": 438072.62495264085, \"starting_cash\": -264455.22022893815, \"alpha\": 408590.2035280585, \"algo_volatility\": 43.96036033841693, \"benchmark_volatility\": 0.22743931978613574, \"long_value\": 694205.9789473685, \"ending_cash\": -256133.35399472757, \"ending_exposure\": 694205.9789473685, \"algorithm_period_return\": 3.3807262495265027, \"capital_used\": 8321.866234210553, \"max_drawdown\": -1.2623846725243946, \"date\": \"2017-04-30T00:00:00\", \"sortino\": 0.637168177712188, \"short_value\": 0.0, \"gross_leverage\": 1.584484033327018}, {\"excess_return\": 0.0, \"ending_value\": 493570.2727272727, \"benchmark_period_return\": 0.3938919098187555, \"returns\": 0.003919370949806444, \"short_exposure\": 0.0, \"max_leverage\": 3214.221515589301, \"sharpe\": 0.2853771563169173, \"starting_exposure\": 507024.2727272727, \"trading_days\": 506.5, \"beta\": -2.9457951775750657, \"pnl\": 1760.5161590909067, \"treasury_period_return\": 0.0, \"price\": 152.22227272727275, \"long_exposure\": 493570.2727272727, \"shorts_count\": 0.0, \"longs_count\": 1.0, \"net_leverage\": 1.0376119337461722, \"starting_value\": 507024.2727272727, \"portfolio_value\": 477164.327177282, \"starting_cash\": -31620.46170908166, \"alpha\": 279379.17912160297, \"algo_volatility\": 43.060502436537604, \"benchmark_volatility\": 0.22507107554858585, \"long_value\": 493570.2727272727, \"ending_cash\": -16405.945549990774, \"ending_exposure\": 493570.2727272727, \"algorithm_period_return\": 3.771643271772923, \"capital_used\": 15214.516159090901, \"max_drawdown\": -1.2623846725243946, \"date\": \"2017-05-31T00:00:00\", \"sortino\": 0.6263568611659299, \"short_value\": 0.0, \"gross_leverage\": 1.0376119337461722}, {\"excess_return\": 0.0, \"ending_value\": 219287.18181818182, \"benchmark_period_return\": 0.4576003899633452, \"returns\": -0.001166730850787642, \"short_exposure\": 0.0, \"max_leverage\": 3214.221515589301, \"sharpe\": 0.2793237292477104, \"starting_exposure\": 222779.72727272726, \"trading_days\": 528.5, \"beta\": -2.8715640264604034, \"pnl\": -564.3551590909007, \"treasury_period_return\": 0.0, \"price\": 147.83045454545453, \"long_exposure\": 219287.18181818182, \"shorts_count\": 0.0, \"longs_count\": 1.0, \"net_leverage\": 0.46157252381686226, \"starting_value\": 222779.72727272726, \"portfolio_value\": 474059.17031364556, \"starting_cash\": 251843.7982000093, \"alpha\": 176622.5077707516, \"algo_volatility\": 42.153089895213014, \"benchmark_volatility\": 0.22341409093533313, \"long_value\": 219287.18181818182, \"ending_cash\": 254771.98849546385, \"ending_exposure\": 219287.18181818182, \"algorithm_period_return\": 3.7405917031365608, \"capital_used\": 2928.190295454538, \"max_drawdown\": -1.2623846725243946, \"date\": \"2017-06-30T00:00:00\", \"sortino\": 0.6130491954818941, \"short_value\": 0.0, \"gross_leverage\": 0.46157252381686226}, {\"excess_return\": 0.0, \"ending_value\": 424236.3, \"benchmark_period_return\": 0.4768675170775949, \"returns\": 0.00104439183960251, \"short_exposure\": 0.0, \"max_leverage\": 3214.2215155893005, \"sharpe\": 0.27405428460708964, \"starting_exposure\": 408916.6, \"trading_days\": 549.5, \"beta\": -2.8237313769503336, \"pnl\": 481.63472499999625, \"treasury_period_return\": 0.0, \"price\": 148.3055, \"long_exposure\": 424236.3, \"shorts_count\": 0.0, \"longs_count\": 1.0, \"net_leverage\": 0.883274177221964, \"starting_value\": 408916.6, \"portfolio_value\": 478921.2206250093, \"starting_cash\": 69522.98590000936, \"alpha\": 113157.93614481024, \"algo_volatility\": 41.33798829154715, \"benchmark_volatility\": 0.22069541971038692, \"long_value\": 424236.3, \"ending_cash\": 54684.920625009356, \"ending_exposure\": 424236.3, \"algorithm_period_return\": 3.789212206250202, \"capital_used\": -14838.065275000006, \"max_drawdown\": -1.2623846725243946, \"date\": \"2017-07-31T00:00:00\", \"sortino\": 0.6014656016934479, \"short_value\": 0.0, \"gross_leverage\": 0.883274177221964}, {\"excess_return\": 0.0, \"ending_value\": 492874.47826086957, \"benchmark_period_return\": 0.4990584305330429, \"returns\": 0.004467357922956779, \"short_exposure\": 0.0, \"max_leverage\": 3214.2215155893014, \"sharpe\": 0.2696646195297601, \"starting_exposure\": 502493.17391304346, \"trading_days\": 571.0, \"beta\": -2.745050059712647, \"pnl\": 2167.5114782608653, \"treasury_period_return\": 0.0, \"price\": 158.91434782608695, \"long_exposure\": 492874.47826086957, \"shorts_count\": 0.0, \"longs_count\": 1.0, \"net_leverage\": 0.9603679151072771, \"starting_value\": 502493.17391304346, \"portfolio_value\": 514325.9028956614, \"starting_cash\": 9665.217504357124, \"alpha\": 76294.11418658892, \"algo_volatility\": 40.551480038874864, \"benchmark_volatility\": 0.2193195653664935, \"long_value\": 492874.47826086957, \"ending_cash\": 21451.4246347919, \"ending_exposure\": 492874.47826086957, \"algorithm_period_return\": 4.143259028956728, \"capital_used\": 11786.20713043478, \"max_drawdown\": -1.2623846725243946, \"date\": \"2017-08-31T00:00:00\", \"sortino\": 0.5918139014130258, \"short_value\": 0.0, \"gross_leverage\": 0.9603679151072771}, {\"excess_return\": 0.0, \"ending_value\": 275411.15, \"benchmark_period_return\": 0.5934639962784372, \"returns\": -0.0015232916352679537, \"short_exposure\": 0.0, \"max_leverage\": 3214.2215155893005, \"sharpe\": 0.2647866744141697, \"starting_exposure\": 274907.35, \"trading_days\": 592.5, \"beta\": -2.69232271144434, \"pnl\": -799.230324999991, \"treasury_period_return\": 0.0, \"price\": 157.6065, \"long_exposure\": 275411.15, \"shorts_count\": 0.0, \"longs_count\": 1.0, \"net_leverage\": 0.5335037307146229, \"starting_value\": 274907.35, \"portfolio_value\": 516462.4580750094, \"starting_cash\": 242354.33840000938, \"alpha\": 54477.35101039093, \"algo_volatility\": 39.807283777923885, \"benchmark_volatility\": 0.21779055108503864, \"long_value\": 275411.15, \"ending_cash\": 241051.30807500938, \"ending_exposure\": 275411.15, \"algorithm_period_return\": 4.164624580750209, \"capital_used\": -1303.0303250000084, \"max_drawdown\": -1.2623846725243946, \"date\": \"2017-09-30T00:00:00\", \"sortino\": 0.5810929018262022, \"short_value\": 0.0, \"gross_leverage\": 0.5335037307146229}, {\"excess_return\": 0.0, \"ending_value\": 546228.7772727273, \"benchmark_period_return\": 0.6345963367484857, \"returns\": 0.005051460479407501, \"short_exposure\": 0.0, \"max_leverage\": 3214.221515589301, \"sharpe\": 0.26036901443830546, \"starting_exposure\": 527764.9590909091, \"trading_days\": 613.5, \"beta\": -2.66949426751241, \"pnl\": 2674.6639636363598, \"treasury_period_return\": 0.0, \"price\": 157.81163636363635, \"long_exposure\": 546228.7772727273, \"shorts_count\": 0.0, \"longs_count\": 1.0, \"net_leverage\": 1.0395829001389658, \"starting_value\": 527764.9590909091, \"portfolio_value\": 523612.07509773684, \"starting_cash\": -6827.547956808772, \"alpha\": 38786.98615559939, \"algo_volatility\": 39.119289020009965, \"benchmark_volatility\": 0.21508557808469722, \"long_value\": 546228.7772727273, \"ending_cash\": -22616.702174990598, \"ending_exposure\": 546228.7772727273, \"algorithm_period_return\": 4.236120750977485, \"capital_used\": -15789.154218181817, \"max_drawdown\": -1.2623846725243946, \"date\": \"2017-10-31T00:00:00\", \"sortino\": 0.5713840695187963, \"short_value\": 0.0, \"gross_leverage\": 1.0395829001389658}, {\"excess_return\": 0.0, \"ending_value\": 895460.2857142857, \"benchmark_period_return\": 0.6773871608237402, \"returns\": 0.0012228177704784696, \"short_exposure\": 0.0, \"max_leverage\": 3214.221515589301, \"sharpe\": 0.2571336126454516, \"starting_exposure\": 887493.1428571428, \"trading_days\": 635.0, \"beta\": -2.644574055862048, \"pnl\": 616.4710238095353, \"treasury_period_return\": 0.0, \"price\": 172.33809523809524, \"long_exposure\": 895460.2857142857, \"shorts_count\": 0.0, \"longs_count\": 1.0, \"net_leverage\": 1.526926171034918, \"starting_value\": 887493.1428571428, \"portfolio_value\": 586399.3308047714, \"starting_cash\": -301710.2830761811, \"alpha\": 29183.1289306285, \"algo_volatility\": 38.4501991480363, \"benchmark_volatility\": 0.21247984206558299, \"long_value\": 895460.2857142857, \"ending_cash\": -309060.95490951446, \"ending_exposure\": 895460.2857142857, \"algorithm_period_return\": 4.863993308047847, \"capital_used\": -7350.671833333316, \"max_drawdown\": -1.2623846725243946, \"date\": \"2017-11-30T00:00:00\", \"sortino\": 0.5642701798534103, \"short_value\": 0.0, \"gross_leverage\": 1.526926171034918}, {\"excess_return\": 0.0, \"ending_value\": 795258.14, \"benchmark_period_return\": 0.6431824302818154, \"returns\": -0.0010703685080617697, \"short_exposure\": 0.0, \"max_leverage\": 3214.2215155893005, \"sharpe\": 0.2530356308783475, \"starting_exposure\": 801042.4400000001, \"trading_days\": 655.5, \"beta\": -2.541169089495999, \"pnl\": -662.1846550000016, \"treasury_period_return\": 0.0, \"price\": 171.89310000000003, \"long_exposure\": 795258.14, \"shorts_count\": 0.0, \"longs_count\": 1.0, \"net_leverage\": 1.3675360258473368, \"starting_value\": 801042.4400000001, \"portfolio_value\": 582163.5222950097, \"starting_cash\": -218216.73304999043, \"alpha\": 20417.24290509077, \"algo_volatility\": 37.843235808022776, \"benchmark_volatility\": 0.21238123013675164, \"long_value\": 795258.14, \"ending_cash\": -213094.61770499038, \"ending_exposure\": 795258.14, \"algorithm_period_return\": 4.821635222950231, \"capital_used\": 5122.115345000016, \"max_drawdown\": -1.2623846725243946, \"date\": \"2017-12-31T00:00:00\", \"sortino\": 0.5552654700379108, \"short_value\": 0.0, \"gross_leverage\": 1.3675360258473368}, {\"excess_return\": 0.0, \"ending_value\": 921096.380952381, \"benchmark_period_return\": 0.7598632626911697, \"returns\": -0.0009361558233879759, \"short_exposure\": 0.0, \"max_leverage\": 3214.221515589301, \"sharpe\": 0.2493762826467787, \"starting_exposure\": 917521.380952381, \"trading_days\": 676.0, \"beta\": -2.503062159803541, \"pnl\": -594.6097857142644, \"treasury_period_return\": 0.0, \"price\": 174.00523809523807, \"long_exposure\": 921096.380952381, \"shorts_count\": 0.0, \"longs_count\": 1.0, \"net_leverage\": 1.5524351752216095, \"starting_value\": 917521.380952381, \"portfolio_value\": 593026.8656571526, \"starting_cash\": -323899.9055095141, \"alpha\": 16151.137943230051, \"algo_volatility\": 37.26434454070676, \"benchmark_volatility\": 0.2110795601014289, \"long_value\": 921096.380952381, \"ending_cash\": -328069.5152952284, \"ending_exposure\": 921096.380952381, \"algorithm_period_return\": 4.930268656571664, \"capital_used\": -4169.609785714261, \"max_drawdown\": -1.2623846725243946, \"date\": \"2018-01-31T00:00:00\", \"sortino\": 0.5472242840623137, \"short_value\": 0.0, \"gross_leverage\": 1.5524351752216095}, {\"excess_return\": 0.0, \"ending_value\": 1059884.9736842106, \"benchmark_period_return\": 0.7050915121704856, \"returns\": 0.007500940809849936, \"short_exposure\": 0.0, \"max_leverage\": 3214.2215155893005, \"sharpe\": 0.24538258091204437, \"starting_exposure\": 1039091.0263157894, \"trading_days\": 696.0, \"beta\": -2.3010335223743166, \"pnl\": 4017.595013157918, \"treasury_period_return\": 0.0, \"price\": 167.67868421052628, \"long_exposure\": 1059884.9736842106, \"shorts_count\": 0.0, \"longs_count\": 1.0, \"net_leverage\": 1.867173436121706, \"starting_value\": 1039091.0263157894, \"portfolio_value\": 565966.5182210628, \"starting_cash\": -477142.1031078845, \"alpha\": 11337.627811890625, \"algo_volatility\": 36.724252888361065, \"benchmark_volatility\": 0.2136345990393499, \"long_value\": 1059884.9736842106, \"ending_cash\": -493918.4554631478, \"ending_exposure\": 1059884.9736842106, \"algorithm_period_return\": 4.659665182210757, \"capital_used\": -16776.352355263138, \"max_drawdown\": -1.2623846725243946, \"date\": \"2018-02-28T00:00:00\", \"sortino\": 0.5384491205872753, \"short_value\": 0.0, \"gross_leverage\": 1.867173436121706}, {\"excess_return\": 0.0, \"ending_value\": 1387047.3636363635, \"benchmark_period_return\": 0.6976760232642554, \"returns\": 0.0009058129717906992, \"short_exposure\": 0.0, \"max_leverage\": 3214.221515589302, \"sharpe\": 0.2439571489944106, \"starting_exposure\": 1368835.4545454546, \"trading_days\": 711.0, \"beta\": -2.2051591080828135, \"pnl\": 426.28440909093956, \"treasury_period_return\": 0.0, \"price\": 177.76636363636365, \"long_exposure\": 1387047.3636363635, \"shorts_count\": 0.0, \"longs_count\": 1.0, \"net_leverage\": 2.1925094635540905, \"starting_value\": 1368835.4545454546, \"portfolio_value\": 632386.9332318289, \"starting_cash\": -736874.8057227166, \"alpha\": 9508.46035365844, \"algo_volatility\": 36.333786318704625, \"benchmark_volatility\": 0.21430661696091644, \"long_value\": 1387047.3636363635, \"ending_cash\": -754660.4304045347, \"ending_exposure\": 1387047.3636363635, \"algorithm_period_return\": 5.323869332318433, \"capital_used\": -17785.62468181815, \"max_drawdown\": -1.2623846725243946, \"date\": \"2018-03-31T00:00:00\", \"sortino\": 0.5353137020791038, \"short_value\": 0.0, \"gross_leverage\": 2.1925094635540905}]}, \"hconcat\": [{\"vconcat\": [{\"transform\": [{\"filter\": {\"selection\": \"selector011\"}}], \"encoding\": {\"y\": {\"type\": \"quantitative\", \"field\": \"portfolio_value\"}, \"x\": {\"type\": \"temporal\", \"field\": \"date\"}}, \"width\": 300, \"mark\": {\"strokeWidth\": 3, \"opacity\": 0.7, \"type\": \"line\"}, \"height\": 200}, {\"selection\": {\"selector011\": {\"encodings\": [\"x\"], \"type\": \"interval\"}}, \"encoding\": {\"y\": {\"type\": \"quantitative\", \"field\": \"price\"}, \"color\": {\"type\": \"nominal\", \"field\": \"series\"}, \"x\": {\"type\": \"temporal\", \"field\": \"date\"}}, \"width\": 300, \"mark\": {\"strokeWidth\": 2, \"opacity\": 0.7, \"type\": \"line\"}, \"height\": 200}], \"data\": {\"name\": \"data-c913a6512f4f5a9a57cc3a9d76b44d65\"}, \"title\": \"TA Strategy\"}, {\"vconcat\": [{\"data\": {\"name\": \"data-1b97876ea4ee6460be21e33c9cf62717\"}, \"encoding\": {\"y\": {\"type\": \"quantitative\", \"field\": \"portfolio_value\"}, \"x\": {\"type\": \"temporal\", \"field\": \"date\"}}, \"mark\": {\"strokeWidth\": 3, \"opacity\": 0.7, \"type\": \"line\"}, \"height\": 200, \"transform\": [{\"filter\": {\"selection\": \"selector011\"}}], \"width\": 300}, {\"data\": {\"name\": \"data-c913a6512f4f5a9a57cc3a9d76b44d65\"}, \"selection\": {\"selector011\": {\"encodings\": [\"x\"], \"type\": \"interval\"}}, \"encoding\": {\"y\": {\"type\": \"quantitative\", \"field\": \"price\"}, \"x\": {\"type\": \"temporal\", \"field\": \"date\"}}, \"mark\": {\"strokeWidth\": 3, \"opacity\": 0.7, \"type\": \"line\"}, \"height\": 200, \"width\": 300}], \"title\": \"ML Strategy\"}], \"$schema\": \"https://vega.github.io/schema/vega-lite/v4.8.1.json\"}, {\"mode\": \"vega-lite\"});\n",
       "</script>"
      ],
      "text/plain": [
       "alt.HConcatChart(...)"
      ]
     },
     "execution_count": 24,
     "metadata": {},
     "output_type": "execute_result"
    }
   ],
   "source": [
    "select_time = alt.selection(type=\"interval\",encodings=[\"x\"])\n",
    "\n",
    "portfolio_dma = alt.Chart(dma_series).mark_line(strokeWidth=3, opacity=0.7).encode(\n",
    "    x=\"date\",\n",
    "    y='portfolio_value'\n",
    ").properties(\n",
    "    width=300,\n",
    "    height=200\n",
    ").transform_filter(\n",
    "    select_time\n",
    ")\n",
    "\n",
    "price_dma = alt.Chart(dma_series).mark_line(strokeWidth=2, opacity=0.7).encode(\n",
    "    x=\"date\",\n",
    "    y='price',\n",
    "    color='series',\n",
    ").properties(\n",
    "    width=300,\n",
    "    height=200,\n",
    "    selection=select_time\n",
    ")\n",
    "\n",
    "portfolio_gb = alt.Chart(gb).mark_line(strokeWidth=3, opacity=0.7).encode(\n",
    "    x=\"date\",\n",
    "    y='portfolio_value'\n",
    ").properties(\n",
    "    width=300,\n",
    "    height=200\n",
    ").transform_filter(\n",
    "    select_time\n",
    ")\n",
    "\n",
    "price_gb = alt.Chart(dma_series).mark_line(strokeWidth=3, opacity=0.7).encode(\n",
    "    x=\"date\",\n",
    "    y='price'\n",
    ").properties(\n",
    "    width=300,\n",
    "    height=200,\n",
    "    selection=select_time\n",
    ")\n",
    "\n",
    "chart = (portfolio_dma&price_dma).properties(title='TA Strategy') | (portfolio_gb&price_gb).properties(title='ML Strategy')\n",
    "chart\n",
    "# chart.save('strategies.png')"
   ]
  }
 ],
 "metadata": {
  "kernelspec": {
   "display_name": "Python 3",
   "language": "python",
   "name": "python3"
  },
  "language_info": {
   "codemirror_mode": {
    "name": "ipython",
    "version": 3
   },
   "file_extension": ".py",
   "mimetype": "text/x-python",
   "name": "python",
   "nbconvert_exporter": "python",
   "pygments_lexer": "ipython3",
   "version": "3.5.6"
  }
 },
 "nbformat": 4,
 "nbformat_minor": 4
}
